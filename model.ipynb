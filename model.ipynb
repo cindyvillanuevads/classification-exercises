{
 "cells": [
  {
   "cell_type": "code",
   "execution_count": 1,
   "metadata": {},
   "outputs": [],
   "source": [
    "from sklearn.dummy import DummyClassifier\n",
    "from sklearn.metrics import classification_report\n",
    "import acquire\n",
    "import prepare\n",
    "import model_func as m\n",
    "import pandas as pd\n",
    "from sklearn.tree import DecisionTreeClassifier, plot_tree, export_text\n",
    "from io import StringIO\n",
    "import numpy as np\n",
    "from sklearn.metrics import confusion_matrix\n",
    "from sklearn.metrics import accuracy_score\n",
    "from sklearn.metrics import precision_score\n",
    "from sklearn.metrics import recall_score\n",
    "from sklearn.metrics import classification_report\n",
    "from sklearn.tree import export_graphviz\n",
    "import graphviz\n",
    "from sklearn.ensemble import RandomForestClassifier\n",
    "from sklearn.neighbors import KNeighborsClassifier\n",
    "from sklearn.linear_model import LogisticRegression"
   ]
  },
  {
   "cell_type": "markdown",
   "metadata": {},
   "source": [
    "# Exercise"
   ]
  },
  {
   "cell_type": "markdown",
   "metadata": {},
   "source": [
    "### 1. What is your baseline prediction? What is your baseline accuracy? remember: your baseline prediction for a classification problem is predicting the most prevelant class in the training dataset (the mode). When you make those predictions, what is your accuracy? This is your baseline accuracy."
   ]
  },
  {
   "cell_type": "code",
   "execution_count": null,
   "metadata": {},
   "outputs": [],
   "source": [
    "#acquire data\n",
    "df = acquire.get_titanic_data()"
   ]
  },
  {
   "cell_type": "code",
   "execution_count": null,
   "metadata": {
    "scrolled": true
   },
   "outputs": [],
   "source": [
    "df.head()"
   ]
  },
  {
   "cell_type": "code",
   "execution_count": null,
   "metadata": {},
   "outputs": [],
   "source": [
    "df.shape"
   ]
  },
  {
   "cell_type": "code",
   "execution_count": null,
   "metadata": {},
   "outputs": [],
   "source": [
    "#split data\n",
    "train, validate, test = prepare.prep_titanic_data(df, column = 'age', method = 'median', dummies = ['embarked', 'sex'])\n"
   ]
  },
  {
   "cell_type": "code",
   "execution_count": null,
   "metadata": {},
   "outputs": [],
   "source": [
    "train.shape, validate.shape, test.shape"
   ]
  },
  {
   "cell_type": "code",
   "execution_count": null,
   "metadata": {},
   "outputs": [],
   "source": [
    "train.head(1)"
   ]
  },
  {
   "cell_type": "code",
   "execution_count": null,
   "metadata": {},
   "outputs": [],
   "source": [
    "# drop out non-numerical columns or non-encoded version remaining in this data set.\n",
    "#in this case, it is only 'passaner_id'\n",
    "train.drop(columns = ['passenger_id'], inplace=True)\n",
    "validate.drop(columns = ['passenger_id'], inplace=True)\n",
    "test.drop(columns = ['passenger_id'], inplace=True)"
   ]
  },
  {
   "cell_type": "code",
   "execution_count": null,
   "metadata": {},
   "outputs": [],
   "source": [
    "train.shape, validate.shape, test.shape"
   ]
  },
  {
   "cell_type": "code",
   "execution_count": null,
   "metadata": {
    "scrolled": false
   },
   "outputs": [],
   "source": [
    "train.head(2)"
   ]
  },
  {
   "cell_type": "code",
   "execution_count": null,
   "metadata": {},
   "outputs": [],
   "source": [
    "# We will be attempting to make a Decision Tree Classifier Model that will predict survival on the \n",
    "# Titanic that performs better than the baseline"
   ]
  },
  {
   "cell_type": "code",
   "execution_count": null,
   "metadata": {
    "scrolled": true
   },
   "outputs": [],
   "source": [
    "# we are working with survided. The most prevelant class in the training dataset (the mode)\n",
    "train.survived.value_counts()"
   ]
  },
  {
   "cell_type": "code",
   "execution_count": null,
   "metadata": {
    "scrolled": true
   },
   "outputs": [],
   "source": [
    "train.survived.mode()"
   ]
  },
  {
   "cell_type": "code",
   "execution_count": null,
   "metadata": {},
   "outputs": [],
   "source": [
    "#so the baselined is survived = 0\n",
    "train['baseline'] = 0"
   ]
  },
  {
   "cell_type": "code",
   "execution_count": null,
   "metadata": {},
   "outputs": [],
   "source": [
    "#accuracy\n",
    "(train.baseline == train.survived).mean()"
   ]
  },
  {
   "cell_type": "code",
   "execution_count": null,
   "metadata": {},
   "outputs": [],
   "source": [
    "print(f'The baseline accuracy for nonsurvival in all cases on the Titanic Dataset is {(train.baseline == train.survived).mean():.3}')"
   ]
  },
  {
   "cell_type": "code",
   "execution_count": null,
   "metadata": {},
   "outputs": [],
   "source": [
    "# classification report of baseline model\n",
    "baseline_class_report = classification_report(train.survived, train.baseline, zero_division=True)\n",
    "print(baseline_class_report)"
   ]
  },
  {
   "cell_type": "code",
   "execution_count": null,
   "metadata": {},
   "outputs": [],
   "source": []
  },
  {
   "cell_type": "code",
   "execution_count": null,
   "metadata": {},
   "outputs": [],
   "source": []
  },
  {
   "cell_type": "code",
   "execution_count": null,
   "metadata": {},
   "outputs": [],
   "source": [
    "\n"
   ]
  },
  {
   "cell_type": "code",
   "execution_count": null,
   "metadata": {},
   "outputs": [],
   "source": []
  },
  {
   "cell_type": "code",
   "execution_count": null,
   "metadata": {},
   "outputs": [],
   "source": [
    "# #other way to check the accuracy of baseline\n",
    "# #split \n",
    "# X_train, y_train = train.drop(columns='survived'), train.survived\n",
    "# #as the baseline mode is = 0 , thats why we put constant = 0\n",
    "# # 1. Create the object\n",
    "# baseline = DummyClassifier(strategy='constant', constant=0)\n",
    "# # 2. Fit the object\n",
    "# baseline.fit(X_train, y_train)"
   ]
  },
  {
   "cell_type": "code",
   "execution_count": null,
   "metadata": {},
   "outputs": [],
   "source": [
    "# print(f'Baseline accuracy: %.4f' % baseline.score(X_train, y_train))"
   ]
  },
  {
   "cell_type": "code",
   "execution_count": null,
   "metadata": {},
   "outputs": [],
   "source": []
  },
  {
   "cell_type": "code",
   "execution_count": null,
   "metadata": {},
   "outputs": [],
   "source": []
  },
  {
   "cell_type": "code",
   "execution_count": null,
   "metadata": {},
   "outputs": [],
   "source": []
  },
  {
   "cell_type": "markdown",
   "metadata": {},
   "source": [
    "### 2. Fit the decision tree classifier to your training sample and transform (i.e. make predictions on the training sample)"
   ]
  },
  {
   "cell_type": "code",
   "execution_count": null,
   "metadata": {
    "scrolled": false
   },
   "outputs": [],
   "source": [
    "train.head(1)"
   ]
  },
  {
   "cell_type": "code",
   "execution_count": null,
   "metadata": {},
   "outputs": [],
   "source": [
    "# remove baseline assumption from the train, we wont need this column anymore\n",
    "train.drop(columns='baseline', inplace=True)"
   ]
  },
  {
   "cell_type": "code",
   "execution_count": null,
   "metadata": {},
   "outputs": [],
   "source": [
    "train.head()"
   ]
  },
  {
   "cell_type": "code",
   "execution_count": null,
   "metadata": {},
   "outputs": [],
   "source": [
    "# use the funnction that I create:\n",
    "\n",
    "# X_train, y_train = model.split_Xy(df = train, column = 'survived')\n",
    "# X_validate, y_validate = model.split_Xy(validate, 'survived') \n",
    "# X_test, y_test = model.split_Xy(test, 'survived') \n"
   ]
  },
  {
   "cell_type": "code",
   "execution_count": null,
   "metadata": {},
   "outputs": [],
   "source": [
    "# split our X and y\n",
    "# do the capital X, lowercase y thing for train test and split\n",
    "# X is the data frame of the features, y is a series of the target\n",
    "X_train = train.drop(columns='survived')\n",
    "y_train = train[['survived']]\n",
    "X_validate, y_validate = validate.drop(columns='survived'), validate['survived']\n",
    "X_test, y_test = test.drop(columns='survived'), test['survived']"
   ]
  },
  {
   "cell_type": "code",
   "execution_count": null,
   "metadata": {},
   "outputs": [],
   "source": [
    "# #other way to do the split is decide wich columns we are going to use\n",
    "# X_cols = [ 'pclass','age', 'sex_male','alone', 'embarked_Q', 'embarked_S']\n",
    "# y_col = 'survived'\n",
    "\n",
    "# X_train, y_train = train[X_cols], train[y_col]\n",
    "# X_train, y_train = train[X_cols], train[y_col]\n",
    "# X_validate, y_validate = validate[X_cols], validate[y_col]\n",
    "# X_test, y_test = test[X_cols], test[y_col]"
   ]
  },
  {
   "cell_type": "code",
   "execution_count": null,
   "metadata": {
    "scrolled": true
   },
   "outputs": [],
   "source": [
    "X_train.head(1)"
   ]
  },
  {
   "cell_type": "code",
   "execution_count": null,
   "metadata": {
    "scrolled": true
   },
   "outputs": [],
   "source": [
    "y_train.head(1)"
   ]
  },
  {
   "cell_type": "code",
   "execution_count": null,
   "metadata": {},
   "outputs": [],
   "source": [
    "X_train.shape, y_train.shape"
   ]
  },
  {
   "cell_type": "code",
   "execution_count": null,
   "metadata": {},
   "outputs": [],
   "source": [
    "# create the model\n",
    "model = DecisionTreeClassifier()\n",
    "# fit the model\n",
    "model.fit(X_train, y_train)"
   ]
  },
  {
   "cell_type": "code",
   "execution_count": null,
   "metadata": {
    "scrolled": true
   },
   "outputs": [],
   "source": [
    "#calculate the accuracy\n",
    "acc = model.score(X_train, y_train)\n",
    "acc"
   ]
  },
  {
   "cell_type": "code",
   "execution_count": null,
   "metadata": {
    "scrolled": false
   },
   "outputs": [],
   "source": [
    "\n",
    "# look at the model scores for training set and validate set\n",
    "print(f'training score: {model.score(X_train, y_train):.2%}')\n",
    "print(f'validate score: {model.score(X_validate, y_validate):.2%}')"
   ]
  },
  {
   "cell_type": "code",
   "execution_count": null,
   "metadata": {},
   "outputs": [],
   "source": [
    "\n",
    "import matplotlib.pyplot as plt\n",
    "plt.figure(figsize=(24, 12))\n",
    "plot_tree(\n",
    "    model,\n",
    "    feature_names=X_train.columns.tolist(),\n",
    "    class_names=['died', 'survived'],\n",
    ")\n",
    "plt.show()"
   ]
  },
  {
   "cell_type": "code",
   "execution_count": null,
   "metadata": {},
   "outputs": [],
   "source": [
    "#as the difference between train and validate is big. I will use  max_features and max_depth\n",
    "#when score.train > score.validate means overfit"
   ]
  },
  {
   "cell_type": "code",
   "execution_count": null,
   "metadata": {},
   "outputs": [],
   "source": [
    "# create the model\n",
    "model1 = DecisionTreeClassifier(max_depth=3, max_features=3)\n",
    "# fit the model\n",
    "model1.fit(X_train, y_train)"
   ]
  },
  {
   "cell_type": "code",
   "execution_count": null,
   "metadata": {},
   "outputs": [],
   "source": [
    "# look at the model scores for training set and validate set\n",
    "print(f'training score: {model1.score(X_train, y_train):.2%}')\n",
    "print(f'validate score: {model1.score(X_validate, y_validate):.2%}')"
   ]
  },
  {
   "cell_type": "code",
   "execution_count": null,
   "metadata": {},
   "outputs": [],
   "source": [
    "\n",
    "import matplotlib.pyplot as plt\n",
    "plt.figure(figsize=(24, 12))\n",
    "plot_tree(\n",
    "    model1,\n",
    "    feature_names=X_train.columns.tolist(),\n",
    "    class_names=['died', 'survived'],\n",
    ")\n",
    "plt.show()"
   ]
  },
  {
   "cell_type": "code",
   "execution_count": null,
   "metadata": {},
   "outputs": [],
   "source": []
  },
  {
   "cell_type": "code",
   "execution_count": null,
   "metadata": {},
   "outputs": [],
   "source": [
    "#prediction based on our model1\n",
    "prediction = model1.predict(X_train)"
   ]
  },
  {
   "cell_type": "code",
   "execution_count": null,
   "metadata": {
    "scrolled": true
   },
   "outputs": [],
   "source": [
    "prediction"
   ]
  },
  {
   "cell_type": "code",
   "execution_count": null,
   "metadata": {},
   "outputs": [],
   "source": [
    "pd.Series(prediction).value_counts()"
   ]
  },
  {
   "cell_type": "code",
   "execution_count": null,
   "metadata": {
    "scrolled": true
   },
   "outputs": [],
   "source": [
    "#confusion matrix\n",
    "conf_m = confusion_matrix(y_train, prediction )\n",
    "conf_m"
   ]
  },
  {
   "cell_type": "code",
   "execution_count": null,
   "metadata": {},
   "outputs": [],
   "source": [
    "#check if rows or columns have the actual number. in this case rows has the actual number\n",
    "train.survived.value_counts()"
   ]
  },
  {
   "cell_type": "code",
   "execution_count": null,
   "metadata": {},
   "outputs": [],
   "source": [
    " #just to see\n",
    "mat =  pd.DataFrame ((confusion_matrix(y_train, prediction )),index = ['actual_dead','actual_survived'], columns =['pred_dead','pred_survived' ])\n",
    "mat"
   ]
  },
  {
   "cell_type": "code",
   "execution_count": null,
   "metadata": {},
   "outputs": [],
   "source": [
    "rubric_df = pd.DataFrame([['True Negative', 'False positive'], ['False Negative', 'True Positive']], columns=mat.columns, index=mat.index)\n",
    "rubric_df"
   ]
  },
  {
   "cell_type": "code",
   "execution_count": null,
   "metadata": {
    "scrolled": true
   },
   "outputs": [],
   "source": [
    "r = rubric_df + ': ' + mat.values.astype(str)\n",
    "r"
   ]
  },
  {
   "cell_type": "code",
   "execution_count": null,
   "metadata": {},
   "outputs": [],
   "source": [
    "type(r)"
   ]
  },
  {
   "cell_type": "code",
   "execution_count": null,
   "metadata": {
    "scrolled": true
   },
   "outputs": [],
   "source": [
    "conf_m"
   ]
  },
  {
   "cell_type": "code",
   "execution_count": null,
   "metadata": {},
   "outputs": [],
   "source": [
    "conf_m[0,0]"
   ]
  },
  {
   "cell_type": "markdown",
   "metadata": {},
   "source": [
    "positive = survived\n",
    "\n",
    "these calculate the rates\n",
    "- tpr = tp/(tp+fn)\n",
    "- fpr = fp/(fp+tn)\n",
    "- tnr = tn/(tn+fp)\n",
    "- fnr = fn/(fn+tp)\n",
    "\n",
    "https://en.wikipedia.org/wiki/Confusion_matrix"
   ]
  },
  {
   "cell_type": "code",
   "execution_count": null,
   "metadata": {},
   "outputs": [],
   "source": [
    "#assign the values\n",
    "tp = conf_m[1,1]\n",
    "fp =conf_m[0,1] \n",
    "fn= conf_m[1,0]\n",
    "tn =conf_m[0,0]"
   ]
  },
  {
   "cell_type": "code",
   "execution_count": null,
   "metadata": {},
   "outputs": [],
   "source": [
    "#calculate the rate\n",
    "tpr = tp/(tp+fn)\n",
    "fpr = fp/(fp+tn)\n",
    "tnr = tn/(tn+fp)\n",
    "fnr = fn/(fn+tp)"
   ]
  },
  {
   "cell_type": "code",
   "execution_count": null,
   "metadata": {},
   "outputs": [],
   "source": [
    "#     matrix = confusion_matrix(y, model.predict(X))\n",
    "#     tpr = matrix[1,1] / (matrix[1,1] + matrix[1,0])\n",
    "#     fpr = matrix[0,1] / (matrix[0,1] + matrix[0,0])\n",
    "#     tnr = matrix[0,0] / (matrix[0,0] + matrix[0,1])\n",
    "#     fnr = matrix[1,0] / (matrix[1,1] + matrix[1,0])"
   ]
  },
  {
   "cell_type": "code",
   "execution_count": null,
   "metadata": {},
   "outputs": [],
   "source": [
    "#calculate the accuracy\n",
    "acc = model1.score(X_train, y_train)\n",
    "acc"
   ]
  },
  {
   "cell_type": "code",
   "execution_count": null,
   "metadata": {},
   "outputs": [],
   "source": [
    "print(f'''\n",
    "The accuracy for our model is {acc:.4}\n",
    "The True Positive Rate is {tpr:.3}, The False Positive Rate is {fpr:.3},\n",
    "The True Negative Rate is {tnr:.3}, and the False Negative Rate is {fnr:.3}\n",
    "''')"
   ]
  },
  {
   "cell_type": "code",
   "execution_count": null,
   "metadata": {
    "scrolled": true
   },
   "outputs": [],
   "source": [
    "#classification report\n",
    "clas_rep =pd.DataFrame(classification_report(y_train, prediction, output_dict=True)).T\n",
    "clas_rep"
   ]
  },
  {
   "cell_type": "code",
   "execution_count": null,
   "metadata": {},
   "outputs": [],
   "source": [
    "pd.Series(dict(zip(X_train.columns, model1.feature_importances_)))"
   ]
  },
  {
   "cell_type": "markdown",
   "metadata": {},
   "source": [
    "**********************"
   ]
  },
  {
   "cell_type": "markdown",
   "metadata": {},
   "source": [
    "## other models"
   ]
  },
  {
   "cell_type": "code",
   "execution_count": null,
   "metadata": {},
   "outputs": [],
   "source": [
    "model11 = DecisionTreeClassifier(max_depth=3, max_features= 4)\n",
    "model11.fit(X_train, y_train)\n",
    "print(f'training score: {model11.score(X_train, y_train):.2%}')\n"
   ]
  },
  {
   "cell_type": "code",
   "execution_count": null,
   "metadata": {
    "scrolled": true
   },
   "outputs": [],
   "source": [
    "\n",
    "import matplotlib.pyplot as plt\n",
    "plt.figure(figsize=(24, 12))\n",
    "plot_tree(\n",
    "    model11,\n",
    "    feature_names=X_train.columns.tolist(),\n",
    "    class_names=['died', 'survived'],\n",
    ")\n",
    "plt.show()"
   ]
  },
  {
   "cell_type": "code",
   "execution_count": null,
   "metadata": {},
   "outputs": [],
   "source": [
    "pd.Series(dict(zip(X_train.columns, model11.feature_importances_)))"
   ]
  },
  {
   "cell_type": "code",
   "execution_count": null,
   "metadata": {},
   "outputs": [],
   "source": [
    "\n",
    "model2 = DecisionTreeClassifier(max_depth=3)\n",
    "model2.fit(X_train, y_train)\n",
    "\n",
    "print(f'training score: {model2.score(X_train, y_train):.2%}')\n",
    "print(f'validate score: {model2.score(X_validate, y_validate):.2%}')"
   ]
  },
  {
   "cell_type": "code",
   "execution_count": null,
   "metadata": {
    "scrolled": true
   },
   "outputs": [],
   "source": [
    "# we want traning score < validate score.\n",
    "# an aceptable range is a diff of 5%"
   ]
  },
  {
   "cell_type": "code",
   "execution_count": null,
   "metadata": {},
   "outputs": [],
   "source": [
    "\n",
    "import matplotlib.pyplot as plt\n",
    "plt.figure(figsize=(24, 12))\n",
    "plot_tree(\n",
    "    model2,\n",
    "    feature_names=X_train.columns.tolist(),\n",
    "    class_names=['died', 'survived'],\n",
    ")\n",
    "plt.show()"
   ]
  },
  {
   "cell_type": "code",
   "execution_count": null,
   "metadata": {},
   "outputs": [],
   "source": [
    "pd.Series(dict(zip(X_train.columns, model2.feature_importances_)))"
   ]
  },
  {
   "cell_type": "markdown",
   "metadata": {},
   "source": [
    "### 3. Evaluate your in-sample results using the model score, confusion matrix, and classification report."
   ]
  },
  {
   "cell_type": "code",
   "execution_count": null,
   "metadata": {},
   "outputs": [],
   "source": [
    "# ****************compute metrics on the TRAIN set"
   ]
  },
  {
   "cell_type": "code",
   "execution_count": null,
   "metadata": {},
   "outputs": [],
   "source": [
    "#prediction based on our model\n",
    "prediction = model.predict(X_train)"
   ]
  },
  {
   "cell_type": "code",
   "execution_count": null,
   "metadata": {
    "scrolled": false
   },
   "outputs": [],
   "source": [
    "prediction"
   ]
  },
  {
   "cell_type": "code",
   "execution_count": null,
   "metadata": {},
   "outputs": [],
   "source": []
  },
  {
   "cell_type": "code",
   "execution_count": null,
   "metadata": {},
   "outputs": [],
   "source": [
    "# check out the values in the predictions. we cannot use value_counts in array thats whay we conver it to pd.series\n",
    "pd.Series(prediction).value_counts()"
   ]
  },
  {
   "cell_type": "code",
   "execution_count": null,
   "metadata": {
    "scrolled": true
   },
   "outputs": [],
   "source": [
    "#model Score: Accuracy\n",
    "\n",
    "acc = model1.score(X_train, y_train)\n",
    "acc"
   ]
  },
  {
   "cell_type": "code",
   "execution_count": null,
   "metadata": {},
   "outputs": [],
   "source": [
    "train.head(1)"
   ]
  },
  {
   "cell_type": "code",
   "execution_count": null,
   "metadata": {},
   "outputs": [],
   "source": [
    "#these are the actual numbers\n",
    "train.survived.value_counts()"
   ]
  },
  {
   "cell_type": "code",
   "execution_count": null,
   "metadata": {},
   "outputs": [],
   "source": [
    "#check if you change the order of labels"
   ]
  },
  {
   "cell_type": "code",
   "execution_count": null,
   "metadata": {},
   "outputs": [],
   "source": [
    "confusion_matrix(y_train, prediction)"
   ]
  },
  {
   "cell_type": "code",
   "execution_count": null,
   "metadata": {},
   "outputs": [],
   "source": [
    "confusion_matrix(y_train, prediction, labels=(1, 0) ) "
   ]
  },
  {
   "cell_type": "code",
   "execution_count": null,
   "metadata": {
    "scrolled": true
   },
   "outputs": [],
   "source": [
    "confusion_matrix(y_train, prediction, labels=(0, 1) )#this is the default"
   ]
  },
  {
   "cell_type": "code",
   "execution_count": null,
   "metadata": {},
   "outputs": [],
   "source": [
    "#the rows are the actual dead  because 0 + 307 = 307, \n",
    "confusion_matrix(y_train, prediction)"
   ]
  },
  {
   "cell_type": "code",
   "execution_count": null,
   "metadata": {},
   "outputs": [],
   "source": [
    "cm= pd.DataFrame ((confusion_matrix(y_train, prediction )),index = ['actual_dead','actual_survived'], columns =['pred_dead','pred_survived' ])"
   ]
  },
  {
   "cell_type": "code",
   "execution_count": null,
   "metadata": {},
   "outputs": [],
   "source": [
    "cm"
   ]
  },
  {
   "cell_type": "code",
   "execution_count": null,
   "metadata": {},
   "outputs": [],
   "source": [
    "#model Score: Accuracy\n",
    "\n",
    "acc = model1.score(X_train, y_train)\n",
    "acc"
   ]
  },
  {
   "cell_type": "code",
   "execution_count": null,
   "metadata": {},
   "outputs": [],
   "source": [
    "pd.DataFrame(classification_report(y_train, prediction, output_dict=True)).T"
   ]
  },
  {
   "cell_type": "code",
   "execution_count": null,
   "metadata": {},
   "outputs": [],
   "source": []
  },
  {
   "cell_type": "code",
   "execution_count": null,
   "metadata": {},
   "outputs": [],
   "source": []
  },
  {
   "cell_type": "markdown",
   "metadata": {},
   "source": [
    "### 4. Compute: Accuracy, true positive rate, false positive rate, true negative rate, false negative rate, precision, recall, f1-score, and support."
   ]
  },
  {
   "cell_type": "code",
   "execution_count": null,
   "metadata": {},
   "outputs": [],
   "source": [
    "#### on the validate set *****\n"
   ]
  },
  {
   "cell_type": "markdown",
   "metadata": {},
   "source": [
    "- positive is : survived\n",
    "- True Positive: predict survived and it is survived\n",
    "- True Negative: predict death and it is death\n",
    "- False Positive: predict survived and it is death\n",
    "- False Negative: predict death and it is survived"
   ]
  },
  {
   "cell_type": "code",
   "execution_count": null,
   "metadata": {},
   "outputs": [],
   "source": [
    "# print the model score on the validate set\n",
    "print(f'validate score: {model1.score(X_validate, y_validate):.2%}')"
   ]
  },
  {
   "cell_type": "code",
   "execution_count": null,
   "metadata": {},
   "outputs": [],
   "source": [
    "val_pred = model1.predict(X_validate)"
   ]
  },
  {
   "cell_type": "code",
   "execution_count": null,
   "metadata": {
    "scrolled": true
   },
   "outputs": [],
   "source": []
  },
  {
   "cell_type": "code",
   "execution_count": null,
   "metadata": {},
   "outputs": [],
   "source": [
    "validate.survived.value_counts()"
   ]
  },
  {
   "cell_type": "code",
   "execution_count": null,
   "metadata": {
    "scrolled": true
   },
   "outputs": [],
   "source": [
    "confusion_matrix(validate.survived, val_pred)"
   ]
  },
  {
   "cell_type": "code",
   "execution_count": null,
   "metadata": {},
   "outputs": [],
   "source": [
    "cm2= confusion_matrix(y_validate, val_pred)"
   ]
  },
  {
   "cell_type": "code",
   "execution_count": null,
   "metadata": {},
   "outputs": [],
   "source": [
    "#just to see\n",
    "pd.DataFrame (confusion_matrix(y_validate, val_pred),index = ['actual_death','actual_survived'], columns =['pred_death','pred_survived' ] )"
   ]
  },
  {
   "cell_type": "code",
   "execution_count": null,
   "metadata": {},
   "outputs": [],
   "source": []
  },
  {
   "cell_type": "code",
   "execution_count": null,
   "metadata": {},
   "outputs": [],
   "source": [
    "\n"
   ]
  },
  {
   "cell_type": "code",
   "execution_count": null,
   "metadata": {},
   "outputs": [],
   "source": [
    "#psitive : survived\n",
    "#assign the values\n",
    "tp = cm2[1,1]\n",
    "fp =cm2[0,1] \n",
    "fn= cm2[1,0]\n",
    "tn =cm2[0,0]"
   ]
  },
  {
   "cell_type": "code",
   "execution_count": null,
   "metadata": {},
   "outputs": [],
   "source": [
    "#calculate the rate\n",
    "tpr = tp/(tp+fn)\n",
    "fpr = fp/(fp+tn)\n",
    "tnr = tn/(tn+fp)\n",
    "fnr = fn/(fn+tp)"
   ]
  },
  {
   "cell_type": "code",
   "execution_count": null,
   "metadata": {},
   "outputs": [],
   "source": [
    "print(f'''\n",
    "\n",
    "The True Positive Rate is {tpr:.3}, The False Positive Rate is {fpr:.3},\n",
    "The True Negative Rate is {tnr:.3}, and the False Negative Rate is {fnr:.3}\n",
    "''')"
   ]
  },
  {
   "cell_type": "code",
   "execution_count": null,
   "metadata": {},
   "outputs": [],
   "source": [
    "#accuracy\n",
    "acc_model1 =accuracy_score(y_validate, val_pred)\n",
    "acc_model1"
   ]
  },
  {
   "cell_type": "code",
   "execution_count": null,
   "metadata": {},
   "outputs": [],
   "source": [
    "#precision\n",
    "prec_model1= precision_score(y_validate, val_pred, pos_label = 1 )\n",
    "prec_model1"
   ]
  },
  {
   "cell_type": "code",
   "execution_count": null,
   "metadata": {},
   "outputs": [],
   "source": [
    "#recall\n",
    "rec_model1= recall_score(y_validate, val_pred, pos_label = 1 )\n",
    "rec_model1"
   ]
  },
  {
   "cell_type": "code",
   "execution_count": null,
   "metadata": {},
   "outputs": [],
   "source": [
    "df = pd.DataFrame(classification_report(y_validate, val_pred, output_dict= True))\n",
    "df"
   ]
  },
  {
   "cell_type": "code",
   "execution_count": null,
   "metadata": {
    "scrolled": true
   },
   "outputs": [],
   "source": []
  },
  {
   "cell_type": "code",
   "execution_count": null,
   "metadata": {
    "scrolled": true
   },
   "outputs": [],
   "source": [
    "df.rename(columns={'0': \"dead\", '1': \"survived\"}, inplace = True)"
   ]
  },
  {
   "cell_type": "code",
   "execution_count": null,
   "metadata": {},
   "outputs": [],
   "source": [
    "df.T"
   ]
  },
  {
   "cell_type": "markdown",
   "metadata": {},
   "source": [
    "### 5. Run through steps 2-4 using a different max_depth value."
   ]
  },
  {
   "cell_type": "code",
   "execution_count": null,
   "metadata": {},
   "outputs": [],
   "source": []
  },
  {
   "cell_type": "code",
   "execution_count": null,
   "metadata": {
    "scrolled": true
   },
   "outputs": [],
   "source": [
    "\n",
    "model2 = DecisionTreeClassifier(max_depth=2)\n",
    "model2.fit(X_train, y_train)\n",
    "\n",
    "print(f'training score: {model2.score(X_train, y_train):.2%}')\n",
    "print(f'validate score: {model2.score(X_validate, y_validate):.2%}')"
   ]
  },
  {
   "cell_type": "code",
   "execution_count": null,
   "metadata": {},
   "outputs": [],
   "source": [
    "pd.Series(dict(zip(X_train.columns, model2.feature_importances_)))"
   ]
  },
  {
   "cell_type": "code",
   "execution_count": null,
   "metadata": {
    "scrolled": false
   },
   "outputs": [],
   "source": [
    "#using my function import model \n",
    "m.model_performs(X_train, y_train, model2)"
   ]
  },
  {
   "cell_type": "code",
   "execution_count": null,
   "metadata": {},
   "outputs": [],
   "source": [
    "#if I want to see a dec_tree\n",
    "m.dec_tree(model2, X_train)"
   ]
  },
  {
   "cell_type": "code",
   "execution_count": null,
   "metadata": {
    "scrolled": true
   },
   "outputs": [],
   "source": [
    "model3 = DecisionTreeClassifier(max_depth= 5)\n",
    "model3.fit(X_train, y_train)\n",
    "\n",
    "print(f'training score: {model3.score(X_train, y_train):.2%}')\n",
    "print(f'validate score: {model3.score(X_validate, y_validate):.2%}')"
   ]
  },
  {
   "cell_type": "code",
   "execution_count": null,
   "metadata": {
    "scrolled": true
   },
   "outputs": [],
   "source": [
    "#using my function import model \n",
    "m.model_performs(X_train, y_train, model3)"
   ]
  },
  {
   "cell_type": "code",
   "execution_count": null,
   "metadata": {},
   "outputs": [],
   "source": [
    "#if I want to see a dec_tree\n",
    "m.dec_tree(model3, X_train)"
   ]
  },
  {
   "cell_type": "code",
   "execution_count": null,
   "metadata": {},
   "outputs": [],
   "source": [
    "#accuracy\n",
    "acc_model2 =accuracy_score(train.survived, train.prediction_2)"
   ]
  },
  {
   "cell_type": "code",
   "execution_count": null,
   "metadata": {},
   "outputs": [],
   "source": [
    "#precision\n",
    "prec_model2 =precision_score(train.survived, train.prediction_2, pos_label = 1 )"
   ]
  },
  {
   "cell_type": "code",
   "execution_count": null,
   "metadata": {},
   "outputs": [],
   "source": [
    "#recall\n",
    "rec_model2= recall_score(train.survived, train.prediction_2, pos_label = 1 )"
   ]
  },
  {
   "cell_type": "markdown",
   "metadata": {},
   "source": [
    "### 6. Which model performs better on your in-sample data? (aka TRAIN set)"
   ]
  },
  {
   "cell_type": "code",
   "execution_count": null,
   "metadata": {},
   "outputs": [],
   "source": [
    "# model1 using my func\n",
    "model1 = DecisionTreeClassifier(max_depth=3, max_features=3)\n",
    "\n",
    "model1.fit(X_train, y_train)"
   ]
  },
  {
   "cell_type": "code",
   "execution_count": null,
   "metadata": {},
   "outputs": [],
   "source": [
    "m.model_performs(X_train, y_train, model1)"
   ]
  },
  {
   "cell_type": "code",
   "execution_count": null,
   "metadata": {},
   "outputs": [],
   "source": [
    "#if I want to see a dec_tree\n",
    "model.dec_tree(model1, X_train)"
   ]
  },
  {
   "cell_type": "markdown",
   "metadata": {},
   "source": [
    "### 7.Which model performs best on your out-of-sample data, the validate set? (aka the VALIDATE set)"
   ]
  },
  {
   "cell_type": "code",
   "execution_count": null,
   "metadata": {},
   "outputs": [],
   "source": [
    "# get predictions for our validation sets\n",
    "val_pred_1 = model1.predict(X_validate)\n",
    "val_pred_2 = model2.predict(X_validate)\n",
    "val_pred_3 = model3.predict(X_validate)\n"
   ]
  },
  {
   "cell_type": "code",
   "execution_count": null,
   "metadata": {},
   "outputs": [],
   "source": [
    "# get validation accuracy\n",
    "acc_v_1 = model1.score(X_validate, y_validate)\n",
    "acc_v_2 = model2.score(X_validate, y_validate)\n",
    "acc_v_3 = model3.score(X_validate, y_validate)\n"
   ]
  },
  {
   "cell_type": "code",
   "execution_count": null,
   "metadata": {},
   "outputs": [],
   "source": [
    "acc_v_1, acc_v_2, acc_v_3"
   ]
  },
  {
   "cell_type": "code",
   "execution_count": null,
   "metadata": {},
   "outputs": [],
   "source": [
    "# look at the model scores for training set and validate set\n",
    "print(f'training score: {model1.score(X_train, y_train):.2%}')\n",
    "print(f'validate score: {model1.score(X_validate, y_validate):.2%}')"
   ]
  },
  {
   "cell_type": "code",
   "execution_count": null,
   "metadata": {},
   "outputs": [],
   "source": [
    "\n",
    "# look at the model scores for training set and validate set\n",
    "print(f'training score: {model1.score(X_train, y_train):.2%}')\n",
    "print(f'validate score: {model1.score(X_validate, y_validate):.2%}')"
   ]
  },
  {
   "cell_type": "code",
   "execution_count": null,
   "metadata": {},
   "outputs": [],
   "source": [
    "\n",
    "# look at the model scores for training set and validate set\n",
    "print(f'training score: {model2.score(X_train, y_train):.2%}')\n",
    "print(f'validate score: {model2.score(X_validate, y_validate):.2%}')"
   ]
  },
  {
   "cell_type": "code",
   "execution_count": null,
   "metadata": {
    "scrolled": true
   },
   "outputs": [],
   "source": [
    "# look at the model scores for training set and validate set\n",
    "print(f'training score: {model3.score(X_train, y_train):.2%}')\n",
    "print(f'validate score: {model3.score(X_validate, y_validate):.2%}')"
   ]
  },
  {
   "cell_type": "code",
   "execution_count": null,
   "metadata": {},
   "outputs": [],
   "source": [
    ":\n",
    "# \n",
    "# \n",
    "# We see here a very significant drop-off on model ,\n",
    "# where we did not specify a maximum depth, \n",
    "# suggesting it was very overfit to the training set\n",
    "# training score >>> validate score = overfit\n",
    "# b\n",
    "# \n",
    "#"
   ]
  },
  {
   "cell_type": "code",
   "execution_count": null,
   "metadata": {},
   "outputs": [],
   "source": [
    "dot_data = export_graphviz(model1, feature_names= X_train.columns, rounded=True, filled=True, out_file=None)\n",
    "graph = graphviz.Source(dot_data)"
   ]
  },
  {
   "cell_type": "code",
   "execution_count": null,
   "metadata": {},
   "outputs": [],
   "source": [
    "graph.render('titanic_model_1_tree', view=True)"
   ]
  },
  {
   "cell_type": "code",
   "execution_count": null,
   "metadata": {},
   "outputs": [],
   "source": [
    "dot_data = export_graphviz(model3, feature_names= X_train.columns, rounded=True, filled=True, out_file=None)\n",
    "graph = graphviz.Source(dot_data)\n",
    "graph.render('titanic_model_1_tree', view=True)"
   ]
  },
  {
   "cell_type": "markdown",
   "metadata": {},
   "source": [
    "\n"
   ]
  },
  {
   "cell_type": "markdown",
   "metadata": {},
   "source": [
    "# Random Forest"
   ]
  },
  {
   "cell_type": "markdown",
   "metadata": {},
   "source": [
    "### 1. Fit the Random Forest classifier to your training sample and transform (i.e. make predictions on the training sample) setting the random_state accordingly and setting min_samples_leaf = 1 and max_depth = 10."
   ]
  },
  {
   "cell_type": "code",
   "execution_count": 2,
   "metadata": {},
   "outputs": [],
   "source": [
    "#acquire data\n",
    "df = acquire.get_titanic_data()"
   ]
  },
  {
   "cell_type": "code",
   "execution_count": 3,
   "metadata": {},
   "outputs": [],
   "source": [
    "#split data\n",
    "train, validate, test = prepare.prep_titanic_data(df, column = 'age', method = 'median', dummies = ['embarked', 'sex'])\n"
   ]
  },
  {
   "cell_type": "code",
   "execution_count": 4,
   "metadata": {},
   "outputs": [],
   "source": [
    "# drop out non-numerical columns or non-encoded version remaining in this data set.\n",
    "#in this case, it is only 'passaner_id'\n",
    "train.drop(columns = ['passenger_id'], inplace=True)\n",
    "validate.drop(columns = ['passenger_id'], inplace=True)\n",
    "test.drop(columns = ['passenger_id'], inplace=True)"
   ]
  },
  {
   "cell_type": "code",
   "execution_count": 5,
   "metadata": {},
   "outputs": [],
   "source": [
    "# use the funnction that I create:\n",
    "\n",
    "X_train, y_train = m.split_Xy(df = train, column = 'survived')\n",
    "X_validate, y_validate = m.split_Xy(validate, 'survived') \n",
    "X_test, y_test = m.split_Xy(test, 'survived') "
   ]
  },
  {
   "cell_type": "code",
   "execution_count": null,
   "metadata": {
    "scrolled": true
   },
   "outputs": [],
   "source": [
    "# Establish our baseline.  The rate at which the assumption of the majority class matches the real values.  \n",
    "#If a model does not perform better than this, it would not be wise to deploy.\n",
    "baseline = (y_train.value_counts().idxmax() == y_train).mean()\n",
    "baseline"
   ]
  },
  {
   "cell_type": "code",
   "execution_count": null,
   "metadata": {},
   "outputs": [],
   "source": [
    "# create the Random Forest Model\n",
    "rfmodel = RandomForestClassifier(min_samples_leaf=1, max_depth=10, random_state=1349)"
   ]
  },
  {
   "cell_type": "code",
   "execution_count": null,
   "metadata": {},
   "outputs": [],
   "source": [
    "# fit the thing\n",
    "rfmodel.fit(X_train, y_train)"
   ]
  },
  {
   "cell_type": "code",
   "execution_count": null,
   "metadata": {},
   "outputs": [],
   "source": [
    "#this is the next step but I already have it in my function\n",
    "#  use the thing\n",
    "# y_pred = rfmodel.predict(X_train)"
   ]
  },
  {
   "cell_type": "markdown",
   "metadata": {},
   "source": [
    "### 2. Evaluate your results using the model score, confusion matrix, and classification report."
   ]
  },
  {
   "cell_type": "code",
   "execution_count": null,
   "metadata": {},
   "outputs": [],
   "source": [
    "m.model_performs(X_train, y_train, rfmodel)"
   ]
  },
  {
   "cell_type": "markdown",
   "metadata": {},
   "source": [
    "### 3. Print and clearly label the following: Accuracy, true positive rate, false positive rate, true negative rate, false negative rate, precision, recall, f1-score, and support."
   ]
  },
  {
   "cell_type": "code",
   "execution_count": null,
   "metadata": {},
   "outputs": [],
   "source": [
    "m.model_performs(X_train, y_train, rfmodel)"
   ]
  },
  {
   "cell_type": "markdown",
   "metadata": {},
   "source": [
    "### 4. Run through steps increasing your min_samples_leaf and decreasing your max_depth."
   ]
  },
  {
   "cell_type": "code",
   "execution_count": null,
   "metadata": {},
   "outputs": [],
   "source": [
    "# create the Random Forest Model\n",
    "rfmod2 = RandomForestClassifier(min_samples_leaf=4, max_depth=4, random_state=1349)\n",
    "\n",
    "# fit the model\n",
    "rfmod2.fit(X_train, y_train)"
   ]
  },
  {
   "cell_type": "code",
   "execution_count": null,
   "metadata": {},
   "outputs": [],
   "source": [
    "m.model_performs(X_train, y_train, rfmod2)"
   ]
  },
  {
   "cell_type": "markdown",
   "metadata": {},
   "source": [
    "### 5. What are the differences in the evaluation metrics? Which performs better on your in-sample data? Why?"
   ]
  },
  {
   "cell_type": "code",
   "execution_count": null,
   "metadata": {},
   "outputs": [],
   "source": [
    "m.model_performs(X_validate, y_validate, rfmodel)"
   ]
  },
  {
   "cell_type": "markdown",
   "metadata": {},
   "source": [
    "model.model_performs(X_validate, y_validate, rfmod2)"
   ]
  },
  {
   "cell_type": "markdown",
   "metadata": {},
   "source": [
    "### After making a few models, which one has the best performance (or closest metrics) on both train and validate?"
   ]
  },
  {
   "cell_type": "markdown",
   "metadata": {},
   "source": [
    "# KNN Exercises"
   ]
  },
  {
   "cell_type": "markdown",
   "metadata": {},
   "source": [
    "### 1. Fit a K-Nearest Neighbors classifier to your training sample and transform (i.e. make predictions on the training sample)"
   ]
  },
  {
   "cell_type": "code",
   "execution_count": 31,
   "metadata": {},
   "outputs": [
    {
     "data": {
      "text/html": [
       "<div>\n",
       "<style scoped>\n",
       "    .dataframe tbody tr th:only-of-type {\n",
       "        vertical-align: middle;\n",
       "    }\n",
       "\n",
       "    .dataframe tbody tr th {\n",
       "        vertical-align: top;\n",
       "    }\n",
       "\n",
       "    .dataframe thead th {\n",
       "        text-align: right;\n",
       "    }\n",
       "</style>\n",
       "<table border=\"1\" class=\"dataframe\">\n",
       "  <thead>\n",
       "    <tr style=\"text-align: right;\">\n",
       "      <th></th>\n",
       "      <th>age</th>\n",
       "      <th>pclass</th>\n",
       "      <th>fare</th>\n",
       "      <th>sex_male</th>\n",
       "    </tr>\n",
       "  </thead>\n",
       "  <tbody>\n",
       "    <tr>\n",
       "      <th>583</th>\n",
       "      <td>36.0</td>\n",
       "      <td>1</td>\n",
       "      <td>40.125</td>\n",
       "      <td>1</td>\n",
       "    </tr>\n",
       "  </tbody>\n",
       "</table>\n",
       "</div>"
      ],
      "text/plain": [
       "      age  pclass    fare  sex_male\n",
       "583  36.0       1  40.125         1"
      ]
     },
     "execution_count": 31,
     "metadata": {},
     "output_type": "execute_result"
    }
   ],
   "source": [
    "X_train.head(1)"
   ]
  },
  {
   "cell_type": "code",
   "execution_count": 32,
   "metadata": {},
   "outputs": [
    {
     "data": {
      "text/plain": [
       "KNeighborsClassifier(n_neighbors=1)"
      ]
     },
     "execution_count": 32,
     "metadata": {},
     "output_type": "execute_result"
    }
   ],
   "source": [
    "knn = KNeighborsClassifier(n_neighbors=1)\n",
    "knn.fit(X_train, y_train)"
   ]
  },
  {
   "cell_type": "code",
   "execution_count": 6,
   "metadata": {},
   "outputs": [
    {
     "ename": "NameError",
     "evalue": "name 'knn' is not defined",
     "output_type": "error",
     "traceback": [
      "\u001b[0;31m---------------------------------------------------------------------------\u001b[0m",
      "\u001b[0;31mNameError\u001b[0m                                 Traceback (most recent call last)",
      "\u001b[0;32m<ipython-input-6-0f09c71feb48>\u001b[0m in \u001b[0;36m<module>\u001b[0;34m\u001b[0m\n\u001b[1;32m      1\u001b[0m \u001b[0;31m# look at the model scores for training set and validate set\u001b[0m\u001b[0;34m\u001b[0m\u001b[0;34m\u001b[0m\u001b[0;34m\u001b[0m\u001b[0m\n\u001b[0;32m----> 2\u001b[0;31m \u001b[0mprint\u001b[0m\u001b[0;34m(\u001b[0m\u001b[0;34mf'training score: {knn.score(X_train, y_train):.2%}'\u001b[0m\u001b[0;34m)\u001b[0m\u001b[0;34m\u001b[0m\u001b[0;34m\u001b[0m\u001b[0m\n\u001b[0m\u001b[1;32m      3\u001b[0m \u001b[0mprint\u001b[0m\u001b[0;34m(\u001b[0m\u001b[0;34mf'validate score: {knn.score(X_validate, y_validate):.2%}'\u001b[0m\u001b[0;34m)\u001b[0m\u001b[0;34m\u001b[0m\u001b[0;34m\u001b[0m\u001b[0m\n",
      "\u001b[0;31mNameError\u001b[0m: name 'knn' is not defined"
     ]
    }
   ],
   "source": [
    "# look at the model scores for training set and validate set\n",
    "print(f'training score: {knn.score(X_train, y_train):.2%}')\n",
    "print(f'validate score: {knn.score(X_validate, y_validate):.2%}')"
   ]
  },
  {
   "cell_type": "code",
   "execution_count": null,
   "metadata": {
    "scrolled": true
   },
   "outputs": [],
   "source": [
    "for k in range(1, 15):\n",
    "    knn = KNeighborsClassifier(n_neighbors=k)\n",
    "    knn.fit(X_train, y_train)\n",
    "    print(f'Model: {k} when k is {k}')\n",
    "    print(f'training score: {knn.score(X_train, y_train):.2%}')\n",
    "    print(f'validate score: {knn.score(X_validate, y_validate):.2%}')\n",
    "    print('__________________________________________________________')\n"
   ]
  },
  {
   "cell_type": "code",
   "execution_count": 7,
   "metadata": {},
   "outputs": [
    {
     "name": "stdout",
     "output_type": "stream",
     "text": [
      "Model: 6 when k is 6\n",
      "training score: 76.91%\n",
      "validate score: 71.96%\n",
      "__________________________________________________________\n",
      "Model: 7 when k is 7\n",
      "training score: 76.51%\n",
      "validate score: 71.50%\n",
      "__________________________________________________________\n",
      "Model: 8 when k is 8\n",
      "training score: 74.50%\n",
      "validate score: 72.90%\n",
      "__________________________________________________________\n",
      "Model: 10 when k is 10\n",
      "training score: 74.70%\n",
      "validate score: 71.03%\n",
      "__________________________________________________________\n",
      "Model: 11 when k is 11\n",
      "training score: 74.90%\n",
      "validate score: 71.96%\n",
      "__________________________________________________________\n",
      "Model: 12 when k is 12\n",
      "training score: 74.10%\n",
      "validate score: 72.43%\n",
      "__________________________________________________________\n",
      "Model: 13 when k is 13\n",
      "training score: 73.69%\n",
      "validate score: 72.43%\n",
      "__________________________________________________________\n",
      "Model: 14 when k is 14\n",
      "training score: 72.49%\n",
      "validate score: 73.83%\n",
      "__________________________________________________________\n",
      "Model: 15 when k is 15\n",
      "training score: 73.90%\n",
      "validate score: 73.83%\n",
      "__________________________________________________________\n",
      "Model: 16 when k is 16\n",
      "training score: 73.49%\n",
      "validate score: 72.90%\n",
      "__________________________________________________________\n",
      "Model: 17 when k is 17\n",
      "training score: 72.69%\n",
      "validate score: 71.50%\n",
      "__________________________________________________________\n",
      "Model: 18 when k is 18\n",
      "training score: 73.49%\n",
      "validate score: 73.83%\n",
      "__________________________________________________________\n",
      "Model: 19 when k is 19\n",
      "training score: 72.09%\n",
      "validate score: 72.90%\n",
      "__________________________________________________________\n"
     ]
    }
   ],
   "source": [
    "for k in range(1, 20):\n",
    "    knn = KNeighborsClassifier(n_neighbors=k)\n",
    "    knn.fit(X_train, y_train)\n",
    "    acct = knn.score(X_train, y_train)\n",
    "    accv = knn.score(X_validate, y_validate)\n",
    "    if acct - accv < .06:\n",
    "        print(f'Model: {k} when k is {k}')\n",
    "        print(f'training score: {knn.score(X_train, y_train):.2%}')\n",
    "        print(f'validate score: {knn.score(X_validate, y_validate):.2%}')\n",
    "        print('__________________________________________________________')"
   ]
  },
  {
   "cell_type": "code",
   "execution_count": 8,
   "metadata": {},
   "outputs": [
    {
     "data": {
      "text/plain": [
       "KNeighborsClassifier(n_neighbors=14)"
      ]
     },
     "execution_count": 8,
     "metadata": {},
     "output_type": "execute_result"
    }
   ],
   "source": [
    "#I'm going with k =14\n",
    "knn2 = KNeighborsClassifier(14)\n",
    "knn2.fit(X_train, y_train)"
   ]
  },
  {
   "cell_type": "code",
   "execution_count": 9,
   "metadata": {
    "scrolled": true
   },
   "outputs": [
    {
     "name": "stdout",
     "output_type": "stream",
     "text": [
      "training score: 72.49%\n",
      "validate score: 73.83%\n"
     ]
    }
   ],
   "source": [
    "# look at the model scores for training set and validate set\n",
    "print(f'training score: {knn2.score(X_train, y_train):.2%}')\n",
    "print(f'validate score: {knn2.score(X_validate, y_validate):.2%}')"
   ]
  },
  {
   "cell_type": "code",
   "execution_count": null,
   "metadata": {},
   "outputs": [],
   "source": []
  },
  {
   "cell_type": "markdown",
   "metadata": {},
   "source": [
    "m.model_performs(X_train, y_train, knn)"
   ]
  },
  {
   "cell_type": "markdown",
   "metadata": {},
   "source": [
    "### 2. Evaluate your results using the model score, confusion matrix, and classification report."
   ]
  },
  {
   "cell_type": "code",
   "execution_count": 10,
   "metadata": {
    "scrolled": true
   },
   "outputs": [
    {
     "name": "stdout",
     "output_type": "stream",
     "text": [
      "\n",
      "    The accuracy for our model is 72.0884%\n",
      "\n",
      "    The True Positive Rate is 49.738%,    The False Positive Rate is 14.007%,\n",
      "    The True Negative Rate is 85.993%,    The False Negative Rate is 50.262%\n",
      "\n",
      "    ________________________________________________________________________________\n",
      "    \n",
      "\n",
      "    The positive is  'survived'\n",
      "\n",
      "    Confusion Matrix\n",
      "    \n"
     ]
    },
    {
     "data": {
      "text/html": [
       "<div>\n",
       "<style scoped>\n",
       "    .dataframe tbody tr th:only-of-type {\n",
       "        vertical-align: middle;\n",
       "    }\n",
       "\n",
       "    .dataframe tbody tr th {\n",
       "        vertical-align: top;\n",
       "    }\n",
       "\n",
       "    .dataframe thead th {\n",
       "        text-align: right;\n",
       "    }\n",
       "</style>\n",
       "<table border=\"1\" class=\"dataframe\">\n",
       "  <thead>\n",
       "    <tr style=\"text-align: right;\">\n",
       "      <th></th>\n",
       "      <th>pred_dead</th>\n",
       "      <th>pred_survived</th>\n",
       "    </tr>\n",
       "  </thead>\n",
       "  <tbody>\n",
       "    <tr>\n",
       "      <th>actual_dead</th>\n",
       "      <td>True Negative: 264</td>\n",
       "      <td>False positive: 43</td>\n",
       "    </tr>\n",
       "    <tr>\n",
       "      <th>actual_survived</th>\n",
       "      <td>False Negative: 96</td>\n",
       "      <td>True Positive: 95</td>\n",
       "    </tr>\n",
       "  </tbody>\n",
       "</table>\n",
       "</div>"
      ],
      "text/plain": [
       "                          pred_dead       pred_survived\n",
       "actual_dead      True Negative: 264  False positive: 43\n",
       "actual_survived  False Negative: 96   True Positive: 95"
      ]
     },
     "metadata": {},
     "output_type": "display_data"
    },
    {
     "name": "stdout",
     "output_type": "stream",
     "text": [
      "\n",
      "\n",
      "    ________________________________________________________________________________\n",
      "    \n",
      "    Classification Report:\n",
      "    \n"
     ]
    },
    {
     "data": {
      "text/html": [
       "<div>\n",
       "<style scoped>\n",
       "    .dataframe tbody tr th:only-of-type {\n",
       "        vertical-align: middle;\n",
       "    }\n",
       "\n",
       "    .dataframe tbody tr th {\n",
       "        vertical-align: top;\n",
       "    }\n",
       "\n",
       "    .dataframe thead th {\n",
       "        text-align: right;\n",
       "    }\n",
       "</style>\n",
       "<table border=\"1\" class=\"dataframe\">\n",
       "  <thead>\n",
       "    <tr style=\"text-align: right;\">\n",
       "      <th></th>\n",
       "      <th>precision</th>\n",
       "      <th>recall</th>\n",
       "      <th>f1-score</th>\n",
       "      <th>support</th>\n",
       "    </tr>\n",
       "  </thead>\n",
       "  <tbody>\n",
       "    <tr>\n",
       "      <th>dead</th>\n",
       "      <td>0.733333</td>\n",
       "      <td>0.859935</td>\n",
       "      <td>0.791604</td>\n",
       "      <td>307.000000</td>\n",
       "    </tr>\n",
       "    <tr>\n",
       "      <th>survived</th>\n",
       "      <td>0.688406</td>\n",
       "      <td>0.497382</td>\n",
       "      <td>0.577508</td>\n",
       "      <td>191.000000</td>\n",
       "    </tr>\n",
       "    <tr>\n",
       "      <th>accuracy</th>\n",
       "      <td>0.720884</td>\n",
       "      <td>0.720884</td>\n",
       "      <td>0.720884</td>\n",
       "      <td>0.720884</td>\n",
       "    </tr>\n",
       "    <tr>\n",
       "      <th>macro avg</th>\n",
       "      <td>0.710870</td>\n",
       "      <td>0.678659</td>\n",
       "      <td>0.684556</td>\n",
       "      <td>498.000000</td>\n",
       "    </tr>\n",
       "    <tr>\n",
       "      <th>weighted avg</th>\n",
       "      <td>0.716102</td>\n",
       "      <td>0.720884</td>\n",
       "      <td>0.709491</td>\n",
       "      <td>498.000000</td>\n",
       "    </tr>\n",
       "  </tbody>\n",
       "</table>\n",
       "</div>"
      ],
      "text/plain": [
       "              precision    recall  f1-score     support\n",
       "dead           0.733333  0.859935  0.791604  307.000000\n",
       "survived       0.688406  0.497382  0.577508  191.000000\n",
       "accuracy       0.720884  0.720884  0.720884    0.720884\n",
       "macro avg      0.710870  0.678659  0.684556  498.000000\n",
       "weighted avg   0.716102  0.720884  0.709491  498.000000"
      ]
     },
     "metadata": {},
     "output_type": "display_data"
    }
   ],
   "source": [
    "#for knn model\n",
    "m.model_performs(X_train, y_train, knn)"
   ]
  },
  {
   "cell_type": "code",
   "execution_count": null,
   "metadata": {},
   "outputs": [],
   "source": [
    "#for knn2 model\n",
    "m.model_performs(X_train, y_train, knn2)"
   ]
  },
  {
   "cell_type": "markdown",
   "metadata": {},
   "source": [
    "### 3. Print and clearly label the following: Accuracy, true positive rate, false positive rate, true negative rate, false negative rate, precision, recall, f1-score, and support."
   ]
  },
  {
   "cell_type": "code",
   "execution_count": null,
   "metadata": {},
   "outputs": [],
   "source": [
    "m.model_performs(X_train, y_train, knn2)"
   ]
  },
  {
   "cell_type": "markdown",
   "metadata": {},
   "source": [
    "### 4. Run through steps 2-4 setting k to 10"
   ]
  },
  {
   "cell_type": "code",
   "execution_count": null,
   "metadata": {},
   "outputs": [],
   "source": [
    "knn3 = KNeighborsClassifier(10)\n",
    "knn3.fit(X_train, y_train)"
   ]
  },
  {
   "cell_type": "code",
   "execution_count": null,
   "metadata": {
    "scrolled": true
   },
   "outputs": [],
   "source": [
    "m.model_performs(X_train, y_train, knn3)"
   ]
  },
  {
   "cell_type": "markdown",
   "metadata": {},
   "source": [
    "### 5. Run through setps 2-4 setting k to 20"
   ]
  },
  {
   "cell_type": "code",
   "execution_count": 11,
   "metadata": {},
   "outputs": [
    {
     "data": {
      "text/plain": [
       "KNeighborsClassifier(n_neighbors=20)"
      ]
     },
     "execution_count": 11,
     "metadata": {},
     "output_type": "execute_result"
    }
   ],
   "source": [
    "knn4 = KNeighborsClassifier(20)\n",
    "knn4.fit(X_train, y_train)"
   ]
  },
  {
   "cell_type": "code",
   "execution_count": 12,
   "metadata": {},
   "outputs": [
    {
     "name": "stdout",
     "output_type": "stream",
     "text": [
      "\n",
      "    The accuracy for our model is 71.6867%\n",
      "\n",
      "    The True Positive Rate is 46.073%,    The False Positive Rate is 12.378%,\n",
      "    The True Negative Rate is 87.622%,    The False Negative Rate is 53.927%\n",
      "\n",
      "    ________________________________________________________________________________\n",
      "    \n",
      "\n",
      "    The positive is  'survived'\n",
      "\n",
      "    Confusion Matrix\n",
      "    \n"
     ]
    },
    {
     "data": {
      "text/html": [
       "<div>\n",
       "<style scoped>\n",
       "    .dataframe tbody tr th:only-of-type {\n",
       "        vertical-align: middle;\n",
       "    }\n",
       "\n",
       "    .dataframe tbody tr th {\n",
       "        vertical-align: top;\n",
       "    }\n",
       "\n",
       "    .dataframe thead th {\n",
       "        text-align: right;\n",
       "    }\n",
       "</style>\n",
       "<table border=\"1\" class=\"dataframe\">\n",
       "  <thead>\n",
       "    <tr style=\"text-align: right;\">\n",
       "      <th></th>\n",
       "      <th>pred_dead</th>\n",
       "      <th>pred_survived</th>\n",
       "    </tr>\n",
       "  </thead>\n",
       "  <tbody>\n",
       "    <tr>\n",
       "      <th>actual_dead</th>\n",
       "      <td>True Negative: 269</td>\n",
       "      <td>False positive: 38</td>\n",
       "    </tr>\n",
       "    <tr>\n",
       "      <th>actual_survived</th>\n",
       "      <td>False Negative: 103</td>\n",
       "      <td>True Positive: 88</td>\n",
       "    </tr>\n",
       "  </tbody>\n",
       "</table>\n",
       "</div>"
      ],
      "text/plain": [
       "                           pred_dead       pred_survived\n",
       "actual_dead       True Negative: 269  False positive: 38\n",
       "actual_survived  False Negative: 103   True Positive: 88"
      ]
     },
     "metadata": {},
     "output_type": "display_data"
    },
    {
     "name": "stdout",
     "output_type": "stream",
     "text": [
      "\n",
      "\n",
      "    ________________________________________________________________________________\n",
      "    \n",
      "    Classification Report:\n",
      "    \n"
     ]
    },
    {
     "data": {
      "text/html": [
       "<div>\n",
       "<style scoped>\n",
       "    .dataframe tbody tr th:only-of-type {\n",
       "        vertical-align: middle;\n",
       "    }\n",
       "\n",
       "    .dataframe tbody tr th {\n",
       "        vertical-align: top;\n",
       "    }\n",
       "\n",
       "    .dataframe thead th {\n",
       "        text-align: right;\n",
       "    }\n",
       "</style>\n",
       "<table border=\"1\" class=\"dataframe\">\n",
       "  <thead>\n",
       "    <tr style=\"text-align: right;\">\n",
       "      <th></th>\n",
       "      <th>precision</th>\n",
       "      <th>recall</th>\n",
       "      <th>f1-score</th>\n",
       "      <th>support</th>\n",
       "    </tr>\n",
       "  </thead>\n",
       "  <tbody>\n",
       "    <tr>\n",
       "      <th>dead</th>\n",
       "      <td>0.723118</td>\n",
       "      <td>0.876221</td>\n",
       "      <td>0.792342</td>\n",
       "      <td>307.000000</td>\n",
       "    </tr>\n",
       "    <tr>\n",
       "      <th>survived</th>\n",
       "      <td>0.698413</td>\n",
       "      <td>0.460733</td>\n",
       "      <td>0.555205</td>\n",
       "      <td>191.000000</td>\n",
       "    </tr>\n",
       "    <tr>\n",
       "      <th>accuracy</th>\n",
       "      <td>0.716867</td>\n",
       "      <td>0.716867</td>\n",
       "      <td>0.716867</td>\n",
       "      <td>0.716867</td>\n",
       "    </tr>\n",
       "    <tr>\n",
       "      <th>macro avg</th>\n",
       "      <td>0.710765</td>\n",
       "      <td>0.668477</td>\n",
       "      <td>0.673773</td>\n",
       "      <td>498.000000</td>\n",
       "    </tr>\n",
       "    <tr>\n",
       "      <th>weighted avg</th>\n",
       "      <td>0.713643</td>\n",
       "      <td>0.716867</td>\n",
       "      <td>0.701392</td>\n",
       "      <td>498.000000</td>\n",
       "    </tr>\n",
       "  </tbody>\n",
       "</table>\n",
       "</div>"
      ],
      "text/plain": [
       "              precision    recall  f1-score     support\n",
       "dead           0.723118  0.876221  0.792342  307.000000\n",
       "survived       0.698413  0.460733  0.555205  191.000000\n",
       "accuracy       0.716867  0.716867  0.716867    0.716867\n",
       "macro avg      0.710765  0.668477  0.673773  498.000000\n",
       "weighted avg   0.713643  0.716867  0.701392  498.000000"
      ]
     },
     "metadata": {},
     "output_type": "display_data"
    }
   ],
   "source": [
    "m.model_performs(X_train, y_train, knn4)"
   ]
  },
  {
   "cell_type": "markdown",
   "metadata": {},
   "source": [
    "### 6. What are the differences in the evaluation metrics? Which performs better on your in-sample data? Why?"
   ]
  },
  {
   "cell_type": "markdown",
   "metadata": {},
   "source": [
    "model 2"
   ]
  },
  {
   "cell_type": "markdown",
   "metadata": {},
   "source": [
    "### 7. Which model performs best on our out-of-sample data from validate?"
   ]
  },
  {
   "cell_type": "code",
   "execution_count": 14,
   "metadata": {},
   "outputs": [
    {
     "name": "stdout",
     "output_type": "stream",
     "text": [
      "training score: 72.49%\n",
      "validate score: 73.83%\n"
     ]
    }
   ],
   "source": [
    "#model 2\n",
    "print(f'training score: {knn2.score(X_train, y_train):.2%}')\n",
    "print(f'validate score: {knn2.score(X_validate, y_validate):.2%}')"
   ]
  },
  {
   "cell_type": "code",
   "execution_count": 15,
   "metadata": {},
   "outputs": [
    {
     "name": "stdout",
     "output_type": "stream",
     "text": [
      "\n",
      "    The accuracy for our model is 73.8318%\n",
      "\n",
      "    The True Positive Rate is 52.439%,    The False Positive Rate is 12.879%,\n",
      "    The True Negative Rate is 87.121%,    The False Negative Rate is 47.561%\n",
      "\n",
      "    ________________________________________________________________________________\n",
      "    \n",
      "\n",
      "    The positive is  'survived'\n",
      "\n",
      "    Confusion Matrix\n",
      "    \n"
     ]
    },
    {
     "data": {
      "text/html": [
       "<div>\n",
       "<style scoped>\n",
       "    .dataframe tbody tr th:only-of-type {\n",
       "        vertical-align: middle;\n",
       "    }\n",
       "\n",
       "    .dataframe tbody tr th {\n",
       "        vertical-align: top;\n",
       "    }\n",
       "\n",
       "    .dataframe thead th {\n",
       "        text-align: right;\n",
       "    }\n",
       "</style>\n",
       "<table border=\"1\" class=\"dataframe\">\n",
       "  <thead>\n",
       "    <tr style=\"text-align: right;\">\n",
       "      <th></th>\n",
       "      <th>pred_dead</th>\n",
       "      <th>pred_survived</th>\n",
       "    </tr>\n",
       "  </thead>\n",
       "  <tbody>\n",
       "    <tr>\n",
       "      <th>actual_dead</th>\n",
       "      <td>True Negative: 115</td>\n",
       "      <td>False positive: 17</td>\n",
       "    </tr>\n",
       "    <tr>\n",
       "      <th>actual_survived</th>\n",
       "      <td>False Negative: 39</td>\n",
       "      <td>True Positive: 43</td>\n",
       "    </tr>\n",
       "  </tbody>\n",
       "</table>\n",
       "</div>"
      ],
      "text/plain": [
       "                          pred_dead       pred_survived\n",
       "actual_dead      True Negative: 115  False positive: 17\n",
       "actual_survived  False Negative: 39   True Positive: 43"
      ]
     },
     "metadata": {},
     "output_type": "display_data"
    },
    {
     "name": "stdout",
     "output_type": "stream",
     "text": [
      "\n",
      "\n",
      "    ________________________________________________________________________________\n",
      "    \n",
      "    Classification Report:\n",
      "    \n"
     ]
    },
    {
     "data": {
      "text/html": [
       "<div>\n",
       "<style scoped>\n",
       "    .dataframe tbody tr th:only-of-type {\n",
       "        vertical-align: middle;\n",
       "    }\n",
       "\n",
       "    .dataframe tbody tr th {\n",
       "        vertical-align: top;\n",
       "    }\n",
       "\n",
       "    .dataframe thead th {\n",
       "        text-align: right;\n",
       "    }\n",
       "</style>\n",
       "<table border=\"1\" class=\"dataframe\">\n",
       "  <thead>\n",
       "    <tr style=\"text-align: right;\">\n",
       "      <th></th>\n",
       "      <th>precision</th>\n",
       "      <th>recall</th>\n",
       "      <th>f1-score</th>\n",
       "      <th>support</th>\n",
       "    </tr>\n",
       "  </thead>\n",
       "  <tbody>\n",
       "    <tr>\n",
       "      <th>dead</th>\n",
       "      <td>0.746753</td>\n",
       "      <td>0.871212</td>\n",
       "      <td>0.804196</td>\n",
       "      <td>132.000000</td>\n",
       "    </tr>\n",
       "    <tr>\n",
       "      <th>survived</th>\n",
       "      <td>0.716667</td>\n",
       "      <td>0.524390</td>\n",
       "      <td>0.605634</td>\n",
       "      <td>82.000000</td>\n",
       "    </tr>\n",
       "    <tr>\n",
       "      <th>accuracy</th>\n",
       "      <td>0.738318</td>\n",
       "      <td>0.738318</td>\n",
       "      <td>0.738318</td>\n",
       "      <td>0.738318</td>\n",
       "    </tr>\n",
       "    <tr>\n",
       "      <th>macro avg</th>\n",
       "      <td>0.731710</td>\n",
       "      <td>0.697801</td>\n",
       "      <td>0.704915</td>\n",
       "      <td>214.000000</td>\n",
       "    </tr>\n",
       "    <tr>\n",
       "      <th>weighted avg</th>\n",
       "      <td>0.735225</td>\n",
       "      <td>0.738318</td>\n",
       "      <td>0.728111</td>\n",
       "      <td>214.000000</td>\n",
       "    </tr>\n",
       "  </tbody>\n",
       "</table>\n",
       "</div>"
      ],
      "text/plain": [
       "              precision    recall  f1-score     support\n",
       "dead           0.746753  0.871212  0.804196  132.000000\n",
       "survived       0.716667  0.524390  0.605634   82.000000\n",
       "accuracy       0.738318  0.738318  0.738318    0.738318\n",
       "macro avg      0.731710  0.697801  0.704915  214.000000\n",
       "weighted avg   0.735225  0.738318  0.728111  214.000000"
      ]
     },
     "metadata": {},
     "output_type": "display_data"
    }
   ],
   "source": [
    "m.model_performs(X_validate, y_validate, knn2)"
   ]
  },
  {
   "cell_type": "code",
   "execution_count": null,
   "metadata": {},
   "outputs": [],
   "source": []
  },
  {
   "cell_type": "code",
   "execution_count": null,
   "metadata": {},
   "outputs": [],
   "source": [
    "m.compare (knn, knn2, X_train,y_train)"
   ]
  },
  {
   "cell_type": "markdown",
   "metadata": {},
   "source": [
    "#  Logistic Regression"
   ]
  },
  {
   "cell_type": "markdown",
   "metadata": {},
   "source": [
    "### 1. Create a model that includes age in addition to fare and pclass. Does this model perform better than your baseline?"
   ]
  },
  {
   "cell_type": "code",
   "execution_count": 2,
   "metadata": {},
   "outputs": [],
   "source": [
    "#acquire data\n",
    "df = acquire.get_titanic_data()"
   ]
  },
  {
   "cell_type": "code",
   "execution_count": 3,
   "metadata": {},
   "outputs": [],
   "source": [
    "#split data\n",
    "train, validate, test = prepare.prep_titanic_data(df, column = 'age', method = 'median', dummies = ['embarked', 'sex'])\n"
   ]
  },
  {
   "cell_type": "code",
   "execution_count": 4,
   "metadata": {
    "scrolled": true
   },
   "outputs": [
    {
     "data": {
      "text/html": [
       "<div>\n",
       "<style scoped>\n",
       "    .dataframe tbody tr th:only-of-type {\n",
       "        vertical-align: middle;\n",
       "    }\n",
       "\n",
       "    .dataframe tbody tr th {\n",
       "        vertical-align: top;\n",
       "    }\n",
       "\n",
       "    .dataframe thead th {\n",
       "        text-align: right;\n",
       "    }\n",
       "</style>\n",
       "<table border=\"1\" class=\"dataframe\">\n",
       "  <thead>\n",
       "    <tr style=\"text-align: right;\">\n",
       "      <th></th>\n",
       "      <th>passenger_id</th>\n",
       "      <th>survived</th>\n",
       "      <th>pclass</th>\n",
       "      <th>age</th>\n",
       "      <th>sibsp</th>\n",
       "      <th>parch</th>\n",
       "      <th>fare</th>\n",
       "      <th>alone</th>\n",
       "      <th>embarked_Q</th>\n",
       "      <th>embarked_S</th>\n",
       "      <th>sex_male</th>\n",
       "    </tr>\n",
       "  </thead>\n",
       "  <tbody>\n",
       "    <tr>\n",
       "      <th>583</th>\n",
       "      <td>583</td>\n",
       "      <td>0</td>\n",
       "      <td>1</td>\n",
       "      <td>36.0</td>\n",
       "      <td>0</td>\n",
       "      <td>0</td>\n",
       "      <td>40.1250</td>\n",
       "      <td>1</td>\n",
       "      <td>0</td>\n",
       "      <td>0</td>\n",
       "      <td>1</td>\n",
       "    </tr>\n",
       "    <tr>\n",
       "      <th>165</th>\n",
       "      <td>165</td>\n",
       "      <td>1</td>\n",
       "      <td>3</td>\n",
       "      <td>9.0</td>\n",
       "      <td>0</td>\n",
       "      <td>2</td>\n",
       "      <td>20.5250</td>\n",
       "      <td>0</td>\n",
       "      <td>0</td>\n",
       "      <td>1</td>\n",
       "      <td>1</td>\n",
       "    </tr>\n",
       "    <tr>\n",
       "      <th>50</th>\n",
       "      <td>50</td>\n",
       "      <td>0</td>\n",
       "      <td>3</td>\n",
       "      <td>7.0</td>\n",
       "      <td>4</td>\n",
       "      <td>1</td>\n",
       "      <td>39.6875</td>\n",
       "      <td>0</td>\n",
       "      <td>0</td>\n",
       "      <td>1</td>\n",
       "      <td>1</td>\n",
       "    </tr>\n",
       "    <tr>\n",
       "      <th>259</th>\n",
       "      <td>259</td>\n",
       "      <td>1</td>\n",
       "      <td>2</td>\n",
       "      <td>50.0</td>\n",
       "      <td>0</td>\n",
       "      <td>1</td>\n",
       "      <td>26.0000</td>\n",
       "      <td>0</td>\n",
       "      <td>0</td>\n",
       "      <td>1</td>\n",
       "      <td>0</td>\n",
       "    </tr>\n",
       "    <tr>\n",
       "      <th>306</th>\n",
       "      <td>306</td>\n",
       "      <td>1</td>\n",
       "      <td>1</td>\n",
       "      <td>28.0</td>\n",
       "      <td>0</td>\n",
       "      <td>0</td>\n",
       "      <td>110.8833</td>\n",
       "      <td>1</td>\n",
       "      <td>0</td>\n",
       "      <td>0</td>\n",
       "      <td>0</td>\n",
       "    </tr>\n",
       "  </tbody>\n",
       "</table>\n",
       "</div>"
      ],
      "text/plain": [
       "     passenger_id  survived  pclass   age  sibsp  parch      fare  alone  \\\n",
       "583           583         0       1  36.0      0      0   40.1250      1   \n",
       "165           165         1       3   9.0      0      2   20.5250      0   \n",
       "50             50         0       3   7.0      4      1   39.6875      0   \n",
       "259           259         1       2  50.0      0      1   26.0000      0   \n",
       "306           306         1       1  28.0      0      0  110.8833      1   \n",
       "\n",
       "     embarked_Q  embarked_S  sex_male  \n",
       "583           0           0         1  \n",
       "165           0           1         1  \n",
       "50            0           1         1  \n",
       "259           0           1         0  \n",
       "306           0           0         0  "
      ]
     },
     "execution_count": 4,
     "metadata": {},
     "output_type": "execute_result"
    }
   ],
   "source": [
    "train.head()"
   ]
  },
  {
   "cell_type": "code",
   "execution_count": 5,
   "metadata": {},
   "outputs": [
    {
     "data": {
      "text/plain": [
       "(498, 11)"
      ]
     },
     "execution_count": 5,
     "metadata": {},
     "output_type": "execute_result"
    }
   ],
   "source": [
    "train.shape"
   ]
  },
  {
   "cell_type": "code",
   "execution_count": 6,
   "metadata": {},
   "outputs": [],
   "source": [
    "#other way to do the split is decide wich columns we are going to use\n",
    "X_cols = [ 'age','pclass', 'fare']\n",
    "y_col = 'survived'\n",
    "\n",
    "X_train, y_train = train[X_cols], train[y_col]\n",
    "X_validate, y_validate = validate[X_cols], validate[y_col]\n",
    "X_test, y_test = test[X_cols], test[y_col]"
   ]
  },
  {
   "cell_type": "code",
   "execution_count": 7,
   "metadata": {},
   "outputs": [
    {
     "data": {
      "text/plain": [
       "((498, 3), (214, 3), (179, 3))"
      ]
     },
     "execution_count": 7,
     "metadata": {},
     "output_type": "execute_result"
    }
   ],
   "source": [
    "X_train.shape, X_validate.shape, X_test.shape"
   ]
  },
  {
   "cell_type": "code",
   "execution_count": 29,
   "metadata": {},
   "outputs": [
    {
     "data": {
      "text/plain": [
       "0    307\n",
       "1    191\n",
       "Name: survived, dtype: int64"
      ]
     },
     "execution_count": 29,
     "metadata": {},
     "output_type": "execute_result"
    }
   ],
   "source": [
    "train.survived.value_counts()"
   ]
  },
  {
   "cell_type": "code",
   "execution_count": 8,
   "metadata": {},
   "outputs": [],
   "source": [
    "#so the baselined is survived = 0\n",
    "train['baseline'] = 0"
   ]
  },
  {
   "cell_type": "code",
   "execution_count": 9,
   "metadata": {
    "scrolled": true
   },
   "outputs": [
    {
     "name": "stdout",
     "output_type": "stream",
     "text": [
      "The baseline accuracy for nonsurvival in all cases on the Titanic Dataset is 0.616\n"
     ]
    }
   ],
   "source": [
    "print(f'The baseline accuracy for nonsurvival in all cases on the Titanic Dataset is {(train.baseline == train.survived).mean():.3}')"
   ]
  },
  {
   "cell_type": "code",
   "execution_count": 10,
   "metadata": {},
   "outputs": [
    {
     "data": {
      "text/plain": [
       "LogisticRegression(random_state=123)"
      ]
     },
     "execution_count": 10,
     "metadata": {},
     "output_type": "execute_result"
    }
   ],
   "source": [
    "logit =LogisticRegression(C=1.0 , random_state=123)\n",
    "logit.fit(X_train, y_train)"
   ]
  },
  {
   "cell_type": "code",
   "execution_count": 11,
   "metadata": {},
   "outputs": [],
   "source": [
    "# now use the model to make predictions\n",
    "y_pred = logit.predict(X_train)"
   ]
  },
  {
   "cell_type": "code",
   "execution_count": 12,
   "metadata": {},
   "outputs": [
    {
     "name": "stdout",
     "output_type": "stream",
     "text": [
      "Accuracy: 0.70\n"
     ]
    }
   ],
   "source": [
    "print('Accuracy: {:.2f}'.format(logit.score(X_train, y_train)))"
   ]
  },
  {
   "cell_type": "code",
   "execution_count": 13,
   "metadata": {
    "scrolled": true
   },
   "outputs": [
    {
     "name": "stdout",
     "output_type": "stream",
     "text": [
      "              precision    recall  f1-score   support\n",
      "\n",
      "           0       0.71      0.87      0.78       307\n",
      "           1       0.67      0.43      0.53       191\n",
      "\n",
      "    accuracy                           0.70       498\n",
      "   macro avg       0.69      0.65      0.66       498\n",
      "weighted avg       0.70      0.70      0.69       498\n",
      "\n"
     ]
    }
   ],
   "source": [
    "print(classification_report(y_train, y_pred))"
   ]
  },
  {
   "cell_type": "code",
   "execution_count": 14,
   "metadata": {},
   "outputs": [
    {
     "name": "stdout",
     "output_type": "stream",
     "text": [
      "training score: 70.28%\n",
      "validate score: 71.03%\n"
     ]
    }
   ],
   "source": [
    "\n",
    "print(f'training score: {logit.score(X_train, y_train):.2%}')\n",
    "print(f'validate score: {logit.score(X_validate, y_validate):.2%}')"
   ]
  },
  {
   "cell_type": "markdown",
   "metadata": {},
   "source": [
    "### 2. Include sex in your model as well. Note that you'll need to encode or create a dummy variable of this feature before including it in a model."
   ]
  },
  {
   "cell_type": "code",
   "execution_count": 16,
   "metadata": {},
   "outputs": [],
   "source": [
    "X_cols = [ 'age','pclass', 'fare', 'sex_male']\n",
    "y_col = 'survived'\n",
    "\n",
    "X_train, y_train = train[X_cols], train[y_col]\n",
    "X_validate, y_validate = validate[X_cols], validate[y_col]\n",
    "X_test, y_test = test[X_cols], test[y_col]"
   ]
  },
  {
   "cell_type": "code",
   "execution_count": 17,
   "metadata": {},
   "outputs": [
    {
     "data": {
      "text/plain": [
       "LogisticRegression(random_state=123)"
      ]
     },
     "execution_count": 17,
     "metadata": {},
     "output_type": "execute_result"
    }
   ],
   "source": [
    "\n",
    "logit2 =LogisticRegression(C=1.0 , random_state=123)\n",
    "logit2.fit(X_train, y_train)"
   ]
  },
  {
   "cell_type": "code",
   "execution_count": 18,
   "metadata": {},
   "outputs": [],
   "source": [
    "# now use the model to make predictions\n",
    "y_pred = logit2.predict(X_train)"
   ]
  },
  {
   "cell_type": "code",
   "execution_count": 19,
   "metadata": {},
   "outputs": [
    {
     "name": "stdout",
     "output_type": "stream",
     "text": [
      "training score: 80.72%\n",
      "validate score: 78.04%\n"
     ]
    }
   ],
   "source": [
    "\n",
    "print(f'training score: {logit2.score(X_train, y_train):.2%}')\n",
    "print(f'validate score: {logit2.score(X_validate, y_validate):.2%}')"
   ]
  },
  {
   "cell_type": "code",
   "execution_count": 20,
   "metadata": {},
   "outputs": [
    {
     "name": "stdout",
     "output_type": "stream",
     "text": [
      "              precision    recall  f1-score   support\n",
      "\n",
      "           0       0.84      0.85      0.85       307\n",
      "           1       0.76      0.73      0.74       191\n",
      "\n",
      "    accuracy                           0.81       498\n",
      "   macro avg       0.80      0.79      0.79       498\n",
      "weighted avg       0.81      0.81      0.81       498\n",
      "\n"
     ]
    }
   ],
   "source": [
    "print(classification_report(y_train, y_pred))"
   ]
  },
  {
   "cell_type": "markdown",
   "metadata": {},
   "source": [
    "### 3. Try out other combinations of features and models."
   ]
  },
  {
   "cell_type": "code",
   "execution_count": 21,
   "metadata": {},
   "outputs": [
    {
     "data": {
      "text/plain": [
       "LogisticRegression(C=1, class_weight='balanced', random_state=123)"
      ]
     },
     "execution_count": 21,
     "metadata": {},
     "output_type": "execute_result"
    }
   ],
   "source": [
    "logit3 =LogisticRegression(C=1 ,class_weight='balanced', random_state=123)\n",
    "logit3.fit(X_train, y_train)"
   ]
  },
  {
   "cell_type": "code",
   "execution_count": 22,
   "metadata": {},
   "outputs": [],
   "source": [
    "# now use the model to make predictions\n",
    "y_pred = logit3.predict(X_train)"
   ]
  },
  {
   "cell_type": "code",
   "execution_count": 23,
   "metadata": {},
   "outputs": [
    {
     "name": "stdout",
     "output_type": "stream",
     "text": [
      "training score: 80.12%\n",
      "validate score: 75.70%\n"
     ]
    }
   ],
   "source": [
    "print(f'training score: {logit3.score(X_train, y_train):.2%}')\n",
    "print(f'validate score: {logit3.score(X_validate, y_validate):.2%}')"
   ]
  },
  {
   "cell_type": "code",
   "execution_count": 24,
   "metadata": {},
   "outputs": [
    {
     "data": {
      "text/plain": [
       "LogisticRegression(C=0.5, class_weight={0: 61, 1: 39}, random_state=123)"
      ]
     },
     "execution_count": 24,
     "metadata": {},
     "output_type": "execute_result"
    }
   ],
   "source": [
    "logit4 =LogisticRegression(penalty='l2',C=0.5, random_state=123, class_weight={0:61, 1:39})\n",
    "logit4.fit(X_train, y_train)"
   ]
  },
  {
   "cell_type": "code",
   "execution_count": 25,
   "metadata": {},
   "outputs": [
    {
     "name": "stdout",
     "output_type": "stream",
     "text": [
      "training score: 79.72%\n",
      "validate score: 76.64%\n"
     ]
    }
   ],
   "source": [
    "print(f'training score: {logit4.score(X_train, y_train):.2%}')\n",
    "print(f'validate score: {logit4.score(X_validate, y_validate):.2%}')"
   ]
  },
  {
   "cell_type": "markdown",
   "metadata": {},
   "source": [
    "### 4. Use you best 3 models to predict and evaluate on your validate sample."
   ]
  },
  {
   "cell_type": "code",
   "execution_count": 26,
   "metadata": {},
   "outputs": [
    {
     "data": {
      "text/plain": [
       "LogisticRegression(random_state=123)"
      ]
     },
     "execution_count": 26,
     "metadata": {},
     "output_type": "execute_result"
    }
   ],
   "source": [
    "logit2 =LogisticRegression(C=1.0 , random_state=123)\n",
    "logit2.fit(X_train, y_train)"
   ]
  },
  {
   "cell_type": "code",
   "execution_count": null,
   "metadata": {},
   "outputs": [],
   "source": []
  },
  {
   "cell_type": "code",
   "execution_count": 27,
   "metadata": {},
   "outputs": [
    {
     "data": {
      "text/plain": [
       "LogisticRegression(C=0.5, class_weight={0: 61, 1: 39}, random_state=123)"
      ]
     },
     "execution_count": 27,
     "metadata": {},
     "output_type": "execute_result"
    }
   ],
   "source": [
    "logit4 =LogisticRegression(penalty='l2',C=0.5, random_state=123, class_weight={0:61, 1:39})\n",
    "logit4.fit(X_train, y_train)"
   ]
  },
  {
   "cell_type": "code",
   "execution_count": 27,
   "metadata": {},
   "outputs": [
    {
     "name": "stdout",
     "output_type": "stream",
     "text": [
      "\n",
      "    ******       Model 1  ******                                ******     Model 2  ****** \n",
      "    The accuracy for our model 1 is 78.0374%            |   The accuracy for our model 2 is 76.6355%  \n",
      "                                                        |\n",
      "    The True Positive Rate is 68.293%                   |   The True Positive Rate is 56.098%  \n",
      "    The False Positive Rate is 15.909%                  |   The False Positive Rate is 10.606% \n",
      "    The True Negative Rate is 84.091%                   |   The True Negative Rate is 89.394% \n",
      "    The False Negative Rate is 31.707%                  |   The False Negative Rate is 43.902%\n",
      "\n",
      "    _____________________________________________________________________________________________________________\n",
      "    \n",
      "\n",
      "    The positive is  'survived'\n",
      "\n",
      "    Confusion Matrix\n",
      "    \n"
     ]
    },
    {
     "data": {
      "text/html": [
       "<style  type=\"text/css\" >\n",
       "</style><table id=\"T_7ad72476_bce1_11eb_97db_acde48001122\" style='display:inline'><caption>Model 1</caption><thead>    <tr>        <th class=\"blank level0\" ></th>        <th class=\"col_heading level0 col0\" >pred_dead</th>        <th class=\"col_heading level0 col1\" >pred_survived</th>    </tr></thead><tbody>\n",
       "                <tr>\n",
       "                        <th id=\"T_7ad72476_bce1_11eb_97db_acde48001122level0_row0\" class=\"row_heading level0 row0\" >actual_dead</th>\n",
       "                        <td id=\"T_7ad72476_bce1_11eb_97db_acde48001122row0_col0\" class=\"data row0 col0\" >True Negative: 111</td>\n",
       "                        <td id=\"T_7ad72476_bce1_11eb_97db_acde48001122row0_col1\" class=\"data row0 col1\" >False positive: 21</td>\n",
       "            </tr>\n",
       "            <tr>\n",
       "                        <th id=\"T_7ad72476_bce1_11eb_97db_acde48001122level0_row1\" class=\"row_heading level0 row1\" >actual_survived</th>\n",
       "                        <td id=\"T_7ad72476_bce1_11eb_97db_acde48001122row1_col0\" class=\"data row1 col0\" >False Negative: 26</td>\n",
       "                        <td id=\"T_7ad72476_bce1_11eb_97db_acde48001122row1_col1\" class=\"data row1 col1\" >True Positive: 56</td>\n",
       "            </tr>\n",
       "    </tbody></table>                                                  <style  type=\"text/css\" >\n",
       "</style><table id=\"T_7ad7469a_bce1_11eb_97db_acde48001122\" style='display:inline'><caption>Model2</caption><thead>    <tr>        <th class=\"blank level0\" ></th>        <th class=\"col_heading level0 col0\" >pred_dead</th>        <th class=\"col_heading level0 col1\" >pred_survived</th>    </tr></thead><tbody>\n",
       "                <tr>\n",
       "                        <th id=\"T_7ad7469a_bce1_11eb_97db_acde48001122level0_row0\" class=\"row_heading level0 row0\" >actual_dead</th>\n",
       "                        <td id=\"T_7ad7469a_bce1_11eb_97db_acde48001122row0_col0\" class=\"data row0 col0\" >True Negative: 118</td>\n",
       "                        <td id=\"T_7ad7469a_bce1_11eb_97db_acde48001122row0_col1\" class=\"data row0 col1\" >False positive: 14</td>\n",
       "            </tr>\n",
       "            <tr>\n",
       "                        <th id=\"T_7ad7469a_bce1_11eb_97db_acde48001122level0_row1\" class=\"row_heading level0 row1\" >actual_survived</th>\n",
       "                        <td id=\"T_7ad7469a_bce1_11eb_97db_acde48001122row1_col0\" class=\"data row1 col0\" >False Negative: 36</td>\n",
       "                        <td id=\"T_7ad7469a_bce1_11eb_97db_acde48001122row1_col1\" class=\"data row1 col1\" >True Positive: 46</td>\n",
       "            </tr>\n",
       "    </tbody></table>"
      ]
     },
     "metadata": {},
     "output_type": "display_data"
    },
    {
     "name": "stdout",
     "output_type": "stream",
     "text": [
      "\n",
      "\n",
      "    ________________________________________________________________________________\n",
      "    \n",
      "    Classification Report:\n",
      "    \n"
     ]
    },
    {
     "data": {
      "text/html": [
       "<style  type=\"text/css\" >\n",
       "</style><table id=\"T_7ad7a02c_bce1_11eb_97db_acde48001122\" style='display:inline'><caption>Model 1 Classification Report</caption><thead>    <tr>        <th class=\"blank level0\" ></th>        <th class=\"col_heading level0 col0\" >precision</th>        <th class=\"col_heading level0 col1\" >recall</th>        <th class=\"col_heading level0 col2\" >f1-score</th>        <th class=\"col_heading level0 col3\" >support</th>    </tr></thead><tbody>\n",
       "                <tr>\n",
       "                        <th id=\"T_7ad7a02c_bce1_11eb_97db_acde48001122level0_row0\" class=\"row_heading level0 row0\" >dead</th>\n",
       "                        <td id=\"T_7ad7a02c_bce1_11eb_97db_acde48001122row0_col0\" class=\"data row0 col0\" >0.810219</td>\n",
       "                        <td id=\"T_7ad7a02c_bce1_11eb_97db_acde48001122row0_col1\" class=\"data row0 col1\" >0.840909</td>\n",
       "                        <td id=\"T_7ad7a02c_bce1_11eb_97db_acde48001122row0_col2\" class=\"data row0 col2\" >0.825279</td>\n",
       "                        <td id=\"T_7ad7a02c_bce1_11eb_97db_acde48001122row0_col3\" class=\"data row0 col3\" >132.000000</td>\n",
       "            </tr>\n",
       "            <tr>\n",
       "                        <th id=\"T_7ad7a02c_bce1_11eb_97db_acde48001122level0_row1\" class=\"row_heading level0 row1\" >survived</th>\n",
       "                        <td id=\"T_7ad7a02c_bce1_11eb_97db_acde48001122row1_col0\" class=\"data row1 col0\" >0.727273</td>\n",
       "                        <td id=\"T_7ad7a02c_bce1_11eb_97db_acde48001122row1_col1\" class=\"data row1 col1\" >0.682927</td>\n",
       "                        <td id=\"T_7ad7a02c_bce1_11eb_97db_acde48001122row1_col2\" class=\"data row1 col2\" >0.704403</td>\n",
       "                        <td id=\"T_7ad7a02c_bce1_11eb_97db_acde48001122row1_col3\" class=\"data row1 col3\" >82.000000</td>\n",
       "            </tr>\n",
       "            <tr>\n",
       "                        <th id=\"T_7ad7a02c_bce1_11eb_97db_acde48001122level0_row2\" class=\"row_heading level0 row2\" >accuracy</th>\n",
       "                        <td id=\"T_7ad7a02c_bce1_11eb_97db_acde48001122row2_col0\" class=\"data row2 col0\" >0.780374</td>\n",
       "                        <td id=\"T_7ad7a02c_bce1_11eb_97db_acde48001122row2_col1\" class=\"data row2 col1\" >0.780374</td>\n",
       "                        <td id=\"T_7ad7a02c_bce1_11eb_97db_acde48001122row2_col2\" class=\"data row2 col2\" >0.780374</td>\n",
       "                        <td id=\"T_7ad7a02c_bce1_11eb_97db_acde48001122row2_col3\" class=\"data row2 col3\" >0.780374</td>\n",
       "            </tr>\n",
       "            <tr>\n",
       "                        <th id=\"T_7ad7a02c_bce1_11eb_97db_acde48001122level0_row3\" class=\"row_heading level0 row3\" >macro avg</th>\n",
       "                        <td id=\"T_7ad7a02c_bce1_11eb_97db_acde48001122row3_col0\" class=\"data row3 col0\" >0.768746</td>\n",
       "                        <td id=\"T_7ad7a02c_bce1_11eb_97db_acde48001122row3_col1\" class=\"data row3 col1\" >0.761918</td>\n",
       "                        <td id=\"T_7ad7a02c_bce1_11eb_97db_acde48001122row3_col2\" class=\"data row3 col2\" >0.764841</td>\n",
       "                        <td id=\"T_7ad7a02c_bce1_11eb_97db_acde48001122row3_col3\" class=\"data row3 col3\" >214.000000</td>\n",
       "            </tr>\n",
       "            <tr>\n",
       "                        <th id=\"T_7ad7a02c_bce1_11eb_97db_acde48001122level0_row4\" class=\"row_heading level0 row4\" >weighted avg</th>\n",
       "                        <td id=\"T_7ad7a02c_bce1_11eb_97db_acde48001122row4_col0\" class=\"data row4 col0\" >0.778436</td>\n",
       "                        <td id=\"T_7ad7a02c_bce1_11eb_97db_acde48001122row4_col1\" class=\"data row4 col1\" >0.780374</td>\n",
       "                        <td id=\"T_7ad7a02c_bce1_11eb_97db_acde48001122row4_col2\" class=\"data row4 col2\" >0.778962</td>\n",
       "                        <td id=\"T_7ad7a02c_bce1_11eb_97db_acde48001122row4_col3\" class=\"data row4 col3\" >214.000000</td>\n",
       "            </tr>\n",
       "    </tbody></table>                                             <style  type=\"text/css\" >\n",
       "</style><table id=\"T_7ad80850_bce1_11eb_97db_acde48001122\" style='display:inline'><caption>Model 2 Classification Report</caption><thead>    <tr>        <th class=\"blank level0\" ></th>        <th class=\"col_heading level0 col0\" >precision</th>        <th class=\"col_heading level0 col1\" >recall</th>        <th class=\"col_heading level0 col2\" >f1-score</th>        <th class=\"col_heading level0 col3\" >support</th>    </tr></thead><tbody>\n",
       "                <tr>\n",
       "                        <th id=\"T_7ad80850_bce1_11eb_97db_acde48001122level0_row0\" class=\"row_heading level0 row0\" >dead</th>\n",
       "                        <td id=\"T_7ad80850_bce1_11eb_97db_acde48001122row0_col0\" class=\"data row0 col0\" >0.766234</td>\n",
       "                        <td id=\"T_7ad80850_bce1_11eb_97db_acde48001122row0_col1\" class=\"data row0 col1\" >0.893939</td>\n",
       "                        <td id=\"T_7ad80850_bce1_11eb_97db_acde48001122row0_col2\" class=\"data row0 col2\" >0.825175</td>\n",
       "                        <td id=\"T_7ad80850_bce1_11eb_97db_acde48001122row0_col3\" class=\"data row0 col3\" >132.000000</td>\n",
       "            </tr>\n",
       "            <tr>\n",
       "                        <th id=\"T_7ad80850_bce1_11eb_97db_acde48001122level0_row1\" class=\"row_heading level0 row1\" >survived</th>\n",
       "                        <td id=\"T_7ad80850_bce1_11eb_97db_acde48001122row1_col0\" class=\"data row1 col0\" >0.766667</td>\n",
       "                        <td id=\"T_7ad80850_bce1_11eb_97db_acde48001122row1_col1\" class=\"data row1 col1\" >0.560976</td>\n",
       "                        <td id=\"T_7ad80850_bce1_11eb_97db_acde48001122row1_col2\" class=\"data row1 col2\" >0.647887</td>\n",
       "                        <td id=\"T_7ad80850_bce1_11eb_97db_acde48001122row1_col3\" class=\"data row1 col3\" >82.000000</td>\n",
       "            </tr>\n",
       "            <tr>\n",
       "                        <th id=\"T_7ad80850_bce1_11eb_97db_acde48001122level0_row2\" class=\"row_heading level0 row2\" >accuracy</th>\n",
       "                        <td id=\"T_7ad80850_bce1_11eb_97db_acde48001122row2_col0\" class=\"data row2 col0\" >0.766355</td>\n",
       "                        <td id=\"T_7ad80850_bce1_11eb_97db_acde48001122row2_col1\" class=\"data row2 col1\" >0.766355</td>\n",
       "                        <td id=\"T_7ad80850_bce1_11eb_97db_acde48001122row2_col2\" class=\"data row2 col2\" >0.766355</td>\n",
       "                        <td id=\"T_7ad80850_bce1_11eb_97db_acde48001122row2_col3\" class=\"data row2 col3\" >0.766355</td>\n",
       "            </tr>\n",
       "            <tr>\n",
       "                        <th id=\"T_7ad80850_bce1_11eb_97db_acde48001122level0_row3\" class=\"row_heading level0 row3\" >macro avg</th>\n",
       "                        <td id=\"T_7ad80850_bce1_11eb_97db_acde48001122row3_col0\" class=\"data row3 col0\" >0.766450</td>\n",
       "                        <td id=\"T_7ad80850_bce1_11eb_97db_acde48001122row3_col1\" class=\"data row3 col1\" >0.727458</td>\n",
       "                        <td id=\"T_7ad80850_bce1_11eb_97db_acde48001122row3_col2\" class=\"data row3 col2\" >0.736531</td>\n",
       "                        <td id=\"T_7ad80850_bce1_11eb_97db_acde48001122row3_col3\" class=\"data row3 col3\" >214.000000</td>\n",
       "            </tr>\n",
       "            <tr>\n",
       "                        <th id=\"T_7ad80850_bce1_11eb_97db_acde48001122level0_row4\" class=\"row_heading level0 row4\" >weighted avg</th>\n",
       "                        <td id=\"T_7ad80850_bce1_11eb_97db_acde48001122row4_col0\" class=\"data row4 col0\" >0.766400</td>\n",
       "                        <td id=\"T_7ad80850_bce1_11eb_97db_acde48001122row4_col1\" class=\"data row4 col1\" >0.766355</td>\n",
       "                        <td id=\"T_7ad80850_bce1_11eb_97db_acde48001122row4_col2\" class=\"data row4 col2\" >0.757242</td>\n",
       "                        <td id=\"T_7ad80850_bce1_11eb_97db_acde48001122row4_col3\" class=\"data row4 col3\" >214.000000</td>\n",
       "            </tr>\n",
       "    </tbody></table>"
      ]
     },
     "metadata": {},
     "output_type": "display_data"
    }
   ],
   "source": [
    "m.compare(logit2, logit4, X_validate, y_validate)"
   ]
  },
  {
   "cell_type": "markdown",
   "metadata": {},
   "source": [
    "### 5. Choose you best model from the validation performation, and evaluate it on the test dataset. How do the performance metrics compare to validate? to train?"
   ]
  },
  {
   "cell_type": "code",
   "execution_count": 28,
   "metadata": {},
   "outputs": [],
   "source": [
    "# I select logit2"
   ]
  },
  {
   "cell_type": "code",
   "execution_count": null,
   "metadata": {},
   "outputs": [],
   "source": [
    "compare_metrics(logit2,'Train',X_train, y_train,'Test', X_test, y_test)"
   ]
  },
  {
   "cell_type": "code",
   "execution_count": 28,
   "metadata": {},
   "outputs": [
    {
     "name": "stdout",
     "output_type": "stream",
     "text": [
      "\n",
      "    ******    Train       ******                              ******     Test    ****** \n",
      "       Overall Accuracy:  80.72%              |                Overall Accuracy:  79.89%  \n",
      "                                                \n",
      "    True Positive Rate:  73.30%               |          The True Positive Rate:  73.91%  \n",
      "    False Positive Rate:  14.66%              |          The False Positive Rate:  16.36% \n",
      "    True Negative Rate:  85.34%               |          The True Negative Rate:  83.64% \n",
      "    False Negative Rate:  26.70%              |          The False Negative Rate:  26.09%\n",
      "    _________________________________________________________________________________\n",
      "    \n",
      "\n",
      "    Positive =  'survived'\n",
      "    Confusion Matrix\n",
      "    \n"
     ]
    },
    {
     "data": {
      "text/html": [
       "<style  type=\"text/css\" >\n",
       "</style><table id=\"T_7e4bda5c_bce1_11eb_97db_acde48001122\" style='display:inline'><caption>Train Confusion Matrix</caption><thead>    <tr>        <th class=\"blank level0\" ></th>        <th class=\"col_heading level0 col0\" >pred_dead</th>        <th class=\"col_heading level0 col1\" >pred_survived</th>    </tr></thead><tbody>\n",
       "                <tr>\n",
       "                        <th id=\"T_7e4bda5c_bce1_11eb_97db_acde48001122level0_row0\" class=\"row_heading level0 row0\" >actual_dead</th>\n",
       "                        <td id=\"T_7e4bda5c_bce1_11eb_97db_acde48001122row0_col0\" class=\"data row0 col0\" >TN : 262</td>\n",
       "                        <td id=\"T_7e4bda5c_bce1_11eb_97db_acde48001122row0_col1\" class=\"data row0 col1\" >FP : 45</td>\n",
       "            </tr>\n",
       "            <tr>\n",
       "                        <th id=\"T_7e4bda5c_bce1_11eb_97db_acde48001122level0_row1\" class=\"row_heading level0 row1\" >actual_survived</th>\n",
       "                        <td id=\"T_7e4bda5c_bce1_11eb_97db_acde48001122row1_col0\" class=\"data row1 col0\" >FN : 51</td>\n",
       "                        <td id=\"T_7e4bda5c_bce1_11eb_97db_acde48001122row1_col1\" class=\"data row1 col1\" >TP : 140</td>\n",
       "            </tr>\n",
       "    </tbody></table>                                                  <style  type=\"text/css\" >\n",
       "</style><table id=\"T_7e4c0b26_bce1_11eb_97db_acde48001122\" style='display:inline'><caption>Test Confusion Matrix</caption><thead>    <tr>        <th class=\"blank level0\" ></th>        <th class=\"col_heading level0 col0\" >pred_dead</th>        <th class=\"col_heading level0 col1\" >pred_survived</th>    </tr></thead><tbody>\n",
       "                <tr>\n",
       "                        <th id=\"T_7e4c0b26_bce1_11eb_97db_acde48001122level0_row0\" class=\"row_heading level0 row0\" >actual_dead</th>\n",
       "                        <td id=\"T_7e4c0b26_bce1_11eb_97db_acde48001122row0_col0\" class=\"data row0 col0\" >TN : 92</td>\n",
       "                        <td id=\"T_7e4c0b26_bce1_11eb_97db_acde48001122row0_col1\" class=\"data row0 col1\" >FP : 18</td>\n",
       "            </tr>\n",
       "            <tr>\n",
       "                        <th id=\"T_7e4c0b26_bce1_11eb_97db_acde48001122level0_row1\" class=\"row_heading level0 row1\" >actual_survived</th>\n",
       "                        <td id=\"T_7e4c0b26_bce1_11eb_97db_acde48001122row1_col0\" class=\"data row1 col0\" >FN : 18</td>\n",
       "                        <td id=\"T_7e4c0b26_bce1_11eb_97db_acde48001122row1_col1\" class=\"data row1 col1\" >TP : 51</td>\n",
       "            </tr>\n",
       "    </tbody></table>"
      ]
     },
     "metadata": {},
     "output_type": "display_data"
    },
    {
     "name": "stdout",
     "output_type": "stream",
     "text": [
      "\n",
      "    ________________________________________________________________________________\n",
      "    \n",
      "    Classification Report:\n",
      "    \n"
     ]
    },
    {
     "data": {
      "text/html": [
       "<style  type=\"text/css\" >\n",
       "</style><table id=\"T_7e4c80f6_bce1_11eb_97db_acde48001122\" style='display:inline'><caption>TrainClassification Report</caption><thead>    <tr>        <th class=\"blank level0\" ></th>        <th class=\"col_heading level0 col0\" >precision</th>        <th class=\"col_heading level0 col1\" >recall</th>        <th class=\"col_heading level0 col2\" >f1-score</th>        <th class=\"col_heading level0 col3\" >support</th>    </tr></thead><tbody>\n",
       "                <tr>\n",
       "                        <th id=\"T_7e4c80f6_bce1_11eb_97db_acde48001122level0_row0\" class=\"row_heading level0 row0\" >dead</th>\n",
       "                        <td id=\"T_7e4c80f6_bce1_11eb_97db_acde48001122row0_col0\" class=\"data row0 col0\" >0.837061</td>\n",
       "                        <td id=\"T_7e4c80f6_bce1_11eb_97db_acde48001122row0_col1\" class=\"data row0 col1\" >0.853420</td>\n",
       "                        <td id=\"T_7e4c80f6_bce1_11eb_97db_acde48001122row0_col2\" class=\"data row0 col2\" >0.845161</td>\n",
       "                        <td id=\"T_7e4c80f6_bce1_11eb_97db_acde48001122row0_col3\" class=\"data row0 col3\" >307.000000</td>\n",
       "            </tr>\n",
       "            <tr>\n",
       "                        <th id=\"T_7e4c80f6_bce1_11eb_97db_acde48001122level0_row1\" class=\"row_heading level0 row1\" >survived</th>\n",
       "                        <td id=\"T_7e4c80f6_bce1_11eb_97db_acde48001122row1_col0\" class=\"data row1 col0\" >0.756757</td>\n",
       "                        <td id=\"T_7e4c80f6_bce1_11eb_97db_acde48001122row1_col1\" class=\"data row1 col1\" >0.732984</td>\n",
       "                        <td id=\"T_7e4c80f6_bce1_11eb_97db_acde48001122row1_col2\" class=\"data row1 col2\" >0.744681</td>\n",
       "                        <td id=\"T_7e4c80f6_bce1_11eb_97db_acde48001122row1_col3\" class=\"data row1 col3\" >191.000000</td>\n",
       "            </tr>\n",
       "            <tr>\n",
       "                        <th id=\"T_7e4c80f6_bce1_11eb_97db_acde48001122level0_row2\" class=\"row_heading level0 row2\" >accuracy</th>\n",
       "                        <td id=\"T_7e4c80f6_bce1_11eb_97db_acde48001122row2_col0\" class=\"data row2 col0\" >0.807229</td>\n",
       "                        <td id=\"T_7e4c80f6_bce1_11eb_97db_acde48001122row2_col1\" class=\"data row2 col1\" >0.807229</td>\n",
       "                        <td id=\"T_7e4c80f6_bce1_11eb_97db_acde48001122row2_col2\" class=\"data row2 col2\" >0.807229</td>\n",
       "                        <td id=\"T_7e4c80f6_bce1_11eb_97db_acde48001122row2_col3\" class=\"data row2 col3\" >0.807229</td>\n",
       "            </tr>\n",
       "            <tr>\n",
       "                        <th id=\"T_7e4c80f6_bce1_11eb_97db_acde48001122level0_row3\" class=\"row_heading level0 row3\" >macro avg</th>\n",
       "                        <td id=\"T_7e4c80f6_bce1_11eb_97db_acde48001122row3_col0\" class=\"data row3 col0\" >0.796909</td>\n",
       "                        <td id=\"T_7e4c80f6_bce1_11eb_97db_acde48001122row3_col1\" class=\"data row3 col1\" >0.793202</td>\n",
       "                        <td id=\"T_7e4c80f6_bce1_11eb_97db_acde48001122row3_col2\" class=\"data row3 col2\" >0.794921</td>\n",
       "                        <td id=\"T_7e4c80f6_bce1_11eb_97db_acde48001122row3_col3\" class=\"data row3 col3\" >498.000000</td>\n",
       "            </tr>\n",
       "            <tr>\n",
       "                        <th id=\"T_7e4c80f6_bce1_11eb_97db_acde48001122level0_row4\" class=\"row_heading level0 row4\" >weighted avg</th>\n",
       "                        <td id=\"T_7e4c80f6_bce1_11eb_97db_acde48001122row4_col0\" class=\"data row4 col0\" >0.806261</td>\n",
       "                        <td id=\"T_7e4c80f6_bce1_11eb_97db_acde48001122row4_col1\" class=\"data row4 col1\" >0.807229</td>\n",
       "                        <td id=\"T_7e4c80f6_bce1_11eb_97db_acde48001122row4_col2\" class=\"data row4 col2\" >0.806624</td>\n",
       "                        <td id=\"T_7e4c80f6_bce1_11eb_97db_acde48001122row4_col3\" class=\"data row4 col3\" >498.000000</td>\n",
       "            </tr>\n",
       "    </tbody></table>                                             <style  type=\"text/css\" >\n",
       "</style><table id=\"T_7e4d288a_bce1_11eb_97db_acde48001122\" style='display:inline'><caption>TestClassification Report</caption><thead>    <tr>        <th class=\"blank level0\" ></th>        <th class=\"col_heading level0 col0\" >precision</th>        <th class=\"col_heading level0 col1\" >recall</th>        <th class=\"col_heading level0 col2\" >f1-score</th>        <th class=\"col_heading level0 col3\" >support</th>    </tr></thead><tbody>\n",
       "                <tr>\n",
       "                        <th id=\"T_7e4d288a_bce1_11eb_97db_acde48001122level0_row0\" class=\"row_heading level0 row0\" >dead</th>\n",
       "                        <td id=\"T_7e4d288a_bce1_11eb_97db_acde48001122row0_col0\" class=\"data row0 col0\" >0.836364</td>\n",
       "                        <td id=\"T_7e4d288a_bce1_11eb_97db_acde48001122row0_col1\" class=\"data row0 col1\" >0.836364</td>\n",
       "                        <td id=\"T_7e4d288a_bce1_11eb_97db_acde48001122row0_col2\" class=\"data row0 col2\" >0.836364</td>\n",
       "                        <td id=\"T_7e4d288a_bce1_11eb_97db_acde48001122row0_col3\" class=\"data row0 col3\" >110.000000</td>\n",
       "            </tr>\n",
       "            <tr>\n",
       "                        <th id=\"T_7e4d288a_bce1_11eb_97db_acde48001122level0_row1\" class=\"row_heading level0 row1\" >survived</th>\n",
       "                        <td id=\"T_7e4d288a_bce1_11eb_97db_acde48001122row1_col0\" class=\"data row1 col0\" >0.739130</td>\n",
       "                        <td id=\"T_7e4d288a_bce1_11eb_97db_acde48001122row1_col1\" class=\"data row1 col1\" >0.739130</td>\n",
       "                        <td id=\"T_7e4d288a_bce1_11eb_97db_acde48001122row1_col2\" class=\"data row1 col2\" >0.739130</td>\n",
       "                        <td id=\"T_7e4d288a_bce1_11eb_97db_acde48001122row1_col3\" class=\"data row1 col3\" >69.000000</td>\n",
       "            </tr>\n",
       "            <tr>\n",
       "                        <th id=\"T_7e4d288a_bce1_11eb_97db_acde48001122level0_row2\" class=\"row_heading level0 row2\" >accuracy</th>\n",
       "                        <td id=\"T_7e4d288a_bce1_11eb_97db_acde48001122row2_col0\" class=\"data row2 col0\" >0.798883</td>\n",
       "                        <td id=\"T_7e4d288a_bce1_11eb_97db_acde48001122row2_col1\" class=\"data row2 col1\" >0.798883</td>\n",
       "                        <td id=\"T_7e4d288a_bce1_11eb_97db_acde48001122row2_col2\" class=\"data row2 col2\" >0.798883</td>\n",
       "                        <td id=\"T_7e4d288a_bce1_11eb_97db_acde48001122row2_col3\" class=\"data row2 col3\" >0.798883</td>\n",
       "            </tr>\n",
       "            <tr>\n",
       "                        <th id=\"T_7e4d288a_bce1_11eb_97db_acde48001122level0_row3\" class=\"row_heading level0 row3\" >macro avg</th>\n",
       "                        <td id=\"T_7e4d288a_bce1_11eb_97db_acde48001122row3_col0\" class=\"data row3 col0\" >0.787747</td>\n",
       "                        <td id=\"T_7e4d288a_bce1_11eb_97db_acde48001122row3_col1\" class=\"data row3 col1\" >0.787747</td>\n",
       "                        <td id=\"T_7e4d288a_bce1_11eb_97db_acde48001122row3_col2\" class=\"data row3 col2\" >0.787747</td>\n",
       "                        <td id=\"T_7e4d288a_bce1_11eb_97db_acde48001122row3_col3\" class=\"data row3 col3\" >179.000000</td>\n",
       "            </tr>\n",
       "            <tr>\n",
       "                        <th id=\"T_7e4d288a_bce1_11eb_97db_acde48001122level0_row4\" class=\"row_heading level0 row4\" >weighted avg</th>\n",
       "                        <td id=\"T_7e4d288a_bce1_11eb_97db_acde48001122row4_col0\" class=\"data row4 col0\" >0.798883</td>\n",
       "                        <td id=\"T_7e4d288a_bce1_11eb_97db_acde48001122row4_col1\" class=\"data row4 col1\" >0.798883</td>\n",
       "                        <td id=\"T_7e4d288a_bce1_11eb_97db_acde48001122row4_col2\" class=\"data row4 col2\" >0.798883</td>\n",
       "                        <td id=\"T_7e4d288a_bce1_11eb_97db_acde48001122row4_col3\" class=\"data row4 col3\" >179.000000</td>\n",
       "            </tr>\n",
       "    </tbody></table>"
      ]
     },
     "metadata": {},
     "output_type": "display_data"
    }
   ],
   "source": [
    "#compare Train and Test\n",
    "m.compare_metrics(logit2,'Train',X_train, y_train,'Test', X_test, y_test)"
   ]
  },
  {
   "cell_type": "code",
   "execution_count": 29,
   "metadata": {},
   "outputs": [
    {
     "name": "stdout",
     "output_type": "stream",
     "text": [
      "\n",
      "    ******    Validate       ******                              ******     Test    ****** \n",
      "       Overall Accuracy:  78.04%              |                Overall Accuracy:  79.89%  \n",
      "                                                \n",
      "    True Positive Rate:  68.29%               |          The True Positive Rate:  73.91%  \n",
      "    False Positive Rate:  15.91%              |          The False Positive Rate:  16.36% \n",
      "    True Negative Rate:  84.09%               |          The True Negative Rate:  83.64% \n",
      "    False Negative Rate:  31.71%              |          The False Negative Rate:  26.09%\n",
      "    _________________________________________________________________________________\n",
      "    \n",
      "\n",
      "    Positive =  'survived'\n",
      "    Confusion Matrix\n",
      "    \n"
     ]
    },
    {
     "data": {
      "text/html": [
       "<style  type=\"text/css\" >\n",
       "</style><table id=\"T_575c2f86_bce2_11eb_97db_acde48001122\" style='display:inline'><caption>Validate Confusion Matrix</caption><thead>    <tr>        <th class=\"blank level0\" ></th>        <th class=\"col_heading level0 col0\" >pred_dead</th>        <th class=\"col_heading level0 col1\" >pred_survived</th>    </tr></thead><tbody>\n",
       "                <tr>\n",
       "                        <th id=\"T_575c2f86_bce2_11eb_97db_acde48001122level0_row0\" class=\"row_heading level0 row0\" >actual_dead</th>\n",
       "                        <td id=\"T_575c2f86_bce2_11eb_97db_acde48001122row0_col0\" class=\"data row0 col0\" >TN : 111</td>\n",
       "                        <td id=\"T_575c2f86_bce2_11eb_97db_acde48001122row0_col1\" class=\"data row0 col1\" >FP : 21</td>\n",
       "            </tr>\n",
       "            <tr>\n",
       "                        <th id=\"T_575c2f86_bce2_11eb_97db_acde48001122level0_row1\" class=\"row_heading level0 row1\" >actual_survived</th>\n",
       "                        <td id=\"T_575c2f86_bce2_11eb_97db_acde48001122row1_col0\" class=\"data row1 col0\" >FN : 26</td>\n",
       "                        <td id=\"T_575c2f86_bce2_11eb_97db_acde48001122row1_col1\" class=\"data row1 col1\" >TP : 56</td>\n",
       "            </tr>\n",
       "    </tbody></table>                                                  <style  type=\"text/css\" >\n",
       "</style><table id=\"T_575c53f8_bce2_11eb_97db_acde48001122\" style='display:inline'><caption>Test Confusion Matrix</caption><thead>    <tr>        <th class=\"blank level0\" ></th>        <th class=\"col_heading level0 col0\" >pred_dead</th>        <th class=\"col_heading level0 col1\" >pred_survived</th>    </tr></thead><tbody>\n",
       "                <tr>\n",
       "                        <th id=\"T_575c53f8_bce2_11eb_97db_acde48001122level0_row0\" class=\"row_heading level0 row0\" >actual_dead</th>\n",
       "                        <td id=\"T_575c53f8_bce2_11eb_97db_acde48001122row0_col0\" class=\"data row0 col0\" >TN : 92</td>\n",
       "                        <td id=\"T_575c53f8_bce2_11eb_97db_acde48001122row0_col1\" class=\"data row0 col1\" >FP : 18</td>\n",
       "            </tr>\n",
       "            <tr>\n",
       "                        <th id=\"T_575c53f8_bce2_11eb_97db_acde48001122level0_row1\" class=\"row_heading level0 row1\" >actual_survived</th>\n",
       "                        <td id=\"T_575c53f8_bce2_11eb_97db_acde48001122row1_col0\" class=\"data row1 col0\" >FN : 18</td>\n",
       "                        <td id=\"T_575c53f8_bce2_11eb_97db_acde48001122row1_col1\" class=\"data row1 col1\" >TP : 51</td>\n",
       "            </tr>\n",
       "    </tbody></table>"
      ]
     },
     "metadata": {},
     "output_type": "display_data"
    },
    {
     "name": "stdout",
     "output_type": "stream",
     "text": [
      "\n",
      "    ________________________________________________________________________________\n",
      "    \n",
      "    Classification Report:\n",
      "    \n"
     ]
    },
    {
     "data": {
      "text/html": [
       "<style  type=\"text/css\" >\n",
       "</style><table id=\"T_575ca934_bce2_11eb_97db_acde48001122\" style='display:inline'><caption>ValidateClassification Report</caption><thead>    <tr>        <th class=\"blank level0\" ></th>        <th class=\"col_heading level0 col0\" >precision</th>        <th class=\"col_heading level0 col1\" >recall</th>        <th class=\"col_heading level0 col2\" >f1-score</th>        <th class=\"col_heading level0 col3\" >support</th>    </tr></thead><tbody>\n",
       "                <tr>\n",
       "                        <th id=\"T_575ca934_bce2_11eb_97db_acde48001122level0_row0\" class=\"row_heading level0 row0\" >dead</th>\n",
       "                        <td id=\"T_575ca934_bce2_11eb_97db_acde48001122row0_col0\" class=\"data row0 col0\" >0.810219</td>\n",
       "                        <td id=\"T_575ca934_bce2_11eb_97db_acde48001122row0_col1\" class=\"data row0 col1\" >0.840909</td>\n",
       "                        <td id=\"T_575ca934_bce2_11eb_97db_acde48001122row0_col2\" class=\"data row0 col2\" >0.825279</td>\n",
       "                        <td id=\"T_575ca934_bce2_11eb_97db_acde48001122row0_col3\" class=\"data row0 col3\" >132.000000</td>\n",
       "            </tr>\n",
       "            <tr>\n",
       "                        <th id=\"T_575ca934_bce2_11eb_97db_acde48001122level0_row1\" class=\"row_heading level0 row1\" >survived</th>\n",
       "                        <td id=\"T_575ca934_bce2_11eb_97db_acde48001122row1_col0\" class=\"data row1 col0\" >0.727273</td>\n",
       "                        <td id=\"T_575ca934_bce2_11eb_97db_acde48001122row1_col1\" class=\"data row1 col1\" >0.682927</td>\n",
       "                        <td id=\"T_575ca934_bce2_11eb_97db_acde48001122row1_col2\" class=\"data row1 col2\" >0.704403</td>\n",
       "                        <td id=\"T_575ca934_bce2_11eb_97db_acde48001122row1_col3\" class=\"data row1 col3\" >82.000000</td>\n",
       "            </tr>\n",
       "            <tr>\n",
       "                        <th id=\"T_575ca934_bce2_11eb_97db_acde48001122level0_row2\" class=\"row_heading level0 row2\" >accuracy</th>\n",
       "                        <td id=\"T_575ca934_bce2_11eb_97db_acde48001122row2_col0\" class=\"data row2 col0\" >0.780374</td>\n",
       "                        <td id=\"T_575ca934_bce2_11eb_97db_acde48001122row2_col1\" class=\"data row2 col1\" >0.780374</td>\n",
       "                        <td id=\"T_575ca934_bce2_11eb_97db_acde48001122row2_col2\" class=\"data row2 col2\" >0.780374</td>\n",
       "                        <td id=\"T_575ca934_bce2_11eb_97db_acde48001122row2_col3\" class=\"data row2 col3\" >0.780374</td>\n",
       "            </tr>\n",
       "            <tr>\n",
       "                        <th id=\"T_575ca934_bce2_11eb_97db_acde48001122level0_row3\" class=\"row_heading level0 row3\" >macro avg</th>\n",
       "                        <td id=\"T_575ca934_bce2_11eb_97db_acde48001122row3_col0\" class=\"data row3 col0\" >0.768746</td>\n",
       "                        <td id=\"T_575ca934_bce2_11eb_97db_acde48001122row3_col1\" class=\"data row3 col1\" >0.761918</td>\n",
       "                        <td id=\"T_575ca934_bce2_11eb_97db_acde48001122row3_col2\" class=\"data row3 col2\" >0.764841</td>\n",
       "                        <td id=\"T_575ca934_bce2_11eb_97db_acde48001122row3_col3\" class=\"data row3 col3\" >214.000000</td>\n",
       "            </tr>\n",
       "            <tr>\n",
       "                        <th id=\"T_575ca934_bce2_11eb_97db_acde48001122level0_row4\" class=\"row_heading level0 row4\" >weighted avg</th>\n",
       "                        <td id=\"T_575ca934_bce2_11eb_97db_acde48001122row4_col0\" class=\"data row4 col0\" >0.778436</td>\n",
       "                        <td id=\"T_575ca934_bce2_11eb_97db_acde48001122row4_col1\" class=\"data row4 col1\" >0.780374</td>\n",
       "                        <td id=\"T_575ca934_bce2_11eb_97db_acde48001122row4_col2\" class=\"data row4 col2\" >0.778962</td>\n",
       "                        <td id=\"T_575ca934_bce2_11eb_97db_acde48001122row4_col3\" class=\"data row4 col3\" >214.000000</td>\n",
       "            </tr>\n",
       "    </tbody></table>                                             <style  type=\"text/css\" >\n",
       "</style><table id=\"T_575cfcfe_bce2_11eb_97db_acde48001122\" style='display:inline'><caption>TestClassification Report</caption><thead>    <tr>        <th class=\"blank level0\" ></th>        <th class=\"col_heading level0 col0\" >precision</th>        <th class=\"col_heading level0 col1\" >recall</th>        <th class=\"col_heading level0 col2\" >f1-score</th>        <th class=\"col_heading level0 col3\" >support</th>    </tr></thead><tbody>\n",
       "                <tr>\n",
       "                        <th id=\"T_575cfcfe_bce2_11eb_97db_acde48001122level0_row0\" class=\"row_heading level0 row0\" >dead</th>\n",
       "                        <td id=\"T_575cfcfe_bce2_11eb_97db_acde48001122row0_col0\" class=\"data row0 col0\" >0.836364</td>\n",
       "                        <td id=\"T_575cfcfe_bce2_11eb_97db_acde48001122row0_col1\" class=\"data row0 col1\" >0.836364</td>\n",
       "                        <td id=\"T_575cfcfe_bce2_11eb_97db_acde48001122row0_col2\" class=\"data row0 col2\" >0.836364</td>\n",
       "                        <td id=\"T_575cfcfe_bce2_11eb_97db_acde48001122row0_col3\" class=\"data row0 col3\" >110.000000</td>\n",
       "            </tr>\n",
       "            <tr>\n",
       "                        <th id=\"T_575cfcfe_bce2_11eb_97db_acde48001122level0_row1\" class=\"row_heading level0 row1\" >survived</th>\n",
       "                        <td id=\"T_575cfcfe_bce2_11eb_97db_acde48001122row1_col0\" class=\"data row1 col0\" >0.739130</td>\n",
       "                        <td id=\"T_575cfcfe_bce2_11eb_97db_acde48001122row1_col1\" class=\"data row1 col1\" >0.739130</td>\n",
       "                        <td id=\"T_575cfcfe_bce2_11eb_97db_acde48001122row1_col2\" class=\"data row1 col2\" >0.739130</td>\n",
       "                        <td id=\"T_575cfcfe_bce2_11eb_97db_acde48001122row1_col3\" class=\"data row1 col3\" >69.000000</td>\n",
       "            </tr>\n",
       "            <tr>\n",
       "                        <th id=\"T_575cfcfe_bce2_11eb_97db_acde48001122level0_row2\" class=\"row_heading level0 row2\" >accuracy</th>\n",
       "                        <td id=\"T_575cfcfe_bce2_11eb_97db_acde48001122row2_col0\" class=\"data row2 col0\" >0.798883</td>\n",
       "                        <td id=\"T_575cfcfe_bce2_11eb_97db_acde48001122row2_col1\" class=\"data row2 col1\" >0.798883</td>\n",
       "                        <td id=\"T_575cfcfe_bce2_11eb_97db_acde48001122row2_col2\" class=\"data row2 col2\" >0.798883</td>\n",
       "                        <td id=\"T_575cfcfe_bce2_11eb_97db_acde48001122row2_col3\" class=\"data row2 col3\" >0.798883</td>\n",
       "            </tr>\n",
       "            <tr>\n",
       "                        <th id=\"T_575cfcfe_bce2_11eb_97db_acde48001122level0_row3\" class=\"row_heading level0 row3\" >macro avg</th>\n",
       "                        <td id=\"T_575cfcfe_bce2_11eb_97db_acde48001122row3_col0\" class=\"data row3 col0\" >0.787747</td>\n",
       "                        <td id=\"T_575cfcfe_bce2_11eb_97db_acde48001122row3_col1\" class=\"data row3 col1\" >0.787747</td>\n",
       "                        <td id=\"T_575cfcfe_bce2_11eb_97db_acde48001122row3_col2\" class=\"data row3 col2\" >0.787747</td>\n",
       "                        <td id=\"T_575cfcfe_bce2_11eb_97db_acde48001122row3_col3\" class=\"data row3 col3\" >179.000000</td>\n",
       "            </tr>\n",
       "            <tr>\n",
       "                        <th id=\"T_575cfcfe_bce2_11eb_97db_acde48001122level0_row4\" class=\"row_heading level0 row4\" >weighted avg</th>\n",
       "                        <td id=\"T_575cfcfe_bce2_11eb_97db_acde48001122row4_col0\" class=\"data row4 col0\" >0.798883</td>\n",
       "                        <td id=\"T_575cfcfe_bce2_11eb_97db_acde48001122row4_col1\" class=\"data row4 col1\" >0.798883</td>\n",
       "                        <td id=\"T_575cfcfe_bce2_11eb_97db_acde48001122row4_col2\" class=\"data row4 col2\" >0.798883</td>\n",
       "                        <td id=\"T_575cfcfe_bce2_11eb_97db_acde48001122row4_col3\" class=\"data row4 col3\" >179.000000</td>\n",
       "            </tr>\n",
       "    </tbody></table>"
      ]
     },
     "metadata": {},
     "output_type": "display_data"
    }
   ],
   "source": [
    "#compare validate and Test\n",
    "m.compare_metrics(logit2,'Validate',X_validate, y_validate,'Test', X_test, y_test)\n"
   ]
  },
  {
   "cell_type": "code",
   "execution_count": 30,
   "metadata": {
    "scrolled": true
   },
   "outputs": [
    {
     "name": "stdout",
     "output_type": "stream",
     "text": [
      "incorrect name\n"
     ]
    }
   ],
   "source": [
    "#compare validate and Test\n",
    "m.compare_metrics(logit2,'Validaccte',X_validate, y_validate,'Test', X_test, y_test)"
   ]
  },
  {
   "cell_type": "code",
   "execution_count": null,
   "metadata": {},
   "outputs": [],
   "source": []
  },
  {
   "cell_type": "code",
   "execution_count": null,
   "metadata": {},
   "outputs": [],
   "source": [
    "\n",
    "    "
   ]
  },
  {
   "cell_type": "code",
   "execution_count": null,
   "metadata": {},
   "outputs": [],
   "source": []
  },
  {
   "cell_type": "code",
   "execution_count": null,
   "metadata": {},
   "outputs": [],
   "source": []
  },
  {
   "cell_type": "code",
   "execution_count": null,
   "metadata": {},
   "outputs": [],
   "source": []
  }
 ],
 "metadata": {
  "kernelspec": {
   "display_name": "Python 3",
   "language": "python",
   "name": "python3"
  },
  "language_info": {
   "codemirror_mode": {
    "name": "ipython",
    "version": 3
   },
   "file_extension": ".py",
   "mimetype": "text/x-python",
   "name": "python",
   "nbconvert_exporter": "python",
   "pygments_lexer": "ipython3",
   "version": "3.8.5"
  }
 },
 "nbformat": 4,
 "nbformat_minor": 4
}
