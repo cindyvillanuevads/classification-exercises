{
 "cells": [
  {
   "cell_type": "code",
   "execution_count": 1,
   "metadata": {},
   "outputs": [],
   "source": [
    "from sklearn.dummy import DummyClassifier\n",
    "from sklearn.metrics import classification_report\n",
    "import acquire\n",
    "import prepare\n",
    "import pandas as pd\n",
    "from sklearn.tree import DecisionTreeClassifier, plot_tree, export_text\n",
    "from io import StringIO\n",
    "import numpy as np\n",
    "from sklearn.metrics import confusion_matrix\n",
    "from sklearn.metrics import accuracy_score\n",
    "from sklearn.metrics import precision_score\n",
    "from sklearn.metrics import recall_score\n",
    "from sklearn.metrics import classification_report"
   ]
  },
  {
   "cell_type": "markdown",
   "metadata": {},
   "source": [
    "# Exercise"
   ]
  },
  {
   "cell_type": "markdown",
   "metadata": {},
   "source": [
    "### 1. What is your baseline prediction? What is your baseline accuracy? remember: your baseline prediction for a classification problem is predicting the most prevelant class in the training dataset (the mode). When you make those predictions, what is your accuracy? This is your baseline accuracy."
   ]
  },
  {
   "cell_type": "code",
   "execution_count": 2,
   "metadata": {},
   "outputs": [],
   "source": [
    "#acquire data\n",
    "df = acquire.get_titanic_data()"
   ]
  },
  {
   "cell_type": "code",
   "execution_count": 3,
   "metadata": {
    "scrolled": true
   },
   "outputs": [
    {
     "data": {
      "text/html": [
       "<div>\n",
       "<style scoped>\n",
       "    .dataframe tbody tr th:only-of-type {\n",
       "        vertical-align: middle;\n",
       "    }\n",
       "\n",
       "    .dataframe tbody tr th {\n",
       "        vertical-align: top;\n",
       "    }\n",
       "\n",
       "    .dataframe thead th {\n",
       "        text-align: right;\n",
       "    }\n",
       "</style>\n",
       "<table border=\"1\" class=\"dataframe\">\n",
       "  <thead>\n",
       "    <tr style=\"text-align: right;\">\n",
       "      <th></th>\n",
       "      <th>passenger_id</th>\n",
       "      <th>survived</th>\n",
       "      <th>pclass</th>\n",
       "      <th>sex</th>\n",
       "      <th>age</th>\n",
       "      <th>sibsp</th>\n",
       "      <th>parch</th>\n",
       "      <th>fare</th>\n",
       "      <th>embarked</th>\n",
       "      <th>class</th>\n",
       "      <th>deck</th>\n",
       "      <th>embark_town</th>\n",
       "      <th>alone</th>\n",
       "    </tr>\n",
       "  </thead>\n",
       "  <tbody>\n",
       "    <tr>\n",
       "      <th>0</th>\n",
       "      <td>0</td>\n",
       "      <td>0</td>\n",
       "      <td>3</td>\n",
       "      <td>male</td>\n",
       "      <td>22.0</td>\n",
       "      <td>1</td>\n",
       "      <td>0</td>\n",
       "      <td>7.2500</td>\n",
       "      <td>S</td>\n",
       "      <td>Third</td>\n",
       "      <td>NaN</td>\n",
       "      <td>Southampton</td>\n",
       "      <td>0</td>\n",
       "    </tr>\n",
       "    <tr>\n",
       "      <th>1</th>\n",
       "      <td>1</td>\n",
       "      <td>1</td>\n",
       "      <td>1</td>\n",
       "      <td>female</td>\n",
       "      <td>38.0</td>\n",
       "      <td>1</td>\n",
       "      <td>0</td>\n",
       "      <td>71.2833</td>\n",
       "      <td>C</td>\n",
       "      <td>First</td>\n",
       "      <td>C</td>\n",
       "      <td>Cherbourg</td>\n",
       "      <td>0</td>\n",
       "    </tr>\n",
       "    <tr>\n",
       "      <th>2</th>\n",
       "      <td>2</td>\n",
       "      <td>1</td>\n",
       "      <td>3</td>\n",
       "      <td>female</td>\n",
       "      <td>26.0</td>\n",
       "      <td>0</td>\n",
       "      <td>0</td>\n",
       "      <td>7.9250</td>\n",
       "      <td>S</td>\n",
       "      <td>Third</td>\n",
       "      <td>NaN</td>\n",
       "      <td>Southampton</td>\n",
       "      <td>1</td>\n",
       "    </tr>\n",
       "    <tr>\n",
       "      <th>3</th>\n",
       "      <td>3</td>\n",
       "      <td>1</td>\n",
       "      <td>1</td>\n",
       "      <td>female</td>\n",
       "      <td>35.0</td>\n",
       "      <td>1</td>\n",
       "      <td>0</td>\n",
       "      <td>53.1000</td>\n",
       "      <td>S</td>\n",
       "      <td>First</td>\n",
       "      <td>C</td>\n",
       "      <td>Southampton</td>\n",
       "      <td>0</td>\n",
       "    </tr>\n",
       "    <tr>\n",
       "      <th>4</th>\n",
       "      <td>4</td>\n",
       "      <td>0</td>\n",
       "      <td>3</td>\n",
       "      <td>male</td>\n",
       "      <td>35.0</td>\n",
       "      <td>0</td>\n",
       "      <td>0</td>\n",
       "      <td>8.0500</td>\n",
       "      <td>S</td>\n",
       "      <td>Third</td>\n",
       "      <td>NaN</td>\n",
       "      <td>Southampton</td>\n",
       "      <td>1</td>\n",
       "    </tr>\n",
       "  </tbody>\n",
       "</table>\n",
       "</div>"
      ],
      "text/plain": [
       "   passenger_id  survived  pclass     sex   age  sibsp  parch     fare  \\\n",
       "0             0         0       3    male  22.0      1      0   7.2500   \n",
       "1             1         1       1  female  38.0      1      0  71.2833   \n",
       "2             2         1       3  female  26.0      0      0   7.9250   \n",
       "3             3         1       1  female  35.0      1      0  53.1000   \n",
       "4             4         0       3    male  35.0      0      0   8.0500   \n",
       "\n",
       "  embarked  class deck  embark_town  alone  \n",
       "0        S  Third  NaN  Southampton      0  \n",
       "1        C  First    C    Cherbourg      0  \n",
       "2        S  Third  NaN  Southampton      1  \n",
       "3        S  First    C  Southampton      0  \n",
       "4        S  Third  NaN  Southampton      1  "
      ]
     },
     "execution_count": 3,
     "metadata": {},
     "output_type": "execute_result"
    }
   ],
   "source": [
    "df.head()"
   ]
  },
  {
   "cell_type": "code",
   "execution_count": 4,
   "metadata": {},
   "outputs": [
    {
     "data": {
      "text/plain": [
       "(891, 13)"
      ]
     },
     "execution_count": 4,
     "metadata": {},
     "output_type": "execute_result"
    }
   ],
   "source": [
    "df.shape"
   ]
  },
  {
   "cell_type": "code",
   "execution_count": 5,
   "metadata": {},
   "outputs": [],
   "source": [
    "#split data\n",
    "train, validate, test = prepare.prep_titanic_data(df, column = 'age', method = 'median', dummies = ['embarked', 'sex'])\n"
   ]
  },
  {
   "cell_type": "code",
   "execution_count": 6,
   "metadata": {},
   "outputs": [
    {
     "data": {
      "text/plain": [
       "((498, 11), (214, 11), (179, 11))"
      ]
     },
     "execution_count": 6,
     "metadata": {},
     "output_type": "execute_result"
    }
   ],
   "source": [
    "train.shape, validate.shape, test.shape"
   ]
  },
  {
   "cell_type": "code",
   "execution_count": 7,
   "metadata": {},
   "outputs": [
    {
     "data": {
      "text/html": [
       "<div>\n",
       "<style scoped>\n",
       "    .dataframe tbody tr th:only-of-type {\n",
       "        vertical-align: middle;\n",
       "    }\n",
       "\n",
       "    .dataframe tbody tr th {\n",
       "        vertical-align: top;\n",
       "    }\n",
       "\n",
       "    .dataframe thead th {\n",
       "        text-align: right;\n",
       "    }\n",
       "</style>\n",
       "<table border=\"1\" class=\"dataframe\">\n",
       "  <thead>\n",
       "    <tr style=\"text-align: right;\">\n",
       "      <th></th>\n",
       "      <th>passenger_id</th>\n",
       "      <th>survived</th>\n",
       "      <th>pclass</th>\n",
       "      <th>age</th>\n",
       "      <th>sibsp</th>\n",
       "      <th>parch</th>\n",
       "      <th>fare</th>\n",
       "      <th>alone</th>\n",
       "      <th>embarked_Q</th>\n",
       "      <th>embarked_S</th>\n",
       "      <th>sex_male</th>\n",
       "    </tr>\n",
       "  </thead>\n",
       "  <tbody>\n",
       "    <tr>\n",
       "      <th>583</th>\n",
       "      <td>583</td>\n",
       "      <td>0</td>\n",
       "      <td>1</td>\n",
       "      <td>36.0</td>\n",
       "      <td>0</td>\n",
       "      <td>0</td>\n",
       "      <td>40.125</td>\n",
       "      <td>1</td>\n",
       "      <td>0</td>\n",
       "      <td>0</td>\n",
       "      <td>1</td>\n",
       "    </tr>\n",
       "  </tbody>\n",
       "</table>\n",
       "</div>"
      ],
      "text/plain": [
       "     passenger_id  survived  pclass   age  sibsp  parch    fare  alone  \\\n",
       "583           583         0       1  36.0      0      0  40.125      1   \n",
       "\n",
       "     embarked_Q  embarked_S  sex_male  \n",
       "583           0           0         1  "
      ]
     },
     "execution_count": 7,
     "metadata": {},
     "output_type": "execute_result"
    }
   ],
   "source": [
    "train.head(1)"
   ]
  },
  {
   "cell_type": "code",
   "execution_count": 8,
   "metadata": {},
   "outputs": [],
   "source": [
    "# drop out non-numerical columns or non-encoded version remaining in this data set.\n",
    "#in this case, it is only 'passaner_id'\n",
    "train.drop(columns = ['passenger_id'], inplace=True)\n",
    "validate.drop(columns = ['passenger_id'], inplace=True)\n",
    "test.drop(columns = ['passenger_id'], inplace=True)"
   ]
  },
  {
   "cell_type": "code",
   "execution_count": 9,
   "metadata": {},
   "outputs": [
    {
     "data": {
      "text/plain": [
       "((498, 10), (214, 10), (179, 10))"
      ]
     },
     "execution_count": 9,
     "metadata": {},
     "output_type": "execute_result"
    }
   ],
   "source": [
    "train.shape, validate.shape, test.shape"
   ]
  },
  {
   "cell_type": "code",
   "execution_count": 10,
   "metadata": {
    "scrolled": false
   },
   "outputs": [
    {
     "data": {
      "text/html": [
       "<div>\n",
       "<style scoped>\n",
       "    .dataframe tbody tr th:only-of-type {\n",
       "        vertical-align: middle;\n",
       "    }\n",
       "\n",
       "    .dataframe tbody tr th {\n",
       "        vertical-align: top;\n",
       "    }\n",
       "\n",
       "    .dataframe thead th {\n",
       "        text-align: right;\n",
       "    }\n",
       "</style>\n",
       "<table border=\"1\" class=\"dataframe\">\n",
       "  <thead>\n",
       "    <tr style=\"text-align: right;\">\n",
       "      <th></th>\n",
       "      <th>survived</th>\n",
       "      <th>pclass</th>\n",
       "      <th>age</th>\n",
       "      <th>sibsp</th>\n",
       "      <th>parch</th>\n",
       "      <th>fare</th>\n",
       "      <th>alone</th>\n",
       "      <th>embarked_Q</th>\n",
       "      <th>embarked_S</th>\n",
       "      <th>sex_male</th>\n",
       "    </tr>\n",
       "  </thead>\n",
       "  <tbody>\n",
       "    <tr>\n",
       "      <th>583</th>\n",
       "      <td>0</td>\n",
       "      <td>1</td>\n",
       "      <td>36.0</td>\n",
       "      <td>0</td>\n",
       "      <td>0</td>\n",
       "      <td>40.125</td>\n",
       "      <td>1</td>\n",
       "      <td>0</td>\n",
       "      <td>0</td>\n",
       "      <td>1</td>\n",
       "    </tr>\n",
       "    <tr>\n",
       "      <th>165</th>\n",
       "      <td>1</td>\n",
       "      <td>3</td>\n",
       "      <td>9.0</td>\n",
       "      <td>0</td>\n",
       "      <td>2</td>\n",
       "      <td>20.525</td>\n",
       "      <td>0</td>\n",
       "      <td>0</td>\n",
       "      <td>1</td>\n",
       "      <td>1</td>\n",
       "    </tr>\n",
       "  </tbody>\n",
       "</table>\n",
       "</div>"
      ],
      "text/plain": [
       "     survived  pclass   age  sibsp  parch    fare  alone  embarked_Q  \\\n",
       "583         0       1  36.0      0      0  40.125      1           0   \n",
       "165         1       3   9.0      0      2  20.525      0           0   \n",
       "\n",
       "     embarked_S  sex_male  \n",
       "583           0         1  \n",
       "165           1         1  "
      ]
     },
     "execution_count": 10,
     "metadata": {},
     "output_type": "execute_result"
    }
   ],
   "source": [
    "train.head(2)"
   ]
  },
  {
   "cell_type": "code",
   "execution_count": 11,
   "metadata": {},
   "outputs": [],
   "source": [
    "# We will be attempting to make a Decision Tree Classifier Model that will predict survival on the \n",
    "# Titanic that performs better than the baseline"
   ]
  },
  {
   "cell_type": "code",
   "execution_count": 12,
   "metadata": {
    "scrolled": true
   },
   "outputs": [
    {
     "data": {
      "text/plain": [
       "0    307\n",
       "1    191\n",
       "Name: survived, dtype: int64"
      ]
     },
     "execution_count": 12,
     "metadata": {},
     "output_type": "execute_result"
    }
   ],
   "source": [
    "# we are working with survided. The most prevelant class in the training dataset (the mode)\n",
    "train.survived.value_counts()"
   ]
  },
  {
   "cell_type": "code",
   "execution_count": 13,
   "metadata": {
    "scrolled": true
   },
   "outputs": [
    {
     "data": {
      "text/plain": [
       "0    0\n",
       "dtype: int64"
      ]
     },
     "execution_count": 13,
     "metadata": {},
     "output_type": "execute_result"
    }
   ],
   "source": [
    "train.survived.mode()"
   ]
  },
  {
   "cell_type": "code",
   "execution_count": 14,
   "metadata": {},
   "outputs": [],
   "source": [
    "#so the baselined is survived = 0\n",
    "train['baseline'] = 0"
   ]
  },
  {
   "cell_type": "code",
   "execution_count": 15,
   "metadata": {},
   "outputs": [
    {
     "data": {
      "text/plain": [
       "0.6164658634538153"
      ]
     },
     "execution_count": 15,
     "metadata": {},
     "output_type": "execute_result"
    }
   ],
   "source": [
    "#accuracy\n",
    "(train.baseline == train.survived).mean()"
   ]
  },
  {
   "cell_type": "code",
   "execution_count": 16,
   "metadata": {},
   "outputs": [
    {
     "name": "stdout",
     "output_type": "stream",
     "text": [
      "The baseline accuracy for nonsurvival in all cases on the Titanic Dataset is 0.616\n"
     ]
    }
   ],
   "source": [
    "print(f'The baseline accuracy for nonsurvival in all cases on the Titanic Dataset is {(train.baseline == train.survived).mean():.3}')"
   ]
  },
  {
   "cell_type": "code",
   "execution_count": 17,
   "metadata": {},
   "outputs": [
    {
     "name": "stdout",
     "output_type": "stream",
     "text": [
      "              precision    recall  f1-score   support\n",
      "\n",
      "           0       0.62      1.00      0.76       307\n",
      "           1       1.00      0.00      0.00       191\n",
      "\n",
      "    accuracy                           0.62       498\n",
      "   macro avg       0.81      0.50      0.38       498\n",
      "weighted avg       0.76      0.62      0.47       498\n",
      "\n"
     ]
    }
   ],
   "source": [
    "# classification report of baseline model\n",
    "baseline_class_report = classification_report(train.survived, train.baseline, zero_division=True)\n",
    "print(baseline_class_report)"
   ]
  },
  {
   "cell_type": "code",
   "execution_count": null,
   "metadata": {},
   "outputs": [],
   "source": []
  },
  {
   "cell_type": "code",
   "execution_count": null,
   "metadata": {},
   "outputs": [],
   "source": []
  },
  {
   "cell_type": "code",
   "execution_count": null,
   "metadata": {},
   "outputs": [],
   "source": [
    "\n"
   ]
  },
  {
   "cell_type": "code",
   "execution_count": null,
   "metadata": {},
   "outputs": [],
   "source": []
  },
  {
   "cell_type": "code",
   "execution_count": null,
   "metadata": {},
   "outputs": [],
   "source": [
    "#other way to check the accuracy of baseline\n",
    "#split \n",
    "X_train, y_train = train.drop(columns='survived'), train.survived\n",
    "#as the baseline mode is = 0 , thats why we put constant = 0\n",
    "# 1. Create the object\n",
    "baseline = DummyClassifier(strategy='constant', constant=0)\n",
    "# 2. Fit the object\n",
    "baseline.fit(X_train, y_train)"
   ]
  },
  {
   "cell_type": "code",
   "execution_count": null,
   "metadata": {},
   "outputs": [],
   "source": [
    "print(f'Baseline accuracy: %.4f' % baseline.score(X_train, y_train))"
   ]
  },
  {
   "cell_type": "code",
   "execution_count": null,
   "metadata": {},
   "outputs": [],
   "source": []
  },
  {
   "cell_type": "code",
   "execution_count": null,
   "metadata": {},
   "outputs": [],
   "source": []
  },
  {
   "cell_type": "code",
   "execution_count": null,
   "metadata": {},
   "outputs": [],
   "source": []
  },
  {
   "cell_type": "markdown",
   "metadata": {},
   "source": [
    "### 2. Fit the decision tree classifier to your training sample and transform (i.e. make predictions on the training sample)"
   ]
  },
  {
   "cell_type": "code",
   "execution_count": 18,
   "metadata": {
    "scrolled": false
   },
   "outputs": [
    {
     "data": {
      "text/html": [
       "<div>\n",
       "<style scoped>\n",
       "    .dataframe tbody tr th:only-of-type {\n",
       "        vertical-align: middle;\n",
       "    }\n",
       "\n",
       "    .dataframe tbody tr th {\n",
       "        vertical-align: top;\n",
       "    }\n",
       "\n",
       "    .dataframe thead th {\n",
       "        text-align: right;\n",
       "    }\n",
       "</style>\n",
       "<table border=\"1\" class=\"dataframe\">\n",
       "  <thead>\n",
       "    <tr style=\"text-align: right;\">\n",
       "      <th></th>\n",
       "      <th>survived</th>\n",
       "      <th>pclass</th>\n",
       "      <th>age</th>\n",
       "      <th>sibsp</th>\n",
       "      <th>parch</th>\n",
       "      <th>fare</th>\n",
       "      <th>alone</th>\n",
       "      <th>embarked_Q</th>\n",
       "      <th>embarked_S</th>\n",
       "      <th>sex_male</th>\n",
       "      <th>baseline</th>\n",
       "    </tr>\n",
       "  </thead>\n",
       "  <tbody>\n",
       "    <tr>\n",
       "      <th>583</th>\n",
       "      <td>0</td>\n",
       "      <td>1</td>\n",
       "      <td>36.0</td>\n",
       "      <td>0</td>\n",
       "      <td>0</td>\n",
       "      <td>40.125</td>\n",
       "      <td>1</td>\n",
       "      <td>0</td>\n",
       "      <td>0</td>\n",
       "      <td>1</td>\n",
       "      <td>0</td>\n",
       "    </tr>\n",
       "  </tbody>\n",
       "</table>\n",
       "</div>"
      ],
      "text/plain": [
       "     survived  pclass   age  sibsp  parch    fare  alone  embarked_Q  \\\n",
       "583         0       1  36.0      0      0  40.125      1           0   \n",
       "\n",
       "     embarked_S  sex_male  baseline  \n",
       "583           0         1         0  "
      ]
     },
     "execution_count": 18,
     "metadata": {},
     "output_type": "execute_result"
    }
   ],
   "source": [
    "train.head(1)"
   ]
  },
  {
   "cell_type": "code",
   "execution_count": 19,
   "metadata": {},
   "outputs": [],
   "source": [
    "# remove baseline assumption from the train, we wont need this column anymore\n",
    "train.drop(columns='baseline', inplace=True)"
   ]
  },
  {
   "cell_type": "code",
   "execution_count": 20,
   "metadata": {},
   "outputs": [],
   "source": [
    "# split our X and y\n",
    "# do the capital X, lowercase y thing for train test and split\n",
    "# X is the data frame of the features, y is a series of the target\n",
    "X_train = train.drop(columns='survived')\n",
    "y_train = train[['survived']]\n",
    "X_validate, y_validate = validate.drop(columns='survived'), validate['survived']\n",
    "X_test, y_test = test.drop(columns='survived'), test['survived']"
   ]
  },
  {
   "cell_type": "code",
   "execution_count": null,
   "metadata": {},
   "outputs": [],
   "source": [
    "# #other way to do the split is decide wich columns we are going to use\n",
    "# X_cols = [ 'pclass','age', 'sex_male','alone', 'embarked_Q', 'embarked_S']\n",
    "# y_col = 'survived'\n",
    "\n",
    "# X_train, y_train = train[X_cols], train[y_col]\n",
    "# X_train, y_train = train[X_cols], train[y_col]\n",
    "# X_validate, y_validate = validate[X_cols], validate[y_col]\n",
    "# X_test, y_test = test[X_cols], test[y_col]"
   ]
  },
  {
   "cell_type": "code",
   "execution_count": 21,
   "metadata": {
    "scrolled": true
   },
   "outputs": [
    {
     "data": {
      "text/html": [
       "<div>\n",
       "<style scoped>\n",
       "    .dataframe tbody tr th:only-of-type {\n",
       "        vertical-align: middle;\n",
       "    }\n",
       "\n",
       "    .dataframe tbody tr th {\n",
       "        vertical-align: top;\n",
       "    }\n",
       "\n",
       "    .dataframe thead th {\n",
       "        text-align: right;\n",
       "    }\n",
       "</style>\n",
       "<table border=\"1\" class=\"dataframe\">\n",
       "  <thead>\n",
       "    <tr style=\"text-align: right;\">\n",
       "      <th></th>\n",
       "      <th>pclass</th>\n",
       "      <th>age</th>\n",
       "      <th>sibsp</th>\n",
       "      <th>parch</th>\n",
       "      <th>fare</th>\n",
       "      <th>alone</th>\n",
       "      <th>embarked_Q</th>\n",
       "      <th>embarked_S</th>\n",
       "      <th>sex_male</th>\n",
       "    </tr>\n",
       "  </thead>\n",
       "  <tbody>\n",
       "    <tr>\n",
       "      <th>583</th>\n",
       "      <td>1</td>\n",
       "      <td>36.0</td>\n",
       "      <td>0</td>\n",
       "      <td>0</td>\n",
       "      <td>40.125</td>\n",
       "      <td>1</td>\n",
       "      <td>0</td>\n",
       "      <td>0</td>\n",
       "      <td>1</td>\n",
       "    </tr>\n",
       "  </tbody>\n",
       "</table>\n",
       "</div>"
      ],
      "text/plain": [
       "     pclass   age  sibsp  parch    fare  alone  embarked_Q  embarked_S  \\\n",
       "583       1  36.0      0      0  40.125      1           0           0   \n",
       "\n",
       "     sex_male  \n",
       "583         1  "
      ]
     },
     "execution_count": 21,
     "metadata": {},
     "output_type": "execute_result"
    }
   ],
   "source": [
    "X_train.head(1)"
   ]
  },
  {
   "cell_type": "code",
   "execution_count": 22,
   "metadata": {
    "scrolled": true
   },
   "outputs": [
    {
     "data": {
      "text/html": [
       "<div>\n",
       "<style scoped>\n",
       "    .dataframe tbody tr th:only-of-type {\n",
       "        vertical-align: middle;\n",
       "    }\n",
       "\n",
       "    .dataframe tbody tr th {\n",
       "        vertical-align: top;\n",
       "    }\n",
       "\n",
       "    .dataframe thead th {\n",
       "        text-align: right;\n",
       "    }\n",
       "</style>\n",
       "<table border=\"1\" class=\"dataframe\">\n",
       "  <thead>\n",
       "    <tr style=\"text-align: right;\">\n",
       "      <th></th>\n",
       "      <th>survived</th>\n",
       "    </tr>\n",
       "  </thead>\n",
       "  <tbody>\n",
       "    <tr>\n",
       "      <th>583</th>\n",
       "      <td>0</td>\n",
       "    </tr>\n",
       "  </tbody>\n",
       "</table>\n",
       "</div>"
      ],
      "text/plain": [
       "     survived\n",
       "583         0"
      ]
     },
     "execution_count": 22,
     "metadata": {},
     "output_type": "execute_result"
    }
   ],
   "source": [
    "y_train.head(1)"
   ]
  },
  {
   "cell_type": "code",
   "execution_count": 23,
   "metadata": {},
   "outputs": [
    {
     "data": {
      "text/plain": [
       "((498, 9), (498, 1))"
      ]
     },
     "execution_count": 23,
     "metadata": {},
     "output_type": "execute_result"
    }
   ],
   "source": [
    "X_train.shape, y_train.shape"
   ]
  },
  {
   "cell_type": "code",
   "execution_count": 24,
   "metadata": {},
   "outputs": [
    {
     "data": {
      "text/plain": [
       "DecisionTreeClassifier()"
      ]
     },
     "execution_count": 24,
     "metadata": {},
     "output_type": "execute_result"
    }
   ],
   "source": [
    "# create the model\n",
    "model = DecisionTreeClassifier()\n",
    "# fit the model\n",
    "model.fit(X_train, y_train)"
   ]
  },
  {
   "cell_type": "code",
   "execution_count": 25,
   "metadata": {
    "scrolled": true
   },
   "outputs": [
    {
     "data": {
      "text/plain": [
       "0.9939759036144579"
      ]
     },
     "execution_count": 25,
     "metadata": {},
     "output_type": "execute_result"
    }
   ],
   "source": [
    "#calculate the accuracy\n",
    "acc = model.score(X_train, y_train)\n",
    "acc"
   ]
  },
  {
   "cell_type": "code",
   "execution_count": 26,
   "metadata": {
    "scrolled": false
   },
   "outputs": [
    {
     "name": "stdout",
     "output_type": "stream",
     "text": [
      "training score: 99.40%\n",
      "validate score: 80.37%\n"
     ]
    }
   ],
   "source": [
    "\n",
    "# look at the model scores for training set and validate set\n",
    "print(f'training score: {model.score(X_train, y_train):.2%}')\n",
    "print(f'validate score: {model.score(X_validate, y_validate):.2%}')"
   ]
  },
  {
   "cell_type": "code",
   "execution_count": 27,
   "metadata": {},
   "outputs": [
    {
     "data": {
      "text/plain": [
       "[Text(599.9923469387755, 631.9350000000001, 'sex_male <= 0.5\\ngini = 0.473\\nsamples = 498\\nvalue = [307, 191]\\nclass = died'),\n",
       " Text(189.17908163265307, 591.1650000000001, 'pclass <= 2.5\\ngini = 0.365\\nsamples = 175\\nvalue = [42, 133]\\nclass = survived'),\n",
       " Text(54.66122448979592, 550.395, 'age <= 3.0\\ngini = 0.081\\nsamples = 94\\nvalue = [4, 90]\\nclass = survived'),\n",
       " Text(40.99591836734694, 509.625, 'gini = 0.0\\nsamples = 1\\nvalue = [1, 0]\\nclass = died'),\n",
       " Text(68.3265306122449, 509.625, 'fare <= 28.856\\ngini = 0.062\\nsamples = 93\\nvalue = [3, 90]\\nclass = survived'),\n",
       " Text(54.66122448979592, 468.855, 'fare <= 28.231\\ngini = 0.133\\nsamples = 42\\nvalue = [3, 39]\\nclass = survived'),\n",
       " Text(40.99591836734694, 428.08500000000004, 'age <= 27.5\\ngini = 0.093\\nsamples = 41\\nvalue = [2, 39]\\nclass = survived'),\n",
       " Text(27.33061224489796, 387.31500000000005, 'age <= 23.5\\ngini = 0.208\\nsamples = 17\\nvalue = [2, 15]\\nclass = survived'),\n",
       " Text(13.66530612244898, 346.545, 'gini = 0.0\\nsamples = 10\\nvalue = [0, 10]\\nclass = survived'),\n",
       " Text(40.99591836734694, 346.545, 'fare <= 13.429\\ngini = 0.408\\nsamples = 7\\nvalue = [2, 5]\\nclass = survived'),\n",
       " Text(27.33061224489796, 305.77500000000003, 'gini = 0.0\\nsamples = 1\\nvalue = [1, 0]\\nclass = died'),\n",
       " Text(54.66122448979592, 305.77500000000003, 'age <= 25.5\\ngini = 0.278\\nsamples = 6\\nvalue = [1, 5]\\nclass = survived'),\n",
       " Text(40.99591836734694, 265.005, 'gini = 0.0\\nsamples = 4\\nvalue = [0, 4]\\nclass = survived'),\n",
       " Text(68.3265306122449, 265.005, 'embarked_S <= 0.5\\ngini = 0.5\\nsamples = 2\\nvalue = [1, 1]\\nclass = died'),\n",
       " Text(54.66122448979592, 224.235, 'gini = 0.0\\nsamples = 1\\nvalue = [0, 1]\\nclass = survived'),\n",
       " Text(81.99183673469388, 224.235, 'gini = 0.0\\nsamples = 1\\nvalue = [1, 0]\\nclass = died'),\n",
       " Text(54.66122448979592, 387.31500000000005, 'gini = 0.0\\nsamples = 24\\nvalue = [0, 24]\\nclass = survived'),\n",
       " Text(68.3265306122449, 428.08500000000004, 'gini = 0.0\\nsamples = 1\\nvalue = [1, 0]\\nclass = died'),\n",
       " Text(81.99183673469388, 468.855, 'gini = 0.0\\nsamples = 51\\nvalue = [0, 51]\\nclass = survived'),\n",
       " Text(323.6969387755102, 550.395, 'fare <= 23.912\\ngini = 0.498\\nsamples = 81\\nvalue = [38, 43]\\nclass = survived'),\n",
       " Text(278.430612244898, 509.625, 'age <= 35.0\\ngini = 0.476\\nsamples = 69\\nvalue = [27, 42]\\nclass = survived'),\n",
       " Text(228.8938775510204, 468.855, 'embarked_Q <= 0.5\\ngini = 0.455\\nsamples = 63\\nvalue = [22, 41]\\nclass = survived'),\n",
       " Text(170.81632653061226, 428.08500000000004, 'age <= 24.5\\ngini = 0.487\\nsamples = 43\\nvalue = [18, 25]\\nclass = survived'),\n",
       " Text(109.32244897959184, 387.31500000000005, 'sibsp <= 2.5\\ngini = 0.397\\nsamples = 22\\nvalue = [6, 16]\\nclass = survived'),\n",
       " Text(95.65714285714286, 346.545, 'age <= 7.0\\ngini = 0.363\\nsamples = 21\\nvalue = [5, 16]\\nclass = survived'),\n",
       " Text(81.99183673469388, 305.77500000000003, 'gini = 0.0\\nsamples = 6\\nvalue = [0, 6]\\nclass = survived'),\n",
       " Text(109.32244897959184, 305.77500000000003, 'fare <= 7.713\\ngini = 0.444\\nsamples = 15\\nvalue = [5, 10]\\nclass = survived'),\n",
       " Text(95.65714285714286, 265.005, 'gini = 0.0\\nsamples = 5\\nvalue = [0, 5]\\nclass = survived'),\n",
       " Text(122.98775510204082, 265.005, 'fare <= 8.638\\ngini = 0.5\\nsamples = 10\\nvalue = [5, 5]\\nclass = died'),\n",
       " Text(109.32244897959184, 224.235, 'gini = 0.0\\nsamples = 2\\nvalue = [2, 0]\\nclass = died'),\n",
       " Text(136.6530612244898, 224.235, 'fare <= 12.848\\ngini = 0.469\\nsamples = 8\\nvalue = [3, 5]\\nclass = survived'),\n",
       " Text(122.98775510204082, 183.46500000000003, 'gini = 0.0\\nsamples = 3\\nvalue = [0, 3]\\nclass = survived'),\n",
       " Text(150.31836734693877, 183.46500000000003, 'age <= 21.0\\ngini = 0.48\\nsamples = 5\\nvalue = [3, 2]\\nclass = died'),\n",
       " Text(136.6530612244898, 142.695, 'gini = 0.0\\nsamples = 3\\nvalue = [3, 0]\\nclass = died'),\n",
       " Text(163.98367346938775, 142.695, 'gini = 0.0\\nsamples = 2\\nvalue = [0, 2]\\nclass = survived'),\n",
       " Text(122.98775510204082, 346.545, 'gini = 0.0\\nsamples = 1\\nvalue = [1, 0]\\nclass = died'),\n",
       " Text(232.31020408163266, 387.31500000000005, 'age <= 30.5\\ngini = 0.49\\nsamples = 21\\nvalue = [12, 9]\\nclass = died'),\n",
       " Text(218.64489795918368, 346.545, 'fare <= 7.39\\ngini = 0.444\\nsamples = 18\\nvalue = [12, 6]\\nclass = died'),\n",
       " Text(204.9795918367347, 305.77500000000003, 'gini = 0.0\\nsamples = 1\\nvalue = [0, 1]\\nclass = survived'),\n",
       " Text(232.31020408163266, 305.77500000000003, 'fare <= 21.717\\ngini = 0.415\\nsamples = 17\\nvalue = [12, 5]\\nclass = died'),\n",
       " Text(218.64489795918368, 265.005, 'age <= 27.5\\ngini = 0.375\\nsamples = 16\\nvalue = [12, 4]\\nclass = died'),\n",
       " Text(191.31428571428572, 224.235, 'age <= 25.5\\ngini = 0.5\\nsamples = 6\\nvalue = [3, 3]\\nclass = died'),\n",
       " Text(177.64897959183673, 183.46500000000003, 'gini = 0.0\\nsamples = 2\\nvalue = [2, 0]\\nclass = died'),\n",
       " Text(204.9795918367347, 183.46500000000003, 'fare <= 14.288\\ngini = 0.375\\nsamples = 4\\nvalue = [1, 3]\\nclass = survived'),\n",
       " Text(191.31428571428572, 142.695, 'gini = 0.0\\nsamples = 3\\nvalue = [0, 3]\\nclass = survived'),\n",
       " Text(218.64489795918368, 142.695, 'gini = 0.0\\nsamples = 1\\nvalue = [1, 0]\\nclass = died'),\n",
       " Text(245.97551020408164, 224.235, 'fare <= 15.673\\ngini = 0.18\\nsamples = 10\\nvalue = [9, 1]\\nclass = died'),\n",
       " Text(232.31020408163266, 183.46500000000003, 'gini = 0.0\\nsamples = 8\\nvalue = [8, 0]\\nclass = died'),\n",
       " Text(259.6408163265306, 183.46500000000003, 'parch <= 2.0\\ngini = 0.5\\nsamples = 2\\nvalue = [1, 1]\\nclass = died'),\n",
       " Text(245.97551020408164, 142.695, 'gini = 0.0\\nsamples = 1\\nvalue = [0, 1]\\nclass = survived'),\n",
       " Text(273.3061224489796, 142.695, 'gini = 0.0\\nsamples = 1\\nvalue = [1, 0]\\nclass = died'),\n",
       " Text(245.97551020408164, 265.005, 'gini = 0.0\\nsamples = 1\\nvalue = [0, 1]\\nclass = survived'),\n",
       " Text(245.97551020408164, 346.545, 'gini = 0.0\\nsamples = 3\\nvalue = [0, 3]\\nclass = survived'),\n",
       " Text(286.9714285714286, 428.08500000000004, 'fare <= 7.681\\ngini = 0.32\\nsamples = 20\\nvalue = [4, 16]\\nclass = survived'),\n",
       " Text(273.3061224489796, 387.31500000000005, 'gini = 0.0\\nsamples = 2\\nvalue = [2, 0]\\nclass = died'),\n",
       " Text(300.63673469387754, 387.31500000000005, 'age <= 21.5\\ngini = 0.198\\nsamples = 18\\nvalue = [2, 16]\\nclass = survived'),\n",
       " Text(273.3061224489796, 346.545, 'age <= 18.5\\ngini = 0.444\\nsamples = 3\\nvalue = [1, 2]\\nclass = survived'),\n",
       " Text(259.6408163265306, 305.77500000000003, 'gini = 0.0\\nsamples = 2\\nvalue = [0, 2]\\nclass = survived'),\n",
       " Text(286.9714285714286, 305.77500000000003, 'gini = 0.0\\nsamples = 1\\nvalue = [1, 0]\\nclass = died'),\n",
       " Text(327.9673469387755, 346.545, 'fare <= 8.008\\ngini = 0.124\\nsamples = 15\\nvalue = [1, 14]\\nclass = survived'),\n",
       " Text(314.30204081632655, 305.77500000000003, 'gini = 0.0\\nsamples = 12\\nvalue = [0, 12]\\nclass = survived'),\n",
       " Text(341.6326530612245, 305.77500000000003, 'sibsp <= 0.5\\ngini = 0.444\\nsamples = 3\\nvalue = [1, 2]\\nclass = survived'),\n",
       " Text(327.9673469387755, 265.005, 'gini = 0.0\\nsamples = 1\\nvalue = [1, 0]\\nclass = died'),\n",
       " Text(355.29795918367347, 265.005, 'gini = 0.0\\nsamples = 2\\nvalue = [0, 2]\\nclass = survived'),\n",
       " Text(327.9673469387755, 468.855, 'age <= 55.0\\ngini = 0.278\\nsamples = 6\\nvalue = [5, 1]\\nclass = died'),\n",
       " Text(314.30204081632655, 428.08500000000004, 'gini = 0.0\\nsamples = 5\\nvalue = [5, 0]\\nclass = died'),\n",
       " Text(341.6326530612245, 428.08500000000004, 'gini = 0.0\\nsamples = 1\\nvalue = [0, 1]\\nclass = survived'),\n",
       " Text(368.9632653061225, 509.625, 'parch <= 4.0\\ngini = 0.153\\nsamples = 12\\nvalue = [11, 1]\\nclass = died'),\n",
       " Text(355.29795918367347, 468.855, 'gini = 0.0\\nsamples = 10\\nvalue = [10, 0]\\nclass = died'),\n",
       " Text(382.62857142857143, 468.855, 'sibsp <= 0.5\\ngini = 0.5\\nsamples = 2\\nvalue = [1, 1]\\nclass = died'),\n",
       " Text(368.9632653061225, 428.08500000000004, 'gini = 0.0\\nsamples = 1\\nvalue = [1, 0]\\nclass = died'),\n",
       " Text(396.29387755102044, 428.08500000000004, 'gini = 0.0\\nsamples = 1\\nvalue = [0, 1]\\nclass = survived'),\n",
       " Text(1010.805612244898, 591.1650000000001, 'fare <= 18.275\\ngini = 0.295\\nsamples = 323\\nvalue = [265, 58]\\nclass = died'),\n",
       " Text(770.3816326530613, 550.395, 'age <= 7.835\\ngini = 0.184\\nsamples = 205\\nvalue = [184, 21]\\nclass = died'),\n",
       " Text(756.7163265306123, 509.625, 'gini = 0.0\\nsamples = 2\\nvalue = [0, 2]\\nclass = survived'),\n",
       " Text(784.0469387755103, 509.625, 'fare <= 13.25\\ngini = 0.17\\nsamples = 203\\nvalue = [184, 19]\\nclass = died'),\n",
       " Text(770.3816326530613, 468.855, 'fare <= 12.637\\ngini = 0.183\\nsamples = 187\\nvalue = [168, 19]\\nclass = died'),\n",
       " Text(679.8489795918367, 428.08500000000004, 'age <= 32.5\\ngini = 0.163\\nsamples = 168\\nvalue = [153, 15]\\nclass = died'),\n",
       " Text(580.7755102040817, 387.31500000000005, 'age <= 28.75\\ngini = 0.188\\nsamples = 133\\nvalue = [119, 14]\\nclass = died'),\n",
       " Text(450.9551020408163, 346.545, 'fare <= 7.013\\ngini = 0.155\\nsamples = 118\\nvalue = [108, 10]\\nclass = died'),\n",
       " Text(396.29387755102044, 305.77500000000003, 'age <= 27.5\\ngini = 0.375\\nsamples = 8\\nvalue = [6, 2]\\nclass = died'),\n",
       " Text(382.62857142857143, 265.005, 'embarked_S <= 0.5\\ngini = 0.444\\nsamples = 3\\nvalue = [1, 2]\\nclass = survived'),\n",
       " Text(368.9632653061225, 224.235, 'gini = 0.0\\nsamples = 1\\nvalue = [1, 0]\\nclass = died'),\n",
       " Text(396.29387755102044, 224.235, 'gini = 0.0\\nsamples = 2\\nvalue = [0, 2]\\nclass = survived'),\n",
       " Text(409.9591836734694, 265.005, 'gini = 0.0\\nsamples = 5\\nvalue = [5, 0]\\nclass = died'),\n",
       " Text(505.61632653061224, 305.77500000000003, 'alone <= 0.5\\ngini = 0.135\\nsamples = 110\\nvalue = [102, 8]\\nclass = died'),\n",
       " Text(437.28979591836736, 265.005, 'age <= 25.5\\ngini = 0.346\\nsamples = 9\\nvalue = [7, 2]\\nclass = died'),\n",
       " Text(423.6244897959184, 224.235, 'age <= 24.0\\ngini = 0.444\\nsamples = 6\\nvalue = [4, 2]\\nclass = died'),\n",
       " Text(409.9591836734694, 183.46500000000003, 'age <= 20.5\\ngini = 0.32\\nsamples = 5\\nvalue = [4, 1]\\nclass = died'),\n",
       " Text(396.29387755102044, 142.695, 'parch <= 0.5\\ngini = 0.5\\nsamples = 2\\nvalue = [1, 1]\\nclass = died'),\n",
       " Text(382.62857142857143, 101.92499999999995, 'gini = 0.0\\nsamples = 1\\nvalue = [0, 1]\\nclass = survived'),\n",
       " Text(409.9591836734694, 101.92499999999995, 'gini = 0.0\\nsamples = 1\\nvalue = [1, 0]\\nclass = died'),\n",
       " Text(423.6244897959184, 142.695, 'gini = 0.0\\nsamples = 3\\nvalue = [3, 0]\\nclass = died'),\n",
       " Text(437.28979591836736, 183.46500000000003, 'gini = 0.0\\nsamples = 1\\nvalue = [0, 1]\\nclass = survived'),\n",
       " Text(450.9551020408163, 224.235, 'gini = 0.0\\nsamples = 3\\nvalue = [3, 0]\\nclass = died'),\n",
       " Text(573.9428571428572, 265.005, 'fare <= 8.081\\ngini = 0.112\\nsamples = 101\\nvalue = [95, 6]\\nclass = died'),\n",
       " Text(519.2816326530613, 224.235, 'fare <= 7.24\\ngini = 0.073\\nsamples = 79\\nvalue = [76, 3]\\nclass = died'),\n",
       " Text(464.6204081632653, 183.46500000000003, 'fare <= 7.227\\ngini = 0.231\\nsamples = 15\\nvalue = [13, 2]\\nclass = died'),\n",
       " Text(450.9551020408163, 142.695, 'gini = 0.0\\nsamples = 8\\nvalue = [8, 0]\\nclass = died'),\n",
       " Text(478.2857142857143, 142.695, 'age <= 21.0\\ngini = 0.408\\nsamples = 7\\nvalue = [5, 2]\\nclass = died'),\n",
       " Text(464.6204081632653, 101.92499999999995, 'gini = 0.0\\nsamples = 1\\nvalue = [0, 1]\\nclass = survived'),\n",
       " Text(491.9510204081633, 101.92499999999995, 'age <= 25.75\\ngini = 0.278\\nsamples = 6\\nvalue = [5, 1]\\nclass = died'),\n",
       " Text(478.2857142857143, 61.15499999999997, 'gini = 0.0\\nsamples = 2\\nvalue = [2, 0]\\nclass = died'),\n",
       " Text(505.61632653061224, 61.15499999999997, 'age <= 28.25\\ngini = 0.375\\nsamples = 4\\nvalue = [3, 1]\\nclass = died'),\n",
       " Text(491.9510204081633, 20.38499999999999, 'gini = 0.444\\nsamples = 3\\nvalue = [2, 1]\\nclass = died'),\n",
       " Text(519.2816326530613, 20.38499999999999, 'gini = 0.0\\nsamples = 1\\nvalue = [1, 0]\\nclass = died'),\n",
       " Text(573.9428571428572, 183.46500000000003, 'age <= 21.5\\ngini = 0.031\\nsamples = 64\\nvalue = [63, 1]\\nclass = died'),\n",
       " Text(560.2775510204082, 142.695, 'age <= 20.75\\ngini = 0.111\\nsamples = 17\\nvalue = [16, 1]\\nclass = died'),\n",
       " Text(546.6122448979592, 101.92499999999995, 'gini = 0.0\\nsamples = 10\\nvalue = [10, 0]\\nclass = died'),\n",
       " Text(573.9428571428572, 101.92499999999995, 'fare <= 7.798\\ngini = 0.245\\nsamples = 7\\nvalue = [6, 1]\\nclass = died'),\n",
       " Text(560.2775510204082, 61.15499999999997, 'fare <= 7.785\\ngini = 0.444\\nsamples = 3\\nvalue = [2, 1]\\nclass = died'),\n",
       " Text(546.6122448979592, 20.38499999999999, 'gini = 0.0\\nsamples = 2\\nvalue = [2, 0]\\nclass = died'),\n",
       " Text(573.9428571428572, 20.38499999999999, 'gini = 0.0\\nsamples = 1\\nvalue = [0, 1]\\nclass = survived'),\n",
       " Text(587.6081632653062, 61.15499999999997, 'gini = 0.0\\nsamples = 4\\nvalue = [4, 0]\\nclass = died'),\n",
       " Text(587.6081632653062, 142.695, 'gini = 0.0\\nsamples = 47\\nvalue = [47, 0]\\nclass = died'),\n",
       " Text(628.6040816326531, 224.235, 'fare <= 8.135\\ngini = 0.236\\nsamples = 22\\nvalue = [19, 3]\\nclass = died'),\n",
       " Text(614.9387755102041, 183.46500000000003, 'gini = 0.0\\nsamples = 1\\nvalue = [0, 1]\\nclass = survived'),\n",
       " Text(642.2693877551021, 183.46500000000003, 'age <= 18.5\\ngini = 0.172\\nsamples = 21\\nvalue = [19, 2]\\nclass = died'),\n",
       " Text(628.6040816326531, 142.695, 'gini = 0.0\\nsamples = 6\\nvalue = [6, 0]\\nclass = died'),\n",
       " Text(655.934693877551, 142.695, 'age <= 19.5\\ngini = 0.231\\nsamples = 15\\nvalue = [13, 2]\\nclass = died'),\n",
       " Text(628.6040816326531, 101.92499999999995, 'pclass <= 2.5\\ngini = 0.5\\nsamples = 2\\nvalue = [1, 1]\\nclass = died'),\n",
       " Text(614.9387755102041, 61.15499999999997, 'gini = 0.0\\nsamples = 1\\nvalue = [0, 1]\\nclass = survived'),\n",
       " Text(642.2693877551021, 61.15499999999997, 'gini = 0.0\\nsamples = 1\\nvalue = [1, 0]\\nclass = died'),\n",
       " Text(683.265306122449, 101.92499999999995, 'fare <= 8.688\\ngini = 0.142\\nsamples = 13\\nvalue = [12, 1]\\nclass = died'),\n",
       " Text(669.6, 61.15499999999997, 'gini = 0.0\\nsamples = 1\\nvalue = [0, 1]\\nclass = survived'),\n",
       " Text(696.9306122448979, 61.15499999999997, 'gini = 0.0\\nsamples = 12\\nvalue = [12, 0]\\nclass = died'),\n",
       " Text(710.5959183673469, 346.545, 'age <= 29.5\\ngini = 0.391\\nsamples = 15\\nvalue = [11, 4]\\nclass = died'),\n",
       " Text(696.9306122448979, 305.77500000000003, 'gini = 0.0\\nsamples = 1\\nvalue = [0, 1]\\nclass = survived'),\n",
       " Text(724.261224489796, 305.77500000000003, 'fare <= 7.815\\ngini = 0.337\\nsamples = 14\\nvalue = [11, 3]\\nclass = died'),\n",
       " Text(710.5959183673469, 265.005, 'gini = 0.0\\nsamples = 5\\nvalue = [5, 0]\\nclass = died'),\n",
       " Text(737.926530612245, 265.005, 'fare <= 7.875\\ngini = 0.444\\nsamples = 9\\nvalue = [6, 3]\\nclass = died'),\n",
       " Text(724.261224489796, 224.235, 'gini = 0.0\\nsamples = 1\\nvalue = [0, 1]\\nclass = survived'),\n",
       " Text(751.5918367346939, 224.235, 'age <= 31.5\\ngini = 0.375\\nsamples = 8\\nvalue = [6, 2]\\nclass = died'),\n",
       " Text(737.926530612245, 183.46500000000003, 'age <= 30.5\\ngini = 0.48\\nsamples = 5\\nvalue = [3, 2]\\nclass = died'),\n",
       " Text(724.261224489796, 142.695, 'fare <= 8.775\\ngini = 0.375\\nsamples = 4\\nvalue = [3, 1]\\nclass = died'),\n",
       " Text(710.5959183673469, 101.92499999999995, 'gini = 0.0\\nsamples = 2\\nvalue = [2, 0]\\nclass = died'),\n",
       " Text(737.926530612245, 101.92499999999995, 'pclass <= 2.5\\ngini = 0.5\\nsamples = 2\\nvalue = [1, 1]\\nclass = died'),\n",
       " Text(724.261224489796, 61.15499999999997, 'gini = 0.0\\nsamples = 1\\nvalue = [1, 0]\\nclass = died'),\n",
       " Text(751.5918367346939, 61.15499999999997, 'gini = 0.0\\nsamples = 1\\nvalue = [0, 1]\\nclass = survived'),\n",
       " Text(751.5918367346939, 142.695, 'gini = 0.0\\nsamples = 1\\nvalue = [0, 1]\\nclass = survived'),\n",
       " Text(765.2571428571429, 183.46500000000003, 'gini = 0.0\\nsamples = 3\\nvalue = [3, 0]\\nclass = died'),\n",
       " Text(778.9224489795919, 387.31500000000005, 'age <= 44.5\\ngini = 0.056\\nsamples = 35\\nvalue = [34, 1]\\nclass = died'),\n",
       " Text(765.2571428571429, 346.545, 'gini = 0.0\\nsamples = 25\\nvalue = [25, 0]\\nclass = died'),\n",
       " Text(792.5877551020409, 346.545, 'age <= 45.25\\ngini = 0.18\\nsamples = 10\\nvalue = [9, 1]\\nclass = died'),\n",
       " Text(778.9224489795919, 305.77500000000003, 'fare <= 7.513\\ngini = 0.5\\nsamples = 2\\nvalue = [1, 1]\\nclass = died'),\n",
       " Text(765.2571428571429, 265.005, 'gini = 0.0\\nsamples = 1\\nvalue = [1, 0]\\nclass = died'),\n",
       " Text(792.5877551020409, 265.005, 'gini = 0.0\\nsamples = 1\\nvalue = [0, 1]\\nclass = survived'),\n",
       " Text(806.2530612244898, 305.77500000000003, 'gini = 0.0\\nsamples = 8\\nvalue = [8, 0]\\nclass = died'),\n",
       " Text(860.9142857142857, 428.08500000000004, 'age <= 27.5\\ngini = 0.332\\nsamples = 19\\nvalue = [15, 4]\\nclass = died'),\n",
       " Text(847.2489795918368, 387.31500000000005, 'gini = 0.0\\nsamples = 8\\nvalue = [8, 0]\\nclass = died'),\n",
       " Text(874.5795918367347, 387.31500000000005, 'age <= 46.0\\ngini = 0.463\\nsamples = 11\\nvalue = [7, 4]\\nclass = died'),\n",
       " Text(860.9142857142857, 346.545, 'age <= 40.5\\ngini = 0.494\\nsamples = 9\\nvalue = [5, 4]\\nclass = died'),\n",
       " Text(847.2489795918368, 305.77500000000003, 'age <= 35.0\\ngini = 0.469\\nsamples = 8\\nvalue = [5, 3]\\nclass = died'),\n",
       " Text(833.5836734693878, 265.005, 'age <= 30.5\\ngini = 0.5\\nsamples = 6\\nvalue = [3, 3]\\nclass = died'),\n",
       " Text(806.2530612244898, 224.235, 'age <= 29.0\\ngini = 0.444\\nsamples = 3\\nvalue = [2, 1]\\nclass = died'),\n",
       " Text(792.5877551020409, 183.46500000000003, 'gini = 0.5\\nsamples = 2\\nvalue = [1, 1]\\nclass = died'),\n",
       " Text(819.9183673469388, 183.46500000000003, 'gini = 0.0\\nsamples = 1\\nvalue = [1, 0]\\nclass = died'),\n",
       " Text(860.9142857142857, 224.235, 'age <= 32.5\\ngini = 0.444\\nsamples = 3\\nvalue = [1, 2]\\nclass = survived'),\n",
       " Text(847.2489795918368, 183.46500000000003, 'gini = 0.0\\nsamples = 1\\nvalue = [0, 1]\\nclass = survived'),\n",
       " Text(874.5795918367347, 183.46500000000003, 'gini = 0.5\\nsamples = 2\\nvalue = [1, 1]\\nclass = died'),\n",
       " Text(860.9142857142857, 265.005, 'gini = 0.0\\nsamples = 2\\nvalue = [2, 0]\\nclass = died'),\n",
       " Text(874.5795918367347, 305.77500000000003, 'gini = 0.0\\nsamples = 1\\nvalue = [0, 1]\\nclass = survived'),\n",
       " Text(888.2448979591837, 346.545, 'gini = 0.0\\nsamples = 2\\nvalue = [2, 0]\\nclass = died'),\n",
       " Text(797.7122448979592, 468.855, 'gini = 0.0\\nsamples = 16\\nvalue = [16, 0]\\nclass = died'),\n",
       " Text(1251.2295918367347, 550.395, 'age <= 53.0\\ngini = 0.43\\nsamples = 118\\nvalue = [81, 37]\\nclass = died'),\n",
       " Text(1190.5897959183674, 509.625, 'sibsp <= 2.5\\ngini = 0.455\\nsamples = 103\\nvalue = [67, 36]\\nclass = died'),\n",
       " Text(1110.3061224489795, 468.855, 'age <= 12.5\\ngini = 0.477\\nsamples = 89\\nvalue = [54, 35]\\nclass = died'),\n",
       " Text(1096.6408163265307, 428.08500000000004, 'gini = 0.0\\nsamples = 6\\nvalue = [0, 6]\\nclass = survived'),\n",
       " Text(1123.9714285714285, 428.08500000000004, 'pclass <= 1.5\\ngini = 0.455\\nsamples = 83\\nvalue = [54, 29]\\nclass = died'),\n",
       " Text(1031.7306122448979, 387.31500000000005, 'fare <= 58.308\\ngini = 0.497\\nsamples = 52\\nvalue = [28, 24]\\nclass = died'),\n",
       " Text(942.9061224489797, 346.545, 'alone <= 0.5\\ngini = 0.487\\nsamples = 31\\nvalue = [13, 18]\\nclass = survived'),\n",
       " Text(929.2408163265306, 305.77500000000003, 'gini = 0.0\\nsamples = 5\\nvalue = [0, 5]\\nclass = survived'),\n",
       " Text(956.5714285714286, 305.77500000000003, 'fare <= 37.55\\ngini = 0.5\\nsamples = 26\\nvalue = [13, 13]\\nclass = died'),\n",
       " Text(942.9061224489797, 265.005, 'fare <= 27.135\\ngini = 0.483\\nsamples = 22\\nvalue = [9, 13]\\nclass = survived'),\n",
       " Text(915.5755102040816, 224.235, 'fare <= 26.106\\ngini = 0.346\\nsamples = 9\\nvalue = [2, 7]\\nclass = survived'),\n",
       " Text(901.9102040816326, 183.46500000000003, 'gini = 0.0\\nsamples = 1\\nvalue = [1, 0]\\nclass = died'),\n",
       " Text(929.2408163265306, 183.46500000000003, 'age <= 43.5\\ngini = 0.219\\nsamples = 8\\nvalue = [1, 7]\\nclass = survived'),\n",
       " Text(915.5755102040816, 142.695, 'gini = 0.0\\nsamples = 6\\nvalue = [0, 6]\\nclass = survived'),\n",
       " Text(942.9061224489797, 142.695, 'age <= 48.0\\ngini = 0.5\\nsamples = 2\\nvalue = [1, 1]\\nclass = died'),\n",
       " Text(929.2408163265306, 101.92499999999995, 'gini = 0.0\\nsamples = 1\\nvalue = [1, 0]\\nclass = died'),\n",
       " Text(956.5714285714286, 101.92499999999995, 'gini = 0.0\\nsamples = 1\\nvalue = [0, 1]\\nclass = survived'),\n",
       " Text(970.2367346938776, 224.235, 'fare <= 29.25\\ngini = 0.497\\nsamples = 13\\nvalue = [7, 6]\\nclass = died'),\n",
       " Text(956.5714285714286, 183.46500000000003, 'gini = 0.0\\nsamples = 4\\nvalue = [4, 0]\\nclass = died'),\n",
       " Text(983.9020408163266, 183.46500000000003, 'fare <= 30.598\\ngini = 0.444\\nsamples = 9\\nvalue = [3, 6]\\nclass = survived'),\n",
       " Text(970.2367346938776, 142.695, 'gini = 0.0\\nsamples = 3\\nvalue = [0, 3]\\nclass = survived'),\n",
       " Text(997.5673469387756, 142.695, 'fare <= 34.76\\ngini = 0.5\\nsamples = 6\\nvalue = [3, 3]\\nclass = died'),\n",
       " Text(983.9020408163266, 101.92499999999995, 'embarked_S <= 0.5\\ngini = 0.375\\nsamples = 4\\nvalue = [3, 1]\\nclass = died'),\n",
       " Text(970.2367346938776, 61.15499999999997, 'fare <= 30.848\\ngini = 0.5\\nsamples = 2\\nvalue = [1, 1]\\nclass = died'),\n",
       " Text(956.5714285714286, 20.38499999999999, 'gini = 0.0\\nsamples = 1\\nvalue = [1, 0]\\nclass = died'),\n",
       " Text(983.9020408163266, 20.38499999999999, 'gini = 0.0\\nsamples = 1\\nvalue = [0, 1]\\nclass = survived'),\n",
       " Text(997.5673469387756, 61.15499999999997, 'gini = 0.0\\nsamples = 2\\nvalue = [2, 0]\\nclass = died'),\n",
       " Text(1011.2326530612245, 101.92499999999995, 'gini = 0.0\\nsamples = 2\\nvalue = [0, 2]\\nclass = survived'),\n",
       " Text(970.2367346938776, 265.005, 'gini = 0.0\\nsamples = 4\\nvalue = [4, 0]\\nclass = died'),\n",
       " Text(1120.5551020408163, 346.545, 'embarked_S <= 0.5\\ngini = 0.408\\nsamples = 21\\nvalue = [15, 6]\\nclass = died'),\n",
       " Text(1106.8897959183673, 305.77500000000003, 'fare <= 379.925\\ngini = 0.48\\nsamples = 15\\nvalue = [9, 6]\\nclass = died'),\n",
       " Text(1093.2244897959183, 265.005, 'fare <= 123.258\\ngini = 0.459\\nsamples = 14\\nvalue = [9, 5]\\nclass = died'),\n",
       " Text(1079.5591836734695, 224.235, 'age <= 35.5\\ngini = 0.5\\nsamples = 10\\nvalue = [5, 5]\\nclass = died'),\n",
       " Text(1038.5632653061225, 183.46500000000003, 'fare <= 77.965\\ngini = 0.444\\nsamples = 6\\nvalue = [2, 4]\\nclass = survived'),\n",
       " Text(1024.8979591836735, 142.695, 'gini = 0.0\\nsamples = 2\\nvalue = [0, 2]\\nclass = survived'),\n",
       " Text(1052.2285714285715, 142.695, 'parch <= 1.0\\ngini = 0.5\\nsamples = 4\\nvalue = [2, 2]\\nclass = died'),\n",
       " Text(1038.5632653061225, 101.92499999999995, 'age <= 24.5\\ngini = 0.444\\nsamples = 3\\nvalue = [2, 1]\\nclass = died'),\n",
       " Text(1024.8979591836735, 61.15499999999997, 'gini = 0.0\\nsamples = 2\\nvalue = [2, 0]\\nclass = died'),\n",
       " Text(1052.2285714285715, 61.15499999999997, 'gini = 0.0\\nsamples = 1\\nvalue = [0, 1]\\nclass = survived'),\n",
       " Text(1065.8938775510205, 101.92499999999995, 'gini = 0.0\\nsamples = 1\\nvalue = [0, 1]\\nclass = survived'),\n",
       " Text(1120.5551020408163, 183.46500000000003, 'fare <= 89.552\\ngini = 0.375\\nsamples = 4\\nvalue = [3, 1]\\nclass = died'),\n",
       " Text(1106.8897959183673, 142.695, 'age <= 50.0\\ngini = 0.5\\nsamples = 2\\nvalue = [1, 1]\\nclass = died'),\n",
       " Text(1093.2244897959183, 101.92499999999995, 'gini = 0.0\\nsamples = 1\\nvalue = [0, 1]\\nclass = survived'),\n",
       " Text(1120.5551020408163, 101.92499999999995, 'gini = 0.0\\nsamples = 1\\nvalue = [1, 0]\\nclass = died'),\n",
       " Text(1134.2204081632653, 142.695, 'gini = 0.0\\nsamples = 2\\nvalue = [2, 0]\\nclass = died'),\n",
       " Text(1106.8897959183673, 224.235, 'gini = 0.0\\nsamples = 4\\nvalue = [4, 0]\\nclass = died'),\n",
       " Text(1120.5551020408163, 265.005, 'gini = 0.0\\nsamples = 1\\nvalue = [0, 1]\\nclass = survived'),\n",
       " Text(1134.2204081632653, 305.77500000000003, 'gini = 0.0\\nsamples = 6\\nvalue = [6, 0]\\nclass = died'),\n",
       " Text(1216.2122448979592, 387.31500000000005, 'pclass <= 2.5\\ngini = 0.271\\nsamples = 31\\nvalue = [26, 5]\\nclass = died'),\n",
       " Text(1175.2163265306124, 346.545, 'age <= 31.0\\ngini = 0.095\\nsamples = 20\\nvalue = [19, 1]\\nclass = died'),\n",
       " Text(1161.5510204081634, 305.77500000000003, 'gini = 0.0\\nsamples = 10\\nvalue = [10, 0]\\nclass = died'),\n",
       " Text(1188.8816326530612, 305.77500000000003, 'age <= 33.0\\ngini = 0.18\\nsamples = 10\\nvalue = [9, 1]\\nclass = died'),\n",
       " Text(1175.2163265306124, 265.005, 'fare <= 49.75\\ngini = 0.5\\nsamples = 2\\nvalue = [1, 1]\\nclass = died'),\n",
       " Text(1161.5510204081634, 224.235, 'gini = 0.0\\nsamples = 1\\nvalue = [0, 1]\\nclass = survived'),\n",
       " Text(1188.8816326530612, 224.235, 'gini = 0.0\\nsamples = 1\\nvalue = [1, 0]\\nclass = died'),\n",
       " Text(1202.5469387755102, 265.005, 'gini = 0.0\\nsamples = 8\\nvalue = [8, 0]\\nclass = died'),\n",
       " Text(1257.2081632653062, 346.545, 'fare <= 45.435\\ngini = 0.463\\nsamples = 11\\nvalue = [7, 4]\\nclass = died'),\n",
       " Text(1243.5428571428572, 305.77500000000003, 'embarked_Q <= 0.5\\ngini = 0.219\\nsamples = 8\\nvalue = [7, 1]\\nclass = died'),\n",
       " Text(1229.8775510204082, 265.005, 'gini = 0.0\\nsamples = 6\\nvalue = [6, 0]\\nclass = died'),\n",
       " Text(1257.2081632653062, 265.005, 'fare <= 23.7\\ngini = 0.5\\nsamples = 2\\nvalue = [1, 1]\\nclass = died'),\n",
       " Text(1243.5428571428572, 224.235, 'gini = 0.0\\nsamples = 1\\nvalue = [0, 1]\\nclass = survived'),\n",
       " Text(1270.8734693877552, 224.235, 'gini = 0.0\\nsamples = 1\\nvalue = [1, 0]\\nclass = died'),\n",
       " Text(1270.8734693877552, 305.77500000000003, 'gini = 0.0\\nsamples = 3\\nvalue = [0, 3]\\nclass = survived'),\n",
       " Text(1270.8734693877552, 468.855, 'age <= 3.5\\ngini = 0.133\\nsamples = 14\\nvalue = [13, 1]\\nclass = died'),\n",
       " Text(1257.2081632653062, 428.08500000000004, 'age <= 2.5\\ngini = 0.32\\nsamples = 5\\nvalue = [4, 1]\\nclass = died'),\n",
       " Text(1243.5428571428572, 387.31500000000005, 'gini = 0.0\\nsamples = 4\\nvalue = [4, 0]\\nclass = died'),\n",
       " Text(1270.8734693877552, 387.31500000000005, 'gini = 0.0\\nsamples = 1\\nvalue = [0, 1]\\nclass = survived'),\n",
       " Text(1284.5387755102042, 428.08500000000004, 'gini = 0.0\\nsamples = 9\\nvalue = [9, 0]\\nclass = died'),\n",
       " Text(1311.869387755102, 509.625, 'age <= 75.5\\ngini = 0.124\\nsamples = 15\\nvalue = [14, 1]\\nclass = died'),\n",
       " Text(1298.204081632653, 468.855, 'gini = 0.0\\nsamples = 14\\nvalue = [14, 0]\\nclass = died'),\n",
       " Text(1325.534693877551, 468.855, 'gini = 0.0\\nsamples = 1\\nvalue = [0, 1]\\nclass = survived')]"
      ]
     },
     "execution_count": 27,
     "metadata": {},
     "output_type": "execute_result"
    },
    {
     "data": {
      "image/png": "[encoded data removed]",
      "text/plain": [
       "<Figure size 1728x864 with 1 Axes>"
      ]
     },
     "metadata": {
      "needs_background": "light"
     },
     "output_type": "display_data"
    }
   ],
   "source": [
    "\n",
    "import matplotlib.pyplot as plt\n",
    "plt.figure(figsize=(24, 12))\n",
    "plot_tree(\n",
    "    model,\n",
    "    feature_names=X_train.columns.tolist(),\n",
    "    class_names=['died', 'survived'],\n",
    ")"
   ]
  },
  {
   "cell_type": "code",
   "execution_count": 29,
   "metadata": {},
   "outputs": [],
   "source": [
    "#as the difference between train and validate is big. I will use  max_features and max_depth\n",
    "#when score.train > score.validate means overfit"
   ]
  },
  {
   "cell_type": "code",
   "execution_count": 30,
   "metadata": {},
   "outputs": [
    {
     "data": {
      "text/plain": [
       "DecisionTreeClassifier(max_depth=3, max_features=3)"
      ]
     },
     "execution_count": 30,
     "metadata": {},
     "output_type": "execute_result"
    }
   ],
   "source": [
    "# create the model\n",
    "model1 = DecisionTreeClassifier(max_depth=3, max_features=3)\n",
    "# fit the model\n",
    "model1.fit(X_train, y_train)"
   ]
  },
  {
   "cell_type": "code",
   "execution_count": 31,
   "metadata": {},
   "outputs": [
    {
     "name": "stdout",
     "output_type": "stream",
     "text": [
      "training score: 81.53%\n",
      "validate score: 78.04%\n"
     ]
    }
   ],
   "source": [
    "# look at the model scores for training set and validate set\n",
    "print(f'training score: {model1.score(X_train, y_train):.2%}')\n",
    "print(f'validate score: {model1.score(X_validate, y_validate):.2%}')"
   ]
  },
  {
   "cell_type": "code",
   "execution_count": 32,
   "metadata": {},
   "outputs": [
    {
     "data": {
      "text/plain": [
       "[Text(669.6, 570.7800000000001, 'embarked_S <= 0.5\\ngini = 0.473\\nsamples = 498\\nvalue = [307, 191]\\nclass = died'),\n",
       " Text(334.8, 407.70000000000005, 'fare <= 45.54\\ngini = 0.5\\nsamples = 143\\nvalue = [71, 72]\\nclass = survived'),\n",
       " Text(167.4, 244.62, 'sex_male <= 0.5\\ngini = 0.478\\nsamples = 99\\nvalue = [60, 39]\\nclass = died'),\n",
       " Text(83.7, 81.53999999999996, 'gini = 0.375\\nsamples = 40\\nvalue = [10, 30]\\nclass = survived'),\n",
       " Text(251.10000000000002, 81.53999999999996, 'gini = 0.259\\nsamples = 59\\nvalue = [50, 9]\\nclass = died'),\n",
       " Text(502.20000000000005, 244.62, 'age <= 65.5\\ngini = 0.375\\nsamples = 44\\nvalue = [11, 33]\\nclass = survived'),\n",
       " Text(418.5, 81.53999999999996, 'gini = 0.357\\nsamples = 43\\nvalue = [10, 33]\\nclass = survived'),\n",
       " Text(585.9, 81.53999999999996, 'gini = 0.0\\nsamples = 1\\nvalue = [1, 0]\\nclass = died'),\n",
       " Text(1004.4000000000001, 407.70000000000005, 'sex_male <= 0.5\\ngini = 0.446\\nsamples = 355\\nvalue = [236, 119]\\nclass = died'),\n",
       " Text(837.0, 244.62, 'sibsp <= 2.5\\ngini = 0.415\\nsamples = 109\\nvalue = [32, 77]\\nclass = survived'),\n",
       " Text(753.3000000000001, 81.53999999999996, 'gini = 0.357\\nsamples = 99\\nvalue = [23, 76]\\nclass = survived'),\n",
       " Text(920.7, 81.53999999999996, 'gini = 0.18\\nsamples = 10\\nvalue = [9, 1]\\nclass = died'),\n",
       " Text(1171.8, 244.62, 'age <= 3.5\\ngini = 0.283\\nsamples = 246\\nvalue = [204, 42]\\nclass = died'),\n",
       " Text(1088.1000000000001, 81.53999999999996, 'gini = 0.444\\nsamples = 9\\nvalue = [3, 6]\\nclass = survived'),\n",
       " Text(1255.5, 81.53999999999996, 'gini = 0.258\\nsamples = 237\\nvalue = [201, 36]\\nclass = died')]"
      ]
     },
     "execution_count": 32,
     "metadata": {},
     "output_type": "execute_result"
    },
    {
     "data": {
      "image/png": "[encoded data removed]",
      "text/plain": [
       "<Figure size 1728x864 with 1 Axes>"
      ]
     },
     "metadata": {
      "needs_background": "light"
     },
     "output_type": "display_data"
    }
   ],
   "source": [
    "\n",
    "import matplotlib.pyplot as plt\n",
    "plt.figure(figsize=(24, 12))\n",
    "plot_tree(\n",
    "    model1,\n",
    "    feature_names=X_train.columns.tolist(),\n",
    "    class_names=['died', 'survived'],\n",
    ")"
   ]
  },
  {
   "cell_type": "code",
   "execution_count": 33,
   "metadata": {},
   "outputs": [],
   "source": [
    "#prediction based on our model1\n",
    "prediction = model1.predict(X_train)"
   ]
  },
  {
   "cell_type": "code",
   "execution_count": 52,
   "metadata": {
    "scrolled": true
   },
   "outputs": [
    {
     "data": {
      "text/plain": [
       "array([0, 1, 0, 1, 1, 0, 0, 0, 0, 0, 0, 0, 1, 0, 0, 1, 0, 1, 0, 0, 1, 0,\n",
       "       1, 1, 0, 0, 1, 0, 0, 0, 0, 0, 0, 1, 1, 1, 0, 1, 0, 1, 0, 0, 0, 1,\n",
       "       0, 0, 0, 0, 1, 0, 0, 0, 1, 1, 1, 1, 0, 1, 1, 0, 0, 0, 0, 0, 0, 0,\n",
       "       1, 0, 1, 1, 0, 0, 1, 1, 0, 0, 0, 0, 0, 1, 0, 1, 0, 0, 0, 0, 1, 1,\n",
       "       1, 0, 0, 0, 1, 1, 0, 0, 1, 0, 0, 1, 0, 0, 1, 0, 0, 1, 0, 1, 0, 0,\n",
       "       1, 1, 0, 0, 0, 1, 0, 0, 1, 1, 0, 0, 0, 0, 1, 1, 1, 0, 1, 0, 1, 0,\n",
       "       0, 1, 0, 0, 0, 0, 0, 0, 1, 0, 0, 0, 1, 1, 1, 1, 1, 1, 0, 1, 1, 0,\n",
       "       0, 1, 0, 0, 1, 0, 0, 1, 0, 1, 0, 0, 0, 0, 0, 0, 0, 1, 1, 0, 0, 0,\n",
       "       1, 0, 0, 1, 0, 0, 0, 1, 0, 1, 0, 1, 0, 1, 0, 1, 0, 0, 1, 1, 0, 1,\n",
       "       0, 0, 0, 1, 1, 0, 0, 0, 0, 0, 0, 1, 0, 0, 0, 1, 1, 1, 0, 0, 1, 0,\n",
       "       0, 0, 0, 1, 0, 0, 0, 1, 0, 1, 0, 0, 0, 0, 0, 1, 1, 0, 0, 0, 0, 0,\n",
       "       1, 1, 1, 0, 1, 0, 1, 1, 0, 0, 0, 1, 0, 1, 0, 1, 1, 1, 0, 0, 1, 1,\n",
       "       0, 0, 0, 1, 0, 0, 0, 0, 0, 1, 0, 0, 0, 0, 0, 0, 0, 1, 0, 1, 0, 0,\n",
       "       1, 1, 0, 0, 0, 0, 0, 0, 0, 1, 0, 0, 0, 0, 1, 0, 0, 1, 0, 0, 1, 0,\n",
       "       0, 0, 0, 0, 0, 1, 0, 0, 0, 1, 1, 0, 0, 0, 1, 0, 0, 1, 1, 1, 1, 1,\n",
       "       0, 1, 1, 1, 1, 1, 0, 1, 0, 1, 0, 1, 1, 1, 0, 1, 0, 0, 0, 0, 1, 0,\n",
       "       1, 1, 1, 1, 1, 0, 0, 1, 0, 1, 1, 0, 0, 0, 0, 0, 0, 0, 0, 0, 1, 0,\n",
       "       1, 0, 1, 0, 1, 1, 1, 1, 1, 0, 0, 1, 0, 1, 0, 0, 0, 0, 0, 0, 1, 0,\n",
       "       1, 0, 0, 0, 0, 1, 0, 0, 0, 1, 0, 0, 0, 0, 0, 0, 0, 0, 1, 1, 1, 0,\n",
       "       1, 0, 1, 0, 0, 1, 0, 1, 0, 1, 0, 0, 0, 0, 0, 0, 1, 1, 0, 0, 1, 0,\n",
       "       0, 0, 0, 0, 0, 1, 0, 0, 1, 0, 1, 1, 0, 0, 1, 1, 0, 0, 0, 0, 0, 0,\n",
       "       1, 0, 0, 1, 1, 0, 1, 0, 1, 0, 0, 0, 0, 0, 1, 0, 0, 0, 1, 1, 1, 1,\n",
       "       0, 1, 1, 1, 0, 1, 1, 0, 1, 0, 0, 0, 0, 1])"
      ]
     },
     "execution_count": 52,
     "metadata": {},
     "output_type": "execute_result"
    }
   ],
   "source": [
    "prediction"
   ]
  },
  {
   "cell_type": "code",
   "execution_count": 53,
   "metadata": {},
   "outputs": [
    {
     "data": {
      "text/plain": [
       "0    310\n",
       "1    188\n",
       "dtype: int64"
      ]
     },
     "execution_count": 53,
     "metadata": {},
     "output_type": "execute_result"
    }
   ],
   "source": [
    "pd.Series(prediction).value_counts()"
   ]
  },
  {
   "cell_type": "code",
   "execution_count": 34,
   "metadata": {
    "scrolled": true
   },
   "outputs": [
    {
     "data": {
      "text/plain": [
       "array([[261,  46],\n",
       "       [ 46, 145]])"
      ]
     },
     "execution_count": 34,
     "metadata": {},
     "output_type": "execute_result"
    }
   ],
   "source": [
    "#confusion matrix\n",
    "conf_m = confusion_matrix(y_train, prediction )\n",
    "conf_m"
   ]
  },
  {
   "cell_type": "code",
   "execution_count": 35,
   "metadata": {},
   "outputs": [
    {
     "data": {
      "text/plain": [
       "0    307\n",
       "1    191\n",
       "Name: survived, dtype: int64"
      ]
     },
     "execution_count": 35,
     "metadata": {},
     "output_type": "execute_result"
    }
   ],
   "source": [
    "#check if rows or columns have the actual number. in this case rows has the actual number\n",
    "train.survived.value_counts()"
   ]
  },
  {
   "cell_type": "code",
   "execution_count": 36,
   "metadata": {},
   "outputs": [
    {
     "data": {
      "text/html": [
       "<div>\n",
       "<style scoped>\n",
       "    .dataframe tbody tr th:only-of-type {\n",
       "        vertical-align: middle;\n",
       "    }\n",
       "\n",
       "    .dataframe tbody tr th {\n",
       "        vertical-align: top;\n",
       "    }\n",
       "\n",
       "    .dataframe thead th {\n",
       "        text-align: right;\n",
       "    }\n",
       "</style>\n",
       "<table border=\"1\" class=\"dataframe\">\n",
       "  <thead>\n",
       "    <tr style=\"text-align: right;\">\n",
       "      <th></th>\n",
       "      <th>pred_dead</th>\n",
       "      <th>pred_survived</th>\n",
       "    </tr>\n",
       "  </thead>\n",
       "  <tbody>\n",
       "    <tr>\n",
       "      <th>actual_dead</th>\n",
       "      <td>261</td>\n",
       "      <td>46</td>\n",
       "    </tr>\n",
       "    <tr>\n",
       "      <th>actual_survived</th>\n",
       "      <td>46</td>\n",
       "      <td>145</td>\n",
       "    </tr>\n",
       "  </tbody>\n",
       "</table>\n",
       "</div>"
      ],
      "text/plain": [
       "                 pred_dead  pred_survived\n",
       "actual_dead            261             46\n",
       "actual_survived         46            145"
      ]
     },
     "execution_count": 36,
     "metadata": {},
     "output_type": "execute_result"
    }
   ],
   "source": [
    " #just to see\n",
    "mat =  pd.DataFrame ((confusion_matrix(y_train, prediction )),index = ['actual_dead','actual_survived'], columns =['pred_dead','pred_survived' ])\n",
    "mat"
   ]
  },
  {
   "cell_type": "code",
   "execution_count": 37,
   "metadata": {},
   "outputs": [
    {
     "data": {
      "text/html": [
       "<div>\n",
       "<style scoped>\n",
       "    .dataframe tbody tr th:only-of-type {\n",
       "        vertical-align: middle;\n",
       "    }\n",
       "\n",
       "    .dataframe tbody tr th {\n",
       "        vertical-align: top;\n",
       "    }\n",
       "\n",
       "    .dataframe thead th {\n",
       "        text-align: right;\n",
       "    }\n",
       "</style>\n",
       "<table border=\"1\" class=\"dataframe\">\n",
       "  <thead>\n",
       "    <tr style=\"text-align: right;\">\n",
       "      <th></th>\n",
       "      <th>pred_dead</th>\n",
       "      <th>pred_survived</th>\n",
       "    </tr>\n",
       "  </thead>\n",
       "  <tbody>\n",
       "    <tr>\n",
       "      <th>actual_dead</th>\n",
       "      <td>True Negative</td>\n",
       "      <td>False positive</td>\n",
       "    </tr>\n",
       "    <tr>\n",
       "      <th>actual_survived</th>\n",
       "      <td>False Negative</td>\n",
       "      <td>True Positive</td>\n",
       "    </tr>\n",
       "  </tbody>\n",
       "</table>\n",
       "</div>"
      ],
      "text/plain": [
       "                      pred_dead   pred_survived\n",
       "actual_dead       True Negative  False positive\n",
       "actual_survived  False Negative   True Positive"
      ]
     },
     "execution_count": 37,
     "metadata": {},
     "output_type": "execute_result"
    }
   ],
   "source": [
    "rubric_df = pd.DataFrame([['True Negative', 'False positive'], ['False Negative', 'True Positive']], columns=mat.columns, index=mat.index)\n",
    "rubric_df"
   ]
  },
  {
   "cell_type": "code",
   "execution_count": 38,
   "metadata": {
    "scrolled": false
   },
   "outputs": [
    {
     "data": {
      "text/html": [
       "<div>\n",
       "<style scoped>\n",
       "    .dataframe tbody tr th:only-of-type {\n",
       "        vertical-align: middle;\n",
       "    }\n",
       "\n",
       "    .dataframe tbody tr th {\n",
       "        vertical-align: top;\n",
       "    }\n",
       "\n",
       "    .dataframe thead th {\n",
       "        text-align: right;\n",
       "    }\n",
       "</style>\n",
       "<table border=\"1\" class=\"dataframe\">\n",
       "  <thead>\n",
       "    <tr style=\"text-align: right;\">\n",
       "      <th></th>\n",
       "      <th>pred_dead</th>\n",
       "      <th>pred_survived</th>\n",
       "    </tr>\n",
       "  </thead>\n",
       "  <tbody>\n",
       "    <tr>\n",
       "      <th>actual_dead</th>\n",
       "      <td>True Negative: 261</td>\n",
       "      <td>False positive: 46</td>\n",
       "    </tr>\n",
       "    <tr>\n",
       "      <th>actual_survived</th>\n",
       "      <td>False Negative: 46</td>\n",
       "      <td>True Positive: 145</td>\n",
       "    </tr>\n",
       "  </tbody>\n",
       "</table>\n",
       "</div>"
      ],
      "text/plain": [
       "                          pred_dead       pred_survived\n",
       "actual_dead      True Negative: 261  False positive: 46\n",
       "actual_survived  False Negative: 46  True Positive: 145"
      ]
     },
     "execution_count": 38,
     "metadata": {},
     "output_type": "execute_result"
    }
   ],
   "source": [
    "rubric_df + ': ' + mat.values.astype(str)"
   ]
  },
  {
   "cell_type": "code",
   "execution_count": 39,
   "metadata": {
    "scrolled": true
   },
   "outputs": [
    {
     "data": {
      "text/plain": [
       "array([[261,  46],\n",
       "       [ 46, 145]])"
      ]
     },
     "execution_count": 39,
     "metadata": {},
     "output_type": "execute_result"
    }
   ],
   "source": [
    "conf_m"
   ]
  },
  {
   "cell_type": "code",
   "execution_count": 40,
   "metadata": {},
   "outputs": [
    {
     "data": {
      "text/plain": [
       "261"
      ]
     },
     "execution_count": 40,
     "metadata": {},
     "output_type": "execute_result"
    }
   ],
   "source": [
    "conf_m[0,0]"
   ]
  },
  {
   "cell_type": "markdown",
   "metadata": {},
   "source": [
    "positive = survived\n",
    "\n",
    "these calculate the rates\n",
    "- tpr = tp/(tp+fn)\n",
    "- fpr = fp/(fp+tn)\n",
    "- tnr = tn/(tn+fp)\n",
    "- fnr = fn/(fn+tp)\n",
    "\n",
    "https://en.wikipedia.org/wiki/Confusion_matrix"
   ]
  },
  {
   "cell_type": "code",
   "execution_count": 41,
   "metadata": {},
   "outputs": [],
   "source": [
    "#assign the values\n",
    "tp = conf_m[1,1]\n",
    "fp =conf_m[0,1] \n",
    "fn= conf_m[1,0]\n",
    "tn =conf_m[0,0]"
   ]
  },
  {
   "cell_type": "code",
   "execution_count": 42,
   "metadata": {},
   "outputs": [],
   "source": [
    "#calculate the rate\n",
    "tpr = tp/(tp+fn)\n",
    "fpr = fp/(fp+tn)\n",
    "tnr = tn/(tn+fp)\n",
    "fnr = fn/(fn+tp)"
   ]
  },
  {
   "cell_type": "code",
   "execution_count": 43,
   "metadata": {},
   "outputs": [],
   "source": [
    "#     matrix = confusion_matrix(y, model.predict(X))\n",
    "#     tpr = matrix[1,1] / (matrix[1,1] + matrix[1,0])\n",
    "#     fpr = matrix[0,1] / (matrix[0,1] + matrix[0,0])\n",
    "#     tnr = matrix[0,0] / (matrix[0,0] + matrix[0,1])\n",
    "#     fnr = matrix[1,0] / (matrix[1,1] + matrix[1,0])"
   ]
  },
  {
   "cell_type": "code",
   "execution_count": 44,
   "metadata": {},
   "outputs": [
    {
     "data": {
      "text/plain": [
       "0.8152610441767069"
      ]
     },
     "execution_count": 44,
     "metadata": {},
     "output_type": "execute_result"
    }
   ],
   "source": [
    "#calculate the accuracy\n",
    "acc = model1.score(X_train, y_train)\n",
    "acc"
   ]
  },
  {
   "cell_type": "code",
   "execution_count": 45,
   "metadata": {},
   "outputs": [
    {
     "name": "stdout",
     "output_type": "stream",
     "text": [
      "\n",
      "The accuracy for our model is 0.8153\n",
      "The True Positive Rate is 0.759, The False Positive Rate is 0.15,\n",
      "The True Negative Rate is 0.85, and the False Negative Rate is 0.241\n",
      "\n"
     ]
    }
   ],
   "source": [
    "print(f'''\n",
    "The accuracy for our model is {acc:.4}\n",
    "The True Positive Rate is {tpr:.3}, The False Positive Rate is {fpr:.3},\n",
    "The True Negative Rate is {tnr:.3}, and the False Negative Rate is {fnr:.3}\n",
    "''')"
   ]
  },
  {
   "cell_type": "code",
   "execution_count": 46,
   "metadata": {
    "scrolled": true
   },
   "outputs": [
    {
     "data": {
      "text/html": [
       "<div>\n",
       "<style scoped>\n",
       "    .dataframe tbody tr th:only-of-type {\n",
       "        vertical-align: middle;\n",
       "    }\n",
       "\n",
       "    .dataframe tbody tr th {\n",
       "        vertical-align: top;\n",
       "    }\n",
       "\n",
       "    .dataframe thead th {\n",
       "        text-align: right;\n",
       "    }\n",
       "</style>\n",
       "<table border=\"1\" class=\"dataframe\">\n",
       "  <thead>\n",
       "    <tr style=\"text-align: right;\">\n",
       "      <th></th>\n",
       "      <th>precision</th>\n",
       "      <th>recall</th>\n",
       "      <th>f1-score</th>\n",
       "      <th>support</th>\n",
       "    </tr>\n",
       "  </thead>\n",
       "  <tbody>\n",
       "    <tr>\n",
       "      <th>0</th>\n",
       "      <td>0.850163</td>\n",
       "      <td>0.850163</td>\n",
       "      <td>0.850163</td>\n",
       "      <td>307.000000</td>\n",
       "    </tr>\n",
       "    <tr>\n",
       "      <th>1</th>\n",
       "      <td>0.759162</td>\n",
       "      <td>0.759162</td>\n",
       "      <td>0.759162</td>\n",
       "      <td>191.000000</td>\n",
       "    </tr>\n",
       "    <tr>\n",
       "      <th>accuracy</th>\n",
       "      <td>0.815261</td>\n",
       "      <td>0.815261</td>\n",
       "      <td>0.815261</td>\n",
       "      <td>0.815261</td>\n",
       "    </tr>\n",
       "    <tr>\n",
       "      <th>macro avg</th>\n",
       "      <td>0.804663</td>\n",
       "      <td>0.804663</td>\n",
       "      <td>0.804663</td>\n",
       "      <td>498.000000</td>\n",
       "    </tr>\n",
       "    <tr>\n",
       "      <th>weighted avg</th>\n",
       "      <td>0.815261</td>\n",
       "      <td>0.815261</td>\n",
       "      <td>0.815261</td>\n",
       "      <td>498.000000</td>\n",
       "    </tr>\n",
       "  </tbody>\n",
       "</table>\n",
       "</div>"
      ],
      "text/plain": [
       "              precision    recall  f1-score     support\n",
       "0              0.850163  0.850163  0.850163  307.000000\n",
       "1              0.759162  0.759162  0.759162  191.000000\n",
       "accuracy       0.815261  0.815261  0.815261    0.815261\n",
       "macro avg      0.804663  0.804663  0.804663  498.000000\n",
       "weighted avg   0.815261  0.815261  0.815261  498.000000"
      ]
     },
     "execution_count": 46,
     "metadata": {},
     "output_type": "execute_result"
    }
   ],
   "source": [
    "#classification report\n",
    "clas_rep =pd.DataFrame(classification_report(y_train, prediction, output_dict=True)).T\n",
    "clas_rep"
   ]
  },
  {
   "cell_type": "code",
   "execution_count": 108,
   "metadata": {},
   "outputs": [
    {
     "data": {
      "text/plain": [
       "pclass        0.000000\n",
       "age           0.065516\n",
       "sibsp         0.092325\n",
       "parch         0.000000\n",
       "fare          0.088060\n",
       "alone         0.000000\n",
       "embarked_Q    0.000000\n",
       "embarked_S    0.065827\n",
       "sex_male      0.688272\n",
       "dtype: float64"
      ]
     },
     "execution_count": 108,
     "metadata": {},
     "output_type": "execute_result"
    }
   ],
   "source": [
    "pd.Series(dict(zip(X_train.columns, model1.feature_importances_)))"
   ]
  },
  {
   "cell_type": "markdown",
   "metadata": {},
   "source": [
    "**********************"
   ]
  },
  {
   "cell_type": "markdown",
   "metadata": {},
   "source": [
    "## other models"
   ]
  },
  {
   "cell_type": "code",
   "execution_count": null,
   "metadata": {},
   "outputs": [],
   "source": [
    "model11 = DecisionTreeClassifier(max_depth=3, max_features= 4)\n",
    "model11.fit(X_train, y_train)\n",
    "print(f'training score: {model11.score(X_train, y_train):.2%}')\n"
   ]
  },
  {
   "cell_type": "code",
   "execution_count": null,
   "metadata": {
    "scrolled": true
   },
   "outputs": [],
   "source": [
    "\n",
    "import matplotlib.pyplot as plt\n",
    "plt.figure(figsize=(24, 12))\n",
    "plot_tree(\n",
    "    model11,\n",
    "    feature_names=X_train.columns.tolist(),\n",
    "    class_names=['died', 'survived'],\n",
    ")"
   ]
  },
  {
   "cell_type": "code",
   "execution_count": null,
   "metadata": {},
   "outputs": [],
   "source": [
    "pd.Series(dict(zip(X_train.columns, model11.feature_importances_)))"
   ]
  },
  {
   "cell_type": "code",
   "execution_count": null,
   "metadata": {},
   "outputs": [],
   "source": [
    "\n",
    "model2 = DecisionTreeClassifier(max_depth=3)\n",
    "model2.fit(X_train, y_train)\n",
    "\n",
    "print(f'training score: {model2.score(X_train, y_train):.2%}')\n",
    "print(f'validate score: {model2.score(X_validate, y_validate):.2%}')"
   ]
  },
  {
   "cell_type": "code",
   "execution_count": null,
   "metadata": {
    "scrolled": true
   },
   "outputs": [],
   "source": [
    "# we want traning score < validate score.\n",
    "# an aceptable range is a diff of 5%"
   ]
  },
  {
   "cell_type": "code",
   "execution_count": null,
   "metadata": {},
   "outputs": [],
   "source": [
    "\n",
    "import matplotlib.pyplot as plt\n",
    "plt.figure(figsize=(24, 12))\n",
    "plot_tree(\n",
    "    model2,\n",
    "    feature_names=X_train.columns.tolist(),\n",
    "    class_names=['died', 'survived'],\n",
    ")"
   ]
  },
  {
   "cell_type": "code",
   "execution_count": null,
   "metadata": {},
   "outputs": [],
   "source": [
    "pd.Series(dict(zip(X_train.columns, model2.feature_importances_)))"
   ]
  },
  {
   "cell_type": "markdown",
   "metadata": {},
   "source": [
    "### 3. Evaluate your in-sample results using the model score, confusion matrix, and classification report."
   ]
  },
  {
   "cell_type": "code",
   "execution_count": null,
   "metadata": {},
   "outputs": [],
   "source": [
    "# ****************compute metrics on the TRAIN set"
   ]
  },
  {
   "cell_type": "code",
   "execution_count": 47,
   "metadata": {},
   "outputs": [],
   "source": [
    "#prediction based on our model\n",
    "prediction = model.predict(X_train)"
   ]
  },
  {
   "cell_type": "code",
   "execution_count": 48,
   "metadata": {
    "scrolled": false
   },
   "outputs": [
    {
     "data": {
      "text/plain": [
       "array([0, 1, 0, 1, 1, 0, 0, 0, 0, 0, 0, 0, 1, 0, 0, 1, 0, 1, 0, 0, 1, 0,\n",
       "       1, 1, 0, 0, 1, 0, 0, 0, 0, 0, 0, 1, 1, 1, 0, 1, 0, 1, 0, 0, 0, 1,\n",
       "       0, 0, 0, 0, 1, 0, 0, 0, 1, 1, 1, 1, 0, 1, 1, 0, 0, 0, 0, 0, 0, 0,\n",
       "       1, 0, 1, 1, 0, 0, 1, 1, 0, 0, 0, 0, 0, 1, 0, 1, 0, 0, 0, 0, 1, 1,\n",
       "       1, 0, 0, 0, 1, 1, 0, 0, 1, 0, 0, 1, 0, 0, 1, 0, 0, 1, 0, 1, 0, 0,\n",
       "       1, 1, 0, 0, 0, 1, 0, 0, 1, 1, 0, 0, 0, 0, 1, 1, 1, 0, 1, 0, 1, 0,\n",
       "       0, 1, 0, 0, 0, 0, 0, 0, 1, 0, 0, 0, 1, 1, 1, 1, 1, 1, 0, 1, 1, 0,\n",
       "       0, 1, 0, 0, 1, 0, 0, 1, 0, 1, 0, 0, 0, 0, 0, 0, 0, 1, 1, 0, 0, 0,\n",
       "       1, 0, 0, 1, 0, 0, 0, 1, 0, 1, 0, 1, 0, 1, 0, 1, 0, 0, 1, 1, 0, 1,\n",
       "       0, 0, 0, 1, 1, 0, 0, 0, 0, 0, 0, 1, 0, 0, 0, 1, 1, 1, 0, 0, 1, 0,\n",
       "       0, 0, 0, 1, 0, 0, 0, 1, 0, 1, 0, 0, 0, 0, 0, 1, 1, 0, 0, 0, 0, 0,\n",
       "       1, 1, 1, 0, 1, 0, 1, 1, 0, 0, 0, 1, 0, 1, 0, 1, 1, 1, 0, 0, 1, 1,\n",
       "       0, 0, 0, 1, 0, 0, 0, 0, 0, 1, 0, 0, 0, 0, 0, 0, 0, 1, 0, 1, 0, 0,\n",
       "       1, 1, 0, 0, 0, 0, 0, 0, 0, 1, 0, 0, 0, 0, 1, 0, 0, 1, 0, 0, 1, 0,\n",
       "       0, 0, 0, 0, 0, 1, 0, 0, 0, 1, 1, 0, 0, 0, 1, 0, 0, 1, 1, 1, 1, 1,\n",
       "       0, 1, 1, 1, 1, 1, 0, 1, 0, 1, 0, 1, 1, 1, 0, 1, 0, 0, 0, 0, 1, 0,\n",
       "       1, 1, 1, 1, 1, 0, 0, 1, 0, 1, 1, 0, 0, 0, 0, 0, 0, 0, 0, 0, 1, 0,\n",
       "       1, 0, 1, 0, 1, 1, 1, 1, 1, 0, 0, 1, 0, 1, 0, 0, 0, 0, 0, 0, 1, 0,\n",
       "       1, 0, 0, 0, 0, 1, 0, 0, 0, 1, 0, 0, 0, 0, 0, 0, 0, 0, 1, 1, 1, 0,\n",
       "       1, 0, 1, 0, 0, 1, 0, 1, 0, 1, 0, 0, 0, 0, 0, 0, 1, 1, 0, 0, 1, 0,\n",
       "       0, 0, 0, 0, 0, 1, 0, 0, 1, 0, 1, 1, 0, 0, 1, 1, 0, 0, 0, 0, 0, 0,\n",
       "       1, 0, 0, 1, 1, 0, 1, 0, 1, 0, 0, 0, 0, 0, 1, 0, 0, 0, 1, 1, 1, 1,\n",
       "       0, 1, 1, 1, 0, 1, 1, 0, 1, 0, 0, 0, 0, 1])"
      ]
     },
     "execution_count": 48,
     "metadata": {},
     "output_type": "execute_result"
    }
   ],
   "source": [
    "prediction"
   ]
  },
  {
   "cell_type": "code",
   "execution_count": null,
   "metadata": {},
   "outputs": [],
   "source": []
  },
  {
   "cell_type": "code",
   "execution_count": 49,
   "metadata": {},
   "outputs": [
    {
     "data": {
      "text/plain": [
       "0    310\n",
       "1    188\n",
       "dtype: int64"
      ]
     },
     "execution_count": 49,
     "metadata": {},
     "output_type": "execute_result"
    }
   ],
   "source": [
    "# check out the values in the predictions. we cannot use value_counts in array thats whay we conver it to pd.series\n",
    "pd.Series(prediction).value_counts()"
   ]
  },
  {
   "cell_type": "code",
   "execution_count": 54,
   "metadata": {
    "scrolled": true
   },
   "outputs": [
    {
     "data": {
      "text/plain": [
       "0.8152610441767069"
      ]
     },
     "execution_count": 54,
     "metadata": {},
     "output_type": "execute_result"
    }
   ],
   "source": [
    "#model Score: Accuracy\n",
    "\n",
    "acc = model1.score(X_train, y_train)\n",
    "acc"
   ]
  },
  {
   "cell_type": "code",
   "execution_count": 55,
   "metadata": {},
   "outputs": [
    {
     "data": {
      "text/html": [
       "<div>\n",
       "<style scoped>\n",
       "    .dataframe tbody tr th:only-of-type {\n",
       "        vertical-align: middle;\n",
       "    }\n",
       "\n",
       "    .dataframe tbody tr th {\n",
       "        vertical-align: top;\n",
       "    }\n",
       "\n",
       "    .dataframe thead th {\n",
       "        text-align: right;\n",
       "    }\n",
       "</style>\n",
       "<table border=\"1\" class=\"dataframe\">\n",
       "  <thead>\n",
       "    <tr style=\"text-align: right;\">\n",
       "      <th></th>\n",
       "      <th>survived</th>\n",
       "      <th>pclass</th>\n",
       "      <th>age</th>\n",
       "      <th>sibsp</th>\n",
       "      <th>parch</th>\n",
       "      <th>fare</th>\n",
       "      <th>alone</th>\n",
       "      <th>embarked_Q</th>\n",
       "      <th>embarked_S</th>\n",
       "      <th>sex_male</th>\n",
       "    </tr>\n",
       "  </thead>\n",
       "  <tbody>\n",
       "    <tr>\n",
       "      <th>583</th>\n",
       "      <td>0</td>\n",
       "      <td>1</td>\n",
       "      <td>36.0</td>\n",
       "      <td>0</td>\n",
       "      <td>0</td>\n",
       "      <td>40.125</td>\n",
       "      <td>1</td>\n",
       "      <td>0</td>\n",
       "      <td>0</td>\n",
       "      <td>1</td>\n",
       "    </tr>\n",
       "  </tbody>\n",
       "</table>\n",
       "</div>"
      ],
      "text/plain": [
       "     survived  pclass   age  sibsp  parch    fare  alone  embarked_Q  \\\n",
       "583         0       1  36.0      0      0  40.125      1           0   \n",
       "\n",
       "     embarked_S  sex_male  \n",
       "583           0         1  "
      ]
     },
     "execution_count": 55,
     "metadata": {},
     "output_type": "execute_result"
    }
   ],
   "source": [
    "train.head(1)"
   ]
  },
  {
   "cell_type": "code",
   "execution_count": 56,
   "metadata": {},
   "outputs": [
    {
     "data": {
      "text/plain": [
       "0    307\n",
       "1    191\n",
       "Name: survived, dtype: int64"
      ]
     },
     "execution_count": 56,
     "metadata": {},
     "output_type": "execute_result"
    }
   ],
   "source": [
    "#these are the actual numbers\n",
    "train.survived.value_counts()"
   ]
  },
  {
   "cell_type": "code",
   "execution_count": 57,
   "metadata": {},
   "outputs": [],
   "source": [
    "#check if you change the order of labels"
   ]
  },
  {
   "cell_type": "code",
   "execution_count": 58,
   "metadata": {},
   "outputs": [
    {
     "data": {
      "text/plain": [
       "array([[307,   0],\n",
       "       [  3, 188]])"
      ]
     },
     "execution_count": 58,
     "metadata": {},
     "output_type": "execute_result"
    }
   ],
   "source": [
    "confusion_matrix(y_train, prediction)"
   ]
  },
  {
   "cell_type": "code",
   "execution_count": 59,
   "metadata": {},
   "outputs": [
    {
     "data": {
      "text/plain": [
       "array([[188,   3],\n",
       "       [  0, 307]])"
      ]
     },
     "execution_count": 59,
     "metadata": {},
     "output_type": "execute_result"
    }
   ],
   "source": [
    "confusion_matrix(y_train, prediction, labels=(1, 0) ) "
   ]
  },
  {
   "cell_type": "code",
   "execution_count": 60,
   "metadata": {
    "scrolled": true
   },
   "outputs": [
    {
     "data": {
      "text/plain": [
       "array([[307,   0],\n",
       "       [  3, 188]])"
      ]
     },
     "execution_count": 60,
     "metadata": {},
     "output_type": "execute_result"
    }
   ],
   "source": [
    "confusion_matrix(y_train, prediction, labels=(0, 1) )#this is the default"
   ]
  },
  {
   "cell_type": "code",
   "execution_count": 61,
   "metadata": {},
   "outputs": [
    {
     "data": {
      "text/plain": [
       "array([[307,   0],\n",
       "       [  3, 188]])"
      ]
     },
     "execution_count": 61,
     "metadata": {},
     "output_type": "execute_result"
    }
   ],
   "source": [
    "#the rows are the actual dead  because 0 + 307 = 307, \n",
    "confusion_matrix(y_train, prediction)"
   ]
  },
  {
   "cell_type": "code",
   "execution_count": 62,
   "metadata": {},
   "outputs": [],
   "source": [
    "cm= pd.DataFrame ((confusion_matrix(y_train, prediction )),index = ['actual_dead','actual_survived'], columns =['pred_dead','pred_survived' ])"
   ]
  },
  {
   "cell_type": "code",
   "execution_count": 63,
   "metadata": {},
   "outputs": [
    {
     "data": {
      "text/html": [
       "<div>\n",
       "<style scoped>\n",
       "    .dataframe tbody tr th:only-of-type {\n",
       "        vertical-align: middle;\n",
       "    }\n",
       "\n",
       "    .dataframe tbody tr th {\n",
       "        vertical-align: top;\n",
       "    }\n",
       "\n",
       "    .dataframe thead th {\n",
       "        text-align: right;\n",
       "    }\n",
       "</style>\n",
       "<table border=\"1\" class=\"dataframe\">\n",
       "  <thead>\n",
       "    <tr style=\"text-align: right;\">\n",
       "      <th></th>\n",
       "      <th>pred_dead</th>\n",
       "      <th>pred_survived</th>\n",
       "    </tr>\n",
       "  </thead>\n",
       "  <tbody>\n",
       "    <tr>\n",
       "      <th>actual_dead</th>\n",
       "      <td>307</td>\n",
       "      <td>0</td>\n",
       "    </tr>\n",
       "    <tr>\n",
       "      <th>actual_survived</th>\n",
       "      <td>3</td>\n",
       "      <td>188</td>\n",
       "    </tr>\n",
       "  </tbody>\n",
       "</table>\n",
       "</div>"
      ],
      "text/plain": [
       "                 pred_dead  pred_survived\n",
       "actual_dead            307              0\n",
       "actual_survived          3            188"
      ]
     },
     "execution_count": 63,
     "metadata": {},
     "output_type": "execute_result"
    }
   ],
   "source": [
    "cm"
   ]
  },
  {
   "cell_type": "code",
   "execution_count": 64,
   "metadata": {},
   "outputs": [
    {
     "data": {
      "text/plain": [
       "0.8152610441767069"
      ]
     },
     "execution_count": 64,
     "metadata": {},
     "output_type": "execute_result"
    }
   ],
   "source": [
    "#model Score: Accuracy\n",
    "\n",
    "acc = model1.score(X_train, y_train)\n",
    "acc"
   ]
  },
  {
   "cell_type": "code",
   "execution_count": 65,
   "metadata": {},
   "outputs": [
    {
     "data": {
      "text/html": [
       "<div>\n",
       "<style scoped>\n",
       "    .dataframe tbody tr th:only-of-type {\n",
       "        vertical-align: middle;\n",
       "    }\n",
       "\n",
       "    .dataframe tbody tr th {\n",
       "        vertical-align: top;\n",
       "    }\n",
       "\n",
       "    .dataframe thead th {\n",
       "        text-align: right;\n",
       "    }\n",
       "</style>\n",
       "<table border=\"1\" class=\"dataframe\">\n",
       "  <thead>\n",
       "    <tr style=\"text-align: right;\">\n",
       "      <th></th>\n",
       "      <th>precision</th>\n",
       "      <th>recall</th>\n",
       "      <th>f1-score</th>\n",
       "      <th>support</th>\n",
       "    </tr>\n",
       "  </thead>\n",
       "  <tbody>\n",
       "    <tr>\n",
       "      <th>0</th>\n",
       "      <td>0.990323</td>\n",
       "      <td>1.000000</td>\n",
       "      <td>0.995138</td>\n",
       "      <td>307.000000</td>\n",
       "    </tr>\n",
       "    <tr>\n",
       "      <th>1</th>\n",
       "      <td>1.000000</td>\n",
       "      <td>0.984293</td>\n",
       "      <td>0.992084</td>\n",
       "      <td>191.000000</td>\n",
       "    </tr>\n",
       "    <tr>\n",
       "      <th>accuracy</th>\n",
       "      <td>0.993976</td>\n",
       "      <td>0.993976</td>\n",
       "      <td>0.993976</td>\n",
       "      <td>0.993976</td>\n",
       "    </tr>\n",
       "    <tr>\n",
       "      <th>macro avg</th>\n",
       "      <td>0.995161</td>\n",
       "      <td>0.992147</td>\n",
       "      <td>0.993611</td>\n",
       "      <td>498.000000</td>\n",
       "    </tr>\n",
       "    <tr>\n",
       "      <th>weighted avg</th>\n",
       "      <td>0.994034</td>\n",
       "      <td>0.993976</td>\n",
       "      <td>0.993967</td>\n",
       "      <td>498.000000</td>\n",
       "    </tr>\n",
       "  </tbody>\n",
       "</table>\n",
       "</div>"
      ],
      "text/plain": [
       "              precision    recall  f1-score     support\n",
       "0              0.990323  1.000000  0.995138  307.000000\n",
       "1              1.000000  0.984293  0.992084  191.000000\n",
       "accuracy       0.993976  0.993976  0.993976    0.993976\n",
       "macro avg      0.995161  0.992147  0.993611  498.000000\n",
       "weighted avg   0.994034  0.993976  0.993967  498.000000"
      ]
     },
     "execution_count": 65,
     "metadata": {},
     "output_type": "execute_result"
    }
   ],
   "source": [
    "pd.DataFrame(classification_report(y_train, prediction, output_dict=True)).T"
   ]
  },
  {
   "cell_type": "code",
   "execution_count": null,
   "metadata": {},
   "outputs": [],
   "source": []
  },
  {
   "cell_type": "code",
   "execution_count": null,
   "metadata": {},
   "outputs": [],
   "source": []
  },
  {
   "cell_type": "markdown",
   "metadata": {},
   "source": [
    "### 4. Compute: Accuracy, true positive rate, false positive rate, true negative rate, false negative rate, precision, recall, f1-score, and support."
   ]
  },
  {
   "cell_type": "code",
   "execution_count": null,
   "metadata": {},
   "outputs": [],
   "source": [
    "#### on the validate set *****\n"
   ]
  },
  {
   "cell_type": "markdown",
   "metadata": {},
   "source": [
    "positive is : survived\n",
    "True Positive: predict survived and it is survived\n",
    "True Negative: predict death and it is death\n",
    "False Positive: predict survived and it is death\n",
    "False Negative: predict death and it is survived"
   ]
  },
  {
   "cell_type": "code",
   "execution_count": 66,
   "metadata": {},
   "outputs": [
    {
     "name": "stdout",
     "output_type": "stream",
     "text": [
      "validate score: 78.04%\n"
     ]
    }
   ],
   "source": [
    "# print the model score on the validate set\n",
    "print(f'validate score: {model1.score(X_validate, y_validate):.2%}')"
   ]
  },
  {
   "cell_type": "code",
   "execution_count": 69,
   "metadata": {},
   "outputs": [],
   "source": [
    "val_pred = model1.predict(X_validate)"
   ]
  },
  {
   "cell_type": "code",
   "execution_count": 70,
   "metadata": {
    "scrolled": true
   },
   "outputs": [
    {
     "name": "stdout",
     "output_type": "stream",
     "text": [
      "              precision    recall  f1-score   support\n",
      "\n",
      "           0       0.82      0.83      0.82       132\n",
      "           1       0.72      0.71      0.71        82\n",
      "\n",
      "    accuracy                           0.78       214\n",
      "   macro avg       0.77      0.77      0.77       214\n",
      "weighted avg       0.78      0.78      0.78       214\n",
      "\n"
     ]
    }
   ],
   "source": [
    "# run classification report for model 1 on validate set\n",
    "model1_class_report = \n",
    "print(model1_class_report)"
   ]
  },
  {
   "cell_type": "code",
   "execution_count": 71,
   "metadata": {},
   "outputs": [
    {
     "data": {
      "text/plain": [
       "0    132\n",
       "1     82\n",
       "Name: survived, dtype: int64"
      ]
     },
     "execution_count": 71,
     "metadata": {},
     "output_type": "execute_result"
    }
   ],
   "source": [
    "validate.survived.value_counts()"
   ]
  },
  {
   "cell_type": "code",
   "execution_count": 74,
   "metadata": {
    "scrolled": true
   },
   "outputs": [
    {
     "data": {
      "text/plain": [
       "array([[109,  23],\n",
       "       [ 24,  58]])"
      ]
     },
     "execution_count": 74,
     "metadata": {},
     "output_type": "execute_result"
    }
   ],
   "source": [
    "confusion_matrix(validate.survived, val_pred)"
   ]
  },
  {
   "cell_type": "code",
   "execution_count": 84,
   "metadata": {},
   "outputs": [],
   "source": [
    "cm2= confusion_matrix(y_validate, val_pred)"
   ]
  },
  {
   "cell_type": "code",
   "execution_count": 85,
   "metadata": {},
   "outputs": [
    {
     "data": {
      "text/html": [
       "<div>\n",
       "<style scoped>\n",
       "    .dataframe tbody tr th:only-of-type {\n",
       "        vertical-align: middle;\n",
       "    }\n",
       "\n",
       "    .dataframe tbody tr th {\n",
       "        vertical-align: top;\n",
       "    }\n",
       "\n",
       "    .dataframe thead th {\n",
       "        text-align: right;\n",
       "    }\n",
       "</style>\n",
       "<table border=\"1\" class=\"dataframe\">\n",
       "  <thead>\n",
       "    <tr style=\"text-align: right;\">\n",
       "      <th></th>\n",
       "      <th>pred_death</th>\n",
       "      <th>pred_survived</th>\n",
       "    </tr>\n",
       "  </thead>\n",
       "  <tbody>\n",
       "    <tr>\n",
       "      <th>actual_death</th>\n",
       "      <td>109</td>\n",
       "      <td>23</td>\n",
       "    </tr>\n",
       "    <tr>\n",
       "      <th>actual_survived</th>\n",
       "      <td>24</td>\n",
       "      <td>58</td>\n",
       "    </tr>\n",
       "  </tbody>\n",
       "</table>\n",
       "</div>"
      ],
      "text/plain": [
       "                 pred_death  pred_survived\n",
       "actual_death            109             23\n",
       "actual_survived          24             58"
      ]
     },
     "execution_count": 85,
     "metadata": {},
     "output_type": "execute_result"
    }
   ],
   "source": [
    "#just to see\n",
    "pd.DataFrame (confusion_matrix(y_validate, val_pred),index = ['actual_death','actual_survived'], columns =['pred_death','pred_survived' ] )"
   ]
  },
  {
   "cell_type": "code",
   "execution_count": null,
   "metadata": {},
   "outputs": [],
   "source": []
  },
  {
   "cell_type": "code",
   "execution_count": null,
   "metadata": {},
   "outputs": [],
   "source": [
    "\n"
   ]
  },
  {
   "cell_type": "code",
   "execution_count": 86,
   "metadata": {},
   "outputs": [],
   "source": [
    "#psitive : survived\n",
    "#assign the values\n",
    "tp = cm2[1,1]\n",
    "fp =cm2[0,1] \n",
    "fn= cm2[1,0]\n",
    "tn =cm2[0,0]"
   ]
  },
  {
   "cell_type": "code",
   "execution_count": 87,
   "metadata": {},
   "outputs": [],
   "source": [
    "#calculate the rate\n",
    "tpr = tp/(tp+fn)\n",
    "fpr = fp/(fp+tn)\n",
    "tnr = tn/(tn+fp)\n",
    "fnr = fn/(fn+tp)"
   ]
  },
  {
   "cell_type": "code",
   "execution_count": 88,
   "metadata": {},
   "outputs": [
    {
     "name": "stdout",
     "output_type": "stream",
     "text": [
      "\n",
      "\n",
      "The True Positive Rate is 0.707, The False Positive Rate is 0.174,\n",
      "The True Negative Rate is 0.826, and the False Negative Rate is 0.293\n",
      "\n"
     ]
    }
   ],
   "source": [
    "print(f'''\n",
    "\n",
    "The True Positive Rate is {tpr:.3}, The False Positive Rate is {fpr:.3},\n",
    "The True Negative Rate is {tnr:.3}, and the False Negative Rate is {fnr:.3}\n",
    "''')"
   ]
  },
  {
   "cell_type": "code",
   "execution_count": 95,
   "metadata": {},
   "outputs": [
    {
     "data": {
      "text/plain": [
       "0.780373831775701"
      ]
     },
     "execution_count": 95,
     "metadata": {},
     "output_type": "execute_result"
    }
   ],
   "source": [
    "#accuracy\n",
    "acc_model1 =accuracy_score(y_validate, val_pred)\n",
    "acc_model1"
   ]
  },
  {
   "cell_type": "code",
   "execution_count": 96,
   "metadata": {},
   "outputs": [
    {
     "data": {
      "text/plain": [
       "0.7160493827160493"
      ]
     },
     "execution_count": 96,
     "metadata": {},
     "output_type": "execute_result"
    }
   ],
   "source": [
    "#precision\n",
    "prec_model1= precision_score(y_validate, val_pred, pos_label = 1 )\n",
    "prec_model1"
   ]
  },
  {
   "cell_type": "code",
   "execution_count": 97,
   "metadata": {},
   "outputs": [
    {
     "data": {
      "text/plain": [
       "0.7073170731707317"
      ]
     },
     "execution_count": 97,
     "metadata": {},
     "output_type": "execute_result"
    }
   ],
   "source": [
    "#recall\n",
    "rec_model1= recall_score(y_validate, val_pred, pos_label = 1 )\n",
    "rec_model1"
   ]
  },
  {
   "cell_type": "code",
   "execution_count": 100,
   "metadata": {},
   "outputs": [
    {
     "data": {
      "text/html": [
       "<div>\n",
       "<style scoped>\n",
       "    .dataframe tbody tr th:only-of-type {\n",
       "        vertical-align: middle;\n",
       "    }\n",
       "\n",
       "    .dataframe tbody tr th {\n",
       "        vertical-align: top;\n",
       "    }\n",
       "\n",
       "    .dataframe thead th {\n",
       "        text-align: right;\n",
       "    }\n",
       "</style>\n",
       "<table border=\"1\" class=\"dataframe\">\n",
       "  <thead>\n",
       "    <tr style=\"text-align: right;\">\n",
       "      <th></th>\n",
       "      <th>0</th>\n",
       "      <th>1</th>\n",
       "      <th>accuracy</th>\n",
       "      <th>macro avg</th>\n",
       "      <th>weighted avg</th>\n",
       "    </tr>\n",
       "  </thead>\n",
       "  <tbody>\n",
       "    <tr>\n",
       "      <th>precision</th>\n",
       "      <td>0.819549</td>\n",
       "      <td>0.716049</td>\n",
       "      <td>0.780374</td>\n",
       "      <td>0.767799</td>\n",
       "      <td>0.779890</td>\n",
       "    </tr>\n",
       "    <tr>\n",
       "      <th>recall</th>\n",
       "      <td>0.825758</td>\n",
       "      <td>0.707317</td>\n",
       "      <td>0.780374</td>\n",
       "      <td>0.766537</td>\n",
       "      <td>0.780374</td>\n",
       "    </tr>\n",
       "    <tr>\n",
       "      <th>f1-score</th>\n",
       "      <td>0.822642</td>\n",
       "      <td>0.711656</td>\n",
       "      <td>0.780374</td>\n",
       "      <td>0.767149</td>\n",
       "      <td>0.780115</td>\n",
       "    </tr>\n",
       "    <tr>\n",
       "      <th>support</th>\n",
       "      <td>132.000000</td>\n",
       "      <td>82.000000</td>\n",
       "      <td>0.780374</td>\n",
       "      <td>214.000000</td>\n",
       "      <td>214.000000</td>\n",
       "    </tr>\n",
       "  </tbody>\n",
       "</table>\n",
       "</div>"
      ],
      "text/plain": [
       "                    0          1  accuracy   macro avg  weighted avg\n",
       "precision    0.819549   0.716049  0.780374    0.767799      0.779890\n",
       "recall       0.825758   0.707317  0.780374    0.766537      0.780374\n",
       "f1-score     0.822642   0.711656  0.780374    0.767149      0.780115\n",
       "support    132.000000  82.000000  0.780374  214.000000    214.000000"
      ]
     },
     "execution_count": 100,
     "metadata": {},
     "output_type": "execute_result"
    }
   ],
   "source": [
    "df = pd.DataFrame(classification_report(y_validate, val_pred, output_dict= True))\n",
    "df"
   ]
  },
  {
   "cell_type": "code",
   "execution_count": null,
   "metadata": {
    "scrolled": true
   },
   "outputs": [],
   "source": []
  },
  {
   "cell_type": "code",
   "execution_count": 103,
   "metadata": {
    "scrolled": true
   },
   "outputs": [],
   "source": [
    "df.rename(columns={'0': \"dead\", '1': \"survived\"}, inplace = True)"
   ]
  },
  {
   "cell_type": "code",
   "execution_count": 104,
   "metadata": {},
   "outputs": [
    {
     "data": {
      "text/html": [
       "<div>\n",
       "<style scoped>\n",
       "    .dataframe tbody tr th:only-of-type {\n",
       "        vertical-align: middle;\n",
       "    }\n",
       "\n",
       "    .dataframe tbody tr th {\n",
       "        vertical-align: top;\n",
       "    }\n",
       "\n",
       "    .dataframe thead th {\n",
       "        text-align: right;\n",
       "    }\n",
       "</style>\n",
       "<table border=\"1\" class=\"dataframe\">\n",
       "  <thead>\n",
       "    <tr style=\"text-align: right;\">\n",
       "      <th></th>\n",
       "      <th>precision</th>\n",
       "      <th>recall</th>\n",
       "      <th>f1-score</th>\n",
       "      <th>support</th>\n",
       "    </tr>\n",
       "  </thead>\n",
       "  <tbody>\n",
       "    <tr>\n",
       "      <th>dead</th>\n",
       "      <td>0.819549</td>\n",
       "      <td>0.825758</td>\n",
       "      <td>0.822642</td>\n",
       "      <td>132.000000</td>\n",
       "    </tr>\n",
       "    <tr>\n",
       "      <th>survived</th>\n",
       "      <td>0.716049</td>\n",
       "      <td>0.707317</td>\n",
       "      <td>0.711656</td>\n",
       "      <td>82.000000</td>\n",
       "    </tr>\n",
       "    <tr>\n",
       "      <th>accuracy</th>\n",
       "      <td>0.780374</td>\n",
       "      <td>0.780374</td>\n",
       "      <td>0.780374</td>\n",
       "      <td>0.780374</td>\n",
       "    </tr>\n",
       "    <tr>\n",
       "      <th>macro avg</th>\n",
       "      <td>0.767799</td>\n",
       "      <td>0.766537</td>\n",
       "      <td>0.767149</td>\n",
       "      <td>214.000000</td>\n",
       "    </tr>\n",
       "    <tr>\n",
       "      <th>weighted avg</th>\n",
       "      <td>0.779890</td>\n",
       "      <td>0.780374</td>\n",
       "      <td>0.780115</td>\n",
       "      <td>214.000000</td>\n",
       "    </tr>\n",
       "  </tbody>\n",
       "</table>\n",
       "</div>"
      ],
      "text/plain": [
       "              precision    recall  f1-score     support\n",
       "dead           0.819549  0.825758  0.822642  132.000000\n",
       "survived       0.716049  0.707317  0.711656   82.000000\n",
       "accuracy       0.780374  0.780374  0.780374    0.780374\n",
       "macro avg      0.767799  0.766537  0.767149  214.000000\n",
       "weighted avg   0.779890  0.780374  0.780115  214.000000"
      ]
     },
     "execution_count": 104,
     "metadata": {},
     "output_type": "execute_result"
    }
   ],
   "source": [
    "df.T"
   ]
  },
  {
   "cell_type": "markdown",
   "metadata": {},
   "source": [
    "### 5. Run through steps 2-4 using a different max_depth value."
   ]
  },
  {
   "cell_type": "code",
   "execution_count": 110,
   "metadata": {},
   "outputs": [
    {
     "name": "stdout",
     "output_type": "stream",
     "text": [
      "training score: 79.92%\n",
      "validate score: 76.17%\n"
     ]
    }
   ],
   "source": [
    "\n",
    "model2 = DecisionTreeClassifier(max_depth=2)\n",
    "model2.fit(X_train, y_train)\n",
    "\n",
    "print(f'training score: {model2.score(X_train, y_train):.2%}')\n",
    "print(f'validate score: {model2.score(X_validate, y_validate):.2%}')"
   ]
  },
  {
   "cell_type": "code",
   "execution_count": 106,
   "metadata": {
    "scrolled": true
   },
   "outputs": [
    {
     "data": {
      "text/plain": [
       "[Text(669.6, 570.7800000000001, 'sex_male <= 0.5\\ngini = 0.473\\nsamples = 498\\nvalue = [307, 191]\\nclass = died'),\n",
       " Text(334.8, 407.70000000000005, 'pclass <= 2.5\\ngini = 0.365\\nsamples = 175\\nvalue = [42, 133]\\nclass = survived'),\n",
       " Text(167.4, 244.62, 'age <= 3.0\\ngini = 0.081\\nsamples = 94\\nvalue = [4, 90]\\nclass = survived'),\n",
       " Text(83.7, 81.53999999999996, 'gini = 0.0\\nsamples = 1\\nvalue = [1, 0]\\nclass = died'),\n",
       " Text(251.10000000000002, 81.53999999999996, 'gini = 0.062\\nsamples = 93\\nvalue = [3, 90]\\nclass = survived'),\n",
       " Text(502.20000000000005, 244.62, 'fare <= 23.912\\ngini = 0.498\\nsamples = 81\\nvalue = [38, 43]\\nclass = survived'),\n",
       " Text(418.5, 81.53999999999996, 'gini = 0.476\\nsamples = 69\\nvalue = [27, 42]\\nclass = survived'),\n",
       " Text(585.9, 81.53999999999996, 'gini = 0.153\\nsamples = 12\\nvalue = [11, 1]\\nclass = died'),\n",
       " Text(1004.4000000000001, 407.70000000000005, 'fare <= 18.275\\ngini = 0.295\\nsamples = 323\\nvalue = [265, 58]\\nclass = died'),\n",
       " Text(837.0, 244.62, 'age <= 7.835\\ngini = 0.184\\nsamples = 205\\nvalue = [184, 21]\\nclass = died'),\n",
       " Text(753.3000000000001, 81.53999999999996, 'gini = 0.0\\nsamples = 2\\nvalue = [0, 2]\\nclass = survived'),\n",
       " Text(920.7, 81.53999999999996, 'gini = 0.17\\nsamples = 203\\nvalue = [184, 19]\\nclass = died'),\n",
       " Text(1171.8, 244.62, 'age <= 53.0\\ngini = 0.43\\nsamples = 118\\nvalue = [81, 37]\\nclass = died'),\n",
       " Text(1088.1000000000001, 81.53999999999996, 'gini = 0.455\\nsamples = 103\\nvalue = [67, 36]\\nclass = died'),\n",
       " Text(1255.5, 81.53999999999996, 'gini = 0.124\\nsamples = 15\\nvalue = [14, 1]\\nclass = died')]"
      ]
     },
     "execution_count": 106,
     "metadata": {},
     "output_type": "execute_result"
    },
    {
     "data": {
      "image/png": "[encoded data removed]",
      "text/plain": [
       "<Figure size 1728x864 with 1 Axes>"
      ]
     },
     "metadata": {
      "needs_background": "light"
     },
     "output_type": "display_data"
    }
   ],
   "source": [
    "\n",
    "import matplotlib.pyplot as plt\n",
    "plt.figure(figsize=(24, 12))\n",
    "plot_tree(\n",
    "    model2,\n",
    "    feature_names=X_train.columns.tolist(),\n",
    "    class_names=['died', 'survived'],\n",
    ")"
   ]
  },
  {
   "cell_type": "code",
   "execution_count": 107,
   "metadata": {
    "scrolled": false
   },
   "outputs": [
    {
     "data": {
      "text/plain": [
       "pclass        0.141589\n",
       "age           0.064401\n",
       "sibsp         0.000000\n",
       "parch         0.000000\n",
       "fare          0.110152\n",
       "alone         0.000000\n",
       "embarked_Q    0.000000\n",
       "embarked_S    0.000000\n",
       "sex_male      0.683858\n",
       "dtype: float64"
      ]
     },
     "execution_count": 107,
     "metadata": {},
     "output_type": "execute_result"
    }
   ],
   "source": [
    "pd.Series(dict(zip(X_train.columns, model2.feature_importances_)))"
   ]
  },
  {
   "cell_type": "code",
   "execution_count": null,
   "metadata": {},
   "outputs": [],
   "source": [
    "#model Score\n",
    "print(f'training score: {model2.score(X_train, y_train):.2%}')\n",
    "print(f'validate score: {model2.score(X_validate, y_validate):.2%}')"
   ]
  },
  {
   "cell_type": "code",
   "execution_count": null,
   "metadata": {},
   "outputs": [],
   "source": [
    "#add my prediction columns to train \n",
    "train['prediction_2'] = model2.predict(X_train)\n"
   ]
  },
  {
   "cell_type": "code",
   "execution_count": null,
   "metadata": {
    "scrolled": true
   },
   "outputs": [],
   "source": [
    "train.head()"
   ]
  },
  {
   "cell_type": "code",
   "execution_count": null,
   "metadata": {
    "scrolled": true
   },
   "outputs": [],
   "source": [
    "#these are the actual numbers\n",
    "train.survived.value_counts()"
   ]
  },
  {
   "cell_type": "code",
   "execution_count": null,
   "metadata": {
    "scrolled": true
   },
   "outputs": [],
   "source": [
    "#these are the prediction_2 numbers\n",
    "train.prediction_2.value_counts()"
   ]
  },
  {
   "cell_type": "code",
   "execution_count": null,
   "metadata": {},
   "outputs": [],
   "source": [
    "#the rows are the actua because 261 + 46 = 307, \n",
    "confusion_matrix(train.survived, train.prediction_2, labels=(0, 1) )"
   ]
  },
  {
   "cell_type": "code",
   "execution_count": null,
   "metadata": {},
   "outputs": [],
   "source": [
    "cm2= pd.DataFrame ((confusion_matrix(train.survived, train.prediction_2, labels=(0, 1))),index = ['actual_death','actual_survived'], columns =['pred_death','pred_survived' ] )"
   ]
  },
  {
   "cell_type": "code",
   "execution_count": null,
   "metadata": {
    "scrolled": true
   },
   "outputs": [],
   "source": [
    "cm2"
   ]
  },
  {
   "cell_type": "code",
   "execution_count": null,
   "metadata": {
    "scrolled": true
   },
   "outputs": [],
   "source": [
    "df2=pd.DataFrame(classification_report(train.survived, train.prediction_2,output_dict=True))\n",
    "df2"
   ]
  },
  {
   "cell_type": "code",
   "execution_count": null,
   "metadata": {},
   "outputs": [],
   "source": [
    "#accuracy\n",
    "acc_model2 =accuracy_score(train.survived, train.prediction_2)"
   ]
  },
  {
   "cell_type": "code",
   "execution_count": null,
   "metadata": {},
   "outputs": [],
   "source": [
    "#precision\n",
    "prec_model2 =precision_score(train.survived, train.prediction_2, pos_label = 1 )"
   ]
  },
  {
   "cell_type": "code",
   "execution_count": null,
   "metadata": {},
   "outputs": [],
   "source": [
    "#recall\n",
    "rec_model2= recall_score(train.survived, train.prediction_2, pos_label = 1 )"
   ]
  },
  {
   "cell_type": "markdown",
   "metadata": {},
   "source": [
    "### 6. Which model performs better on your in-sample data?"
   ]
  },
  {
   "cell_type": "code",
   "execution_count": null,
   "metadata": {},
   "outputs": [],
   "source": [
    "acc_model1, prec_model1, rec_model1"
   ]
  },
  {
   "cell_type": "code",
   "execution_count": null,
   "metadata": {},
   "outputs": [],
   "source": [
    "acc_model2, prec_model2, rec_model2"
   ]
  },
  {
   "cell_type": "markdown",
   "metadata": {},
   "source": [
    "\n",
    "### 7.Which model performs best on your out-of-sample data, the validate set?"
   ]
  },
  {
   "cell_type": "code",
   "execution_count": null,
   "metadata": {
    "scrolled": true
   },
   "outputs": [],
   "source": [
    "validate.shape"
   ]
  },
  {
   "cell_type": "code",
   "execution_count": null,
   "metadata": {},
   "outputs": [],
   "source": [
    "train.shape"
   ]
  },
  {
   "cell_type": "code",
   "execution_count": null,
   "metadata": {},
   "outputs": [],
   "source": [
    "#accuracy\n",
    "acc_model2 =accuracy_score(validate.survived, train.prediction_2)"
   ]
  },
  {
   "cell_type": "code",
   "execution_count": null,
   "metadata": {},
   "outputs": [],
   "source": [
    "#precision\n",
    "prec_model2 =precision_score(validate.survived, train.prediction_2, pos_label = 1 )"
   ]
  },
  {
   "cell_type": "code",
   "execution_count": null,
   "metadata": {},
   "outputs": [],
   "source": [
    "#recall\n",
    "rec_model2= recall_score(validate.survived, train.prediction_2, pos_label = 1 )"
   ]
  },
  {
   "cell_type": "markdown",
   "metadata": {},
   "source": [
    "# Random Forest"
   ]
  },
  {
   "cell_type": "code",
   "execution_count": null,
   "metadata": {},
   "outputs": [],
   "source": [
    "Fit the Random Forest classifier to your training sample and transform (i.e. make predictions on the training sample) setting the random_state accordingly and setting min_samples_leaf = 1 and max_depth = 10.\n",
    "\n",
    "Evaluate your results using the model score, confusion matrix, and classification report.\n",
    "\n",
    "Print and clearly label the following: Accuracy, true positive rate, false positive rate, true negative rate, false negative rate, precision, recall, f1-score, and support.\n",
    "\n",
    "Run through steps increasing your min_samples_leaf and decreasing your max_depth.\n",
    "\n",
    "What are the differences in the evaluation metrics? Which performs better on your in-sample data? Why?\n",
    "\n",
    "After making a few models, which one has the best performance (or closest metrics) on both train and validate?"
   ]
  }
 ],
 "metadata": {
  "kernelspec": {
   "display_name": "Python 3",
   "language": "python",
   "name": "python3"
  },
  "language_info": {
   "codemirror_mode": {
    "name": "ipython",
    "version": 3
   },
   "file_extension": ".py",
   "mimetype": "text/x-python",
   "name": "python",
   "nbconvert_exporter": "python",
   "pygments_lexer": "ipython3",
   "version": "3.8.5"
  }
 },
 "nbformat": 4,
 "nbformat_minor": 4
}
