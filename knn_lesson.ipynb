{
 "cells": [
  {
   "cell_type": "markdown",
   "metadata": {},
   "source": [
    "# K Nearest Neghbors\n",
    "\n",
    "## Plan\n",
    "\n",
    "1. Algorithm Discussion\n",
    "2. Demo KNN in a single dimension\n",
    "3. Demo in 2 dimensions\n",
    "4. How to choose `k` ? Visualize model performance"
   ]
  },
  {
   "cell_type": "markdown",
   "metadata": {},
   "source": [
    "dsad"
   ]
  },
  {
   "cell_type": "markdown",
   "metadata": {},
   "source": [
    "## K Nearest Neighbors Classifier\n",
    "\n",
    "Makes predictions based off of the closest observations.\n",
    "\n",
    "### Pros\n",
    "\n",
    "- Fast to train\n",
    "- Intuitive\n",
    "- can pick up on arbitrary patterns (unline logit or dtrees)\n",
    "- one assumption: closer points are more similar\n",
    "\n",
    "### Cons\n",
    "\n",
    "- `k` is unknown\n",
    "- Model parameter is the entire training dataset\n",
    "- Prediction can be expensive (lazy)\n",
    "- Because distance is used, scaling can be important\n",
    "- No feature weights\n",
    "\n",
    "### Hyperparams\n",
    "\n",
    "- **k**: `n_neighbors`: closest k datapoints to consider\n",
    "- weights\n",
    "    - uniform: each k closest point's vote has equal weight\n",
    "    - distance: votes are weighted by distance to the new observation\n",
    "- distance metric\n",
    "\n",
    "`n_neighbors` is the hyperparameter we'll most commonly interact with."
   ]
  },
  {
   "cell_type": "markdown",
   "metadata": {},
   "source": [
    "## Review\n",
    "\n",
    "What's a hyperparameter?\n",
    "\n",
    "- A value we choose ahead of time that is **not** learned from the data\n",
    "- `C` in LogisticRegression\n",
    "- `max_depth` in a DecisionTree\n",
    "- `n_estimators` in a RandomForestClassifier\n",
    "- `n_neighbors` in k nearest neighbors\n",
    "\n",
    "What's a parameter?\n",
    "\n",
    "- values \"learned\" from the training data\n",
    "- the information we need to make predictions"
   ]
  },
  {
   "cell_type": "code",
   "execution_count": null,
   "metadata": {},
   "outputs": [],
   "source": [
    "import pandas as pd\n",
    "import numpy as np\n",
    "import seaborn as sns\n",
    "import matplotlib.pyplot as plt\n",
    "import knn_lesson_util as util\n",
    "\n",
    "from sklearn.neighbors import KNeighborsClassifier"
   ]
  },
  {
   "cell_type": "code",
   "execution_count": null,
   "metadata": {},
   "outputs": [],
   "source": [
    "plt.rc('axes', grid=True)\n",
    "plt.rc('figure', figsize=(11, 8.5))\n",
    "plt.rc('axes.spines', top=False, right=False)"
   ]
  },
  {
   "cell_type": "markdown",
   "metadata": {},
   "source": [
    "For the sake of simplicity in the lesson, we're just going to look at train and test.\n",
    "\n",
    "In a real project, what I refer to as test here would be your validate split."
   ]
  },
  {
   "cell_type": "code",
   "execution_count": null,
   "metadata": {},
   "outputs": [],
   "source": [
    "train, test = util.get_ice_cream_data(True)"
   ]
  },
  {
   "cell_type": "code",
   "execution_count": null,
   "metadata": {},
   "outputs": [],
   "source": [
    "train.head(10)"
   ]
  },
  {
   "cell_type": "markdown",
   "metadata": {},
   "source": [
    "## Single Dimension Example"
   ]
  },
  {
   "cell_type": "code",
   "execution_count": null,
   "metadata": {},
   "outputs": [],
   "source": [
    "util.plot_pints(train, test, plot_test=False)"
   ]
  },
  {
   "cell_type": "markdown",
   "metadata": {},
   "source": [
    "## 2d Example"
   ]
  },
  {
   "cell_type": "code",
   "execution_count": null,
   "metadata": {},
   "outputs": [],
   "source": [
    "util.plot_pints_and_sprinkles(train, test, plot_test=False)"
   ]
  },
  {
   "cell_type": "markdown",
   "metadata": {},
   "source": [
    "How do we calculate distance? Euclidean distance\n",
    "\n",
    "$$ \\sqrt{(x_2 - x_1)^2 + (y_2 - y_1)^2} $$"
   ]
  },
  {
   "cell_type": "markdown",
   "metadata": {},
   "source": [
    "## Modeling"
   ]
  },
  {
   "cell_type": "code",
   "execution_count": null,
   "metadata": {},
   "outputs": [],
   "source": [
    "X_train = train[['pints', 'n_sprinkles']]\n",
    "X_test = test[['pints', 'n_sprinkles']]\n",
    "y_train = train.flavor\n",
    "y_test = test.flavor"
   ]
  },
  {
   "cell_type": "code",
   "execution_count": null,
   "metadata": {},
   "outputs": [],
   "source": [
    "knn = KNeighborsClassifier(n_neighbors=1)\n",
    "knn.fit(X_train, y_train)\n",
    "knn.score(X_train, y_train)"
   ]
  },
  {
   "cell_type": "markdown",
   "metadata": {},
   "source": [
    "### How do we choose a value for `k`?\n",
    "\n",
    "- **Measure**\n",
    "- Create models with different values of k and compare the selection of k with that model's accuracy (or performance metric of your choice) (on unseen data!)."
   ]
  },
  {
   "cell_type": "code",
   "execution_count": null,
   "metadata": {},
   "outputs": [],
   "source": [
    "for k in range(1, 13):\n",
    "    knn = KNeighborsClassifier(n_neighbors=k)\n",
    "    knn.fit(X_train, y_train)\n",
    "    accuracy = knn.score(X_test, y_test)\n",
    "    print(f'{k:2d}: {accuracy:.2%}')"
   ]
  },
  {
   "cell_type": "markdown",
   "metadata": {},
   "source": [
    "### Visualize Model"
   ]
  },
  {
   "cell_type": "code",
   "execution_count": null,
   "metadata": {},
   "outputs": [],
   "source": [
    "knn = KNeighborsClassifier(n_neighbors=4)\n",
    "knn.fit(X_train, y_train)\n",
    "\n",
    "train['prediction'] = knn.predict(X_train)\n",
    "train['correct'] = train.prediction == train.flavor\n",
    "\n",
    "util.plot_misses(train)"
   ]
  }
 ],
 "metadata": {
  "kernelspec": {
   "display_name": "Python 3",
   "language": "python",
   "name": "python3"
  },
  "language_info": {
   "codemirror_mode": {
    "name": "ipython",
    "version": 3
   },
   "file_extension": ".py",
   "mimetype": "text/x-python",
   "name": "python",
   "nbconvert_exporter": "python",
   "pygments_lexer": "ipython3",
   "version": "3.8.5"
  }
 },
 "nbformat": 4,
 "nbformat_minor": 4
}
